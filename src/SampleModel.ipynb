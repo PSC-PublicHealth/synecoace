{
 "cells": [
  {
   "cell_type": "code",
   "execution_count": 1,
   "metadata": {
    "collapsed": true
   },
   "outputs": [],
   "source": [
    "import numpy as np\n",
    "import pandas as pd\n",
    "import scipy.stats\n",
    "import matplotlib.pyplot as plt"
   ]
  },
  {
   "cell_type": "code",
   "execution_count": 2,
   "metadata": {
    "collapsed": false
   },
   "outputs": [
    {
     "name": "stdout",
     "output_type": "stream",
     "text": [
      "Index([u'FIPSST', u'HHID', u'FORMTYPE', u'TOTKIDS_R', u'HHLANGUAGE',\n",
      "       u'SC_AGE_YEARS', u'SC_SEX', u'K2Q35A_1_YEARS', u'MOMAGE',\n",
      "       u'K6Q41R_STILL',\n",
      "       ...\n",
      "       u'BIRTHWT', u'CBSAFP_YN', u'FWC', u'CURRINS', u'INSTYPE', u'HOUSE_GEN',\n",
      "       u'HHSIZE_I', u'HHSIZE_IF', u'FPL_IF', u'INSGAP'],\n",
      "      dtype='object', length=422)\n"
     ]
    }
   ],
   "source": [
    "fullDF = pd.read_csv('/home/welling/git/synecoace/data/nsch_2016_topical.csv')\n",
    "print fullDF.columns"
   ]
  },
  {
   "cell_type": "markdown",
   "metadata": {},
   "source": [
    "## The Model ##\n",
    "\n",
    "Consider two sequential ages, say 6 and 7 years.  Given an child at one age, the goal is to produce a *guide function* which can be used to select a collection of children at the other age which as a group describe the most likely match to the original child.  Specifically, given a sample of individuals at one age, the guide function should generate samples at the other age having the highest possible *mutual information* with the first group.\n",
    "\n",
    "The guided samples will be selected by applying *Metropolis sampling* using the guide function.  This requires only that the guide function be positive definite and integrable.  In essense the guide function is proportional to the likelihood that a sampled child at one age matches a specific child at the other age.\n",
    "\n",
    "We will develop an appropriate guide function by defining a function of an appropriate form in terms of a set of weights.  Samples will be drawn based on the given weights, the mutual information will be calculated, and the weights will be updated so as to increase the mutual information.  This process will be repeated until the mutual information is maximized.  The set of weights which produces the maximum mutual information is the optimal choice of weights given the initial choice of form for the guide function."
   ]
  },
  {
   "cell_type": "markdown",
   "metadata": {},
   "source": [
    "## Factors we are using ##\n",
    "* ACE7: experienced violence\n",
    "* ACE8: drugs and alcohol\n",
    "* SC_AGE_YEARS: selected child age\n",
    "* K4Q32X01: vision tested by eye doctor (2.0 -> False)\n",
    "* K7Q30: sports teams\n",
    "* K7Q31: clubs or organizations\n",
    "* FPL: percent of federal poverty level?\n",
    "* AGEPOS4: birth order\n",
    "* FWC: sample weight\n",
    "* YEAR: survey year"
   ]
  },
  {
   "cell_type": "code",
   "execution_count": 3,
   "metadata": {
    "collapsed": false
   },
   "outputs": [
    {
     "name": "stdout",
     "output_type": "stream",
     "text": [
      "28084\n"
     ]
    }
   ],
   "source": [
    "subDF=fullDF[['ACE7', 'ACE8', 'FWC', 'YEAR', 'FPL', 'SC_AGE_YEARS','K4Q32X01', 'K7Q30', 'K7Q31', 'AGEPOS4']]\n",
    "subDF = subDF.dropna()\n",
    "print len(subDF)\n",
    "#print subDF"
   ]
  },
  {
   "cell_type": "code",
   "execution_count": 4,
   "metadata": {
    "collapsed": false
   },
   "outputs": [
    {
     "name": "stdout",
     "output_type": "stream",
     "text": [
      "1768\n",
      "1872\n"
     ]
    }
   ],
   "source": [
    "age6DF = subDF[subDF.SC_AGE_YEARS==6]\n",
    "print len(age6DF)\n",
    "age7DF = subDF[subDF.SC_AGE_YEARS==7]\n",
    "print len(age7DF)"
   ]
  },
  {
   "cell_type": "markdown",
   "metadata": {},
   "source": [
    "Select samples from the table in a weighted fashion"
   ]
  },
  {
   "cell_type": "code",
   "execution_count": 5,
   "metadata": {
    "collapsed": false
   },
   "outputs": [
    {
     "name": "stdout",
     "output_type": "stream",
     "text": [
      "       ACE7  ACE8    YEAR    FPL  SC_AGE_YEARS  K4Q32X01  K7Q30  K7Q31  \\\n",
      "9624    2.0   2.0  2016.0  205.0           6.0       2.0    1.0    1.0   \n",
      "24340   2.0   2.0  2016.0   60.0           6.0       2.0    1.0    1.0   \n",
      "39052   2.0   2.0  2016.0  400.0           6.0       2.0    2.0    2.0   \n",
      "19406   2.0   2.0  2016.0  400.0           6.0       2.0    1.0    1.0   \n",
      "47453   2.0   2.0  2016.0  195.0           6.0       2.0    2.0    2.0   \n",
      "34280   2.0   2.0  2016.0  400.0           6.0       2.0    2.0    2.0   \n",
      "6628    2.0   2.0  2016.0   59.0           6.0       1.0    2.0    2.0   \n",
      "19256   2.0   2.0  2016.0  187.0           6.0       2.0    1.0    2.0   \n",
      "22551   2.0   2.0  2016.0  283.0           6.0       2.0    2.0    2.0   \n",
      "16350   2.0   2.0  2016.0  312.0           6.0       2.0    2.0    2.0   \n",
      "\n",
      "       AGEPOS4  \n",
      "9624       2.0  \n",
      "24340      3.0  \n",
      "39052      2.0  \n",
      "19406      2.0  \n",
      "47453      3.0  \n",
      "34280      1.0  \n",
      "6628       1.0  \n",
      "19256      3.0  \n",
      "22551      2.0  \n",
      "16350      2.0  \n"
     ]
    }
   ],
   "source": [
    "def mkSamps(df, nSamp):\n",
    "    fracWt = df['FWC']/df['FWC'].sum()\n",
    "    choices = np.random.choice(len(df), nSamp, p=fracWt)\n",
    "    return df.iloc[choices].drop(columns=['FWC'])\n",
    "nSamp = 10\n",
    "print mkSamps(age6DF, nSamp)\n"
   ]
  },
  {
   "cell_type": "code",
   "execution_count": 6,
   "metadata": {
    "collapsed": false
   },
   "outputs": [
    {
     "name": "stdout",
     "output_type": "stream",
     "text": [
      "{'K4Q32X01': 5, 'FPL': 3, 'K7Q31': 7, 'K7Q30': 6, 'ACE8': 1, 'YEAR': 2, 'AGEPOS4': 8, 'ACE7': 0, 'SC_AGE_YEARS': 4}\n"
     ]
    }
   ],
   "source": [
    "COLUMN_DICT = {key : idx for idx, key in enumerate(mkSamps(subDF, 1).columns)}\n",
    "print COLUMN_DICT"
   ]
  },
  {
   "cell_type": "markdown",
   "metadata": {},
   "source": [
    "FPL needs to be binned to form a histogram to get the quantization we need for this.  Bins of 50 seems OK."
   ]
  },
  {
   "cell_type": "code",
   "execution_count": 7,
   "metadata": {
    "collapsed": false
   },
   "outputs": [
    {
     "data": {
      "image/png": "[encoded data removed]",
      "text/plain": [
       "<Figure size 432x288 with 1 Axes>"
      ]
     },
     "metadata": {},
     "output_type": "display_data"
    }
   ],
   "source": [
    "fplSamps = mkSamps(subDF, 100000)['FPL']\n",
    "plt.hist(fplSamps, bins=100)\n",
    "plt.title('Histogram of FPL values')\n",
    "plt.show()"
   ]
  },
  {
   "cell_type": "markdown",
   "metadata": {},
   "source": [
    "We need to enumerate the possible states for our variables.  Assume fixed age and ignore the ACE components for the moment.  "
   ]
  },
  {
   "cell_type": "code",
   "execution_count": 8,
   "metadata": {
    "collapsed": false
   },
   "outputs": [],
   "source": [
    "def whichBin(sampV):\n",
    "    \"\"\"\n",
    "    Input is an ndarray of sample values\n",
    "    \"\"\"\n",
    "    fplBinWidth = 50\n",
    "    fplMin = 50\n",
    "    bin = np.abs((sampV[:, COLUMN_DICT['FPL']] - fplMin) // 50).astype('int')\n",
    "    assert (bin >= 0).all() and (bin < 8).all(), 'FPL out of range?'\n",
    "    nBins = 8\n",
    "    # Each of the following is either 1.0 or 2.0\n",
    "    bin = 2 * bin + (sampV[:, COLUMN_DICT['K4Q32X01']] == 1.0)\n",
    "    nBins *= 2\n",
    "    bin = 2 * bin + (sampV[:, COLUMN_DICT['K7Q30']] == 1.0)\n",
    "    nBins *= 2\n",
    "    bin = 2 * bin + (sampV[:, COLUMN_DICT['K7Q31']] == 1.0)\n",
    "    nBins *= 2\n",
    "    return bin, nBins\n",
    "\n",
    "def scatter(idx, vals, target):\n",
    "    \"\"\"target[idx] += vals, but allowing for repeats in idx\"\"\"\n",
    "    np.add.at(target, idx.ravel(), vals.ravel())\n"
   ]
  },
  {
   "cell_type": "code",
   "execution_count": 9,
   "metadata": {
    "collapsed": true
   },
   "outputs": [],
   "source": [
    "def toHisto(sampV):\n",
    "    \"\"\"Generate a histogram of sample bins\"\"\"\n",
    "    binV, nBins = whichBin(sampV)\n",
    "    targ = np.zeros([nBins], dtype=np.int32)\n",
    "    vals = np.ones([len(sampV)], dtype=np.int32)\n",
    "    scatter(binV, vals, targ)\n",
    "    return targ"
   ]
  },
  {
   "cell_type": "code",
   "execution_count": 10,
   "metadata": {
    "collapsed": true
   },
   "outputs": [],
   "source": [
    "def toProbV(sampV):\n",
    "    sampH = toHisto(sampV)\n",
    "    probV = sampH.astype(np.float64)\n",
    "    probV /= np.sum(probV)\n",
    "    return probV"
   ]
  },
  {
   "cell_type": "code",
   "execution_count": 11,
   "metadata": {
    "collapsed": false
   },
   "outputs": [
    {
     "name": "stdout",
     "output_type": "stream",
     "text": [
      "Index([u'ACE7', u'ACE8', u'YEAR', u'FPL', u'SC_AGE_YEARS', u'K4Q32X01',\n",
      "       u'K7Q30', u'K7Q31', u'AGEPOS4'],\n",
      "      dtype='object')\n",
      "3\n",
      "[ 47   9  16  11  52  13  22  36   8  10   8  12  31  17  11  18  25   5\n",
      "   9  10  18  11  12  21   6   1   5  13  16   5  12  16   7   2   8  11\n",
      "  12   2   8  11   3   0   1  17   7   7  13  14   6   3   3   7   2   5\n",
      "   4  17  12  16  31  68  26  22  25 124]\n",
      "[0.047 0.009 0.016 0.011 0.052 0.013 0.022 0.036 0.008 0.01  0.008 0.012\n",
      " 0.031 0.017 0.011 0.018 0.025 0.005 0.009 0.01  0.018 0.011 0.012 0.021\n",
      " 0.006 0.001 0.005 0.013 0.016 0.005 0.012 0.016 0.007 0.002 0.008 0.011\n",
      " 0.012 0.002 0.008 0.011 0.003 0.    0.001 0.017 0.007 0.007 0.013 0.014\n",
      " 0.006 0.003 0.003 0.007 0.002 0.005 0.004 0.017 0.012 0.016 0.031 0.068\n",
      " 0.026 0.022 0.025 0.124]\n"
     ]
    }
   ],
   "source": [
    "sampV = mkSamps(subDF, 1000)\n",
    "print sampV.columns\n",
    "print COLUMN_DICT['FPL']\n",
    "sampH = toHisto(sampV.values)\n",
    "print sampH\n",
    "probV = toProbV(sampV.values)\n",
    "print probV"
   ]
  },
  {
   "cell_type": "markdown",
   "metadata": {},
   "source": [
    "Given the probV we can calculate mutual information:\n",
    "$$\n",
    "I(X;Y) = \\sum_{y \\in Y} \\sum_{x \\in X} p(x, y) log \\left (\\frac{p(x,y)}{p(x)p(y)} \\right )\n",
    "$$"
   ]
  },
  {
   "cell_type": "code",
   "execution_count": 12,
   "metadata": {
    "collapsed": false
   },
   "outputs": [
    {
     "name": "stdout",
     "output_type": "stream",
     "text": [
      "0.5712178158078175\n",
      "3.788205479578413\n",
      "3.7778078507964574\n"
     ]
    }
   ],
   "source": [
    "def mutualInfo(sampVX, sampVY):\n",
    "    assert len(sampVX) == len(sampVY), 'Sample vector lengths do not match'\n",
    "    binVX, nBinsX = whichBin(sampVX)\n",
    "    binVY, nBinsY = whichBin(sampVY)\n",
    "    assert nBinsX == nBinsY, 'Unexpectedly got different bin counts?'\n",
    "    cA = np.zeros([nBinsX, nBinsX], dtype=np.int32)\n",
    "    idxV = np.ravel_multi_index(np.array([binVX, binVY]), (nBinsX, nBinsX))\n",
    "    np.add.at(cA.ravel(), idxV, np.ones(len(idxV), dtype=np.int32).ravel())\n",
    "    pA = cA.astype(np.float32)\n",
    "    pA /= sum(pA.ravel())\n",
    "    xPV = toProbV(sampVX)\n",
    "    yPV = toProbV(sampVY)\n",
    "    xyPA = np.einsum('i,j->ij', xPV, yPV)  # einsum is my new favorite function\n",
    "    oldErr = np.seterr(invalid='ignore', divide='ignore')\n",
    "    prodA = pA * np.nan_to_num(np.log(pA / xyPA))  # element-wise calculation\n",
    "    np.seterr(**oldErr)\n",
    "    return np.sum(prodA.ravel())\n",
    "\n",
    "sampX = mkSamps(subDF, 3000)\n",
    "sampY = mkSamps(subDF, 3000)\n",
    "print mutualInfo(sampX.values, sampY.values)\n",
    "print mutualInfo(sampX.values, sampX.values)\n",
    "print mutualInfo(sampY.values, sampY.values)"
   ]
  },
  {
   "cell_type": "code",
   "execution_count": 13,
   "metadata": {
    "collapsed": false
   },
   "outputs": [],
   "source": [
    "########\n",
    "# This implementation (from stackoverflow) produces the same MI values as the one above\n",
    "# stackoverflow.com/questions/20491028/optimal-way-to-compute-pairwise-mutual-information-using-numpy\n",
    "########\n",
    "#from scipy.stats import chi2_contingency\n",
    "#\n",
    "#def calc_MI(x, y, bins):\n",
    "#    c_xy = np.histogram2d(x, y, bins)[0]\n",
    "#    g, p, dof, expected = chi2_contingency(c_xy, lambda_=\"log-likelihood\")\n",
    "#    mi = 0.5 * g / c_xy.sum()\n",
    "#    return mi\n",
    "#\n",
    "#def mutualInfo(sampVX, sampVY):\n",
    "#    assert len(sampVX) == len(sampVY), 'Sample vector lengths do not match'\n",
    "#    binVX, nBinsX = whichBin(sampVX)\n",
    "#    binVY, nBinsY = whichBin(sampVY)\n",
    "#    assert nBinsX == nBinsY, 'Unexpectedly got different bin counts?'\n",
    "#    return calc_MI(binVX, binVY, nBinsX)\n",
    "#\n",
    "#print mutualInfo(sampX.values, sampY.values)\n",
    "#print mutualInfo(sampX.values, sampX.values)\n",
    "#print mutualInfo(sampY.values, sampY.values)"
   ]
  },
  {
   "cell_type": "markdown",
   "metadata": {},
   "source": [
    "Define a scalar function on a pair of samples and a weight vector"
   ]
  },
  {
   "cell_type": "code",
   "execution_count": 14,
   "metadata": {
    "collapsed": false
   },
   "outputs": [
    {
     "name": "stdout",
     "output_type": "stream",
     "text": [
      "YEAR            1.0000\n",
      "FPL             0.0001\n",
      "SC_AGE_YEARS    1.0000\n",
      "K4Q32X01        1.0000\n",
      "K7Q30           1.0000\n",
      "K7Q31           1.0000\n",
      "AGEPOS4         1.0000\n",
      "dtype: float64\n",
      "[1.e+00 1.e-04 1.e+00 1.e+00 1.e+00 1.e+00 1.e+00]\n",
      "Index([u'YEAR', u'FPL', u'SC_AGE_YEARS', u'K4Q32X01', u'K7Q30', u'K7Q31',\n",
      "       u'AGEPOS4'],\n",
      "      dtype='object')\n"
     ]
    }
   ],
   "source": [
    "wtSer = pd.Series({'YEAR': 1.0,\n",
    "                   'FPL':1.0e-4,  # because it's percent\n",
    "                   'SC_AGE_YEARS': 1.0, \n",
    "                   'K4Q01': 1.0, \n",
    "                   'K4Q32X01': 1.0,\n",
    "                   'K7Q30':1.0,\n",
    "                   'K7Q31': 1.0,\n",
    "                   'AGEPOS4': 1.0}, index=subDF.columns)\n",
    "wtSer = wtSer.drop(labels=['ACE7', 'ACE8', 'FWC'])  # get the right index order but no extra entries\n",
    "print wtSer\n",
    "print wtSer.values\n",
    "print wtSer.index"
   ]
  },
  {
   "cell_type": "code",
   "execution_count": 15,
   "metadata": {
    "collapsed": false
   },
   "outputs": [],
   "source": [
    "def funV(samps1V, samps2V, wtSerV):\n",
    "    \"\"\"\n",
    "    Returns a numpy vector the columns of which correspond to the input samples\n",
    "    \"\"\"\n",
    "    wtA = wtSerV\n",
    "    #print wtA.shape\n",
    "    #print samps1V.shape\n",
    "    offset = samps1V.shape[1] - wtSerV.shape[0]\n",
    "    #print offset\n",
    "    samp1A = samps1V[:, offset:]\n",
    "    samp2A = samps2V[:, offset:]\n",
    "    delta = samp1A - samp2A\n",
    "    print 'delta', delta\n",
    "    delta *= delta\n",
    "    print 'delta^2', delta\n",
    "    return np.exp(-np.asmatrix(wtA) * np.asmatrix(delta).transpose())\n",
    "    "
   ]
  },
  {
   "cell_type": "code",
   "execution_count": 16,
   "metadata": {
    "collapsed": false
   },
   "outputs": [],
   "source": [
    "def lnLik(samps1V, samps2V, wtSerV):\n",
    "    \"\"\"\n",
    "    funV has the right shape to fill the role of likelihood in the Metropolis algorithm.  We'll\n",
    "    take the log, and use it as a log likelihood.\n",
    "    \"\"\"\n",
    "    wtA = wtSerV\n",
    "    offset = samps1V.shape[1] - wtSer.shape[0]\n",
    "    samp1A = samps1V[:, offset:]\n",
    "    samp2A = samps2V[:, offset:]\n",
    "    delta = samp1A - samp2A\n",
    "    delta *= delta\n",
    "    return np.asarray((-np.asmatrix(wtA) * np.asmatrix(delta).transpose())).reshape((-1, 1))\n",
    "    "
   ]
  },
  {
   "cell_type": "code",
   "execution_count": 17,
   "metadata": {
    "collapsed": false
   },
   "outputs": [
    {
     "name": "stdout",
     "output_type": "stream",
     "text": [
      "delta [[  0. 128.  -2.   0.  -1.  -1.  -1.]\n",
      " [  0. -55.  -1.   0.   0.  -1.   1.]\n",
      " [  0.   0.  -4.   0.   0.   0.   0.]]\n",
      "delta^2 [[0.0000e+00 1.6384e+04 4.0000e+00 0.0000e+00 1.0000e+00 1.0000e+00\n",
      "  1.0000e+00]\n",
      " [0.0000e+00 3.0250e+03 1.0000e+00 0.0000e+00 0.0000e+00 1.0000e+00\n",
      "  1.0000e+00]\n",
      " [0.0000e+00 0.0000e+00 1.6000e+01 0.0000e+00 0.0000e+00 0.0000e+00\n",
      "  0.0000e+00]]\n",
      "[[1.77170148e-04 3.67910746e-02 1.12535175e-07]]\n",
      "[[ -7.7569]\n",
      " [-39.5876]\n",
      " [-41.0081]]\n"
     ]
    }
   ],
   "source": [
    "print funV(mkSamps(subDF, 3).values, mkSamps(subDF, 3).values, wtSer)\n",
    "llk = lnLik(mkSamps(subDF, 3).values, mkSamps(subDF, 3).values, wtSer)\n",
    "print llk\n"
   ]
  },
  {
   "cell_type": "code",
   "execution_count": 18,
   "metadata": {
    "collapsed": true
   },
   "outputs": [],
   "source": [
    "# Now we need a mutator\n",
    "def mutate(sampV, df, stepSzV):\n",
    "    \"\"\"\n",
    "    Return a 'mutated' version of sampV, based on the given step sizes.  Unfortunately our samples\n",
    "    are discrete and come from a table, so I'm not sure how to do this unless we first generate\n",
    "    a proximity network of some sort, so for the moment let's just generate a new set of samples-\n",
    "    this corresponds to an infinitely wide mutator.\n",
    "    \"\"\"\n",
    "    return mkSamps(df, len(sampV)).values"
   ]
  },
  {
   "cell_type": "code",
   "execution_count": 19,
   "metadata": {
    "collapsed": false
   },
   "outputs": [],
   "source": [
    "# And now we can write the Metropolis code.\n",
    "# Thanks to https://python4mpia.github.io/fitting_data/Metropolis-Hastings.html\n",
    "# initial guess for alpha as array.\n",
    "\n",
    "nSamp = 100\n",
    "testSamps = mkSamps(age6DF, nSamp)\n",
    "guess = mkSamps(age7DF, nSamp)\n",
    "# Prepare storing MCMC chain as array of arrays.\n",
    "A = [guess.values]\n",
    "# define stepsize of MCMC.\n",
    "stepsizes = np.empty([nSamp])\n",
    "stepsizes.fill(0.005)\n",
    "nIter = 10000"
   ]
  },
  {
   "cell_type": "code",
   "execution_count": 20,
   "metadata": {
    "collapsed": false
   },
   "outputs": [
    {
     "name": "stdout",
     "output_type": "stream",
     "text": [
      "0: 2.2400920629347065\n",
      "100: 2.0744289579935984\n",
      "200: 2.151502871156659\n",
      "300: 2.2223130067248023\n",
      "400: 1.9896472630764466\n",
      "500: 2.045139591391698\n",
      "600: 2.108239571541862\n",
      "700: 2.288818309421803\n",
      "800: 2.208678155311185\n",
      "900: 2.0362895236518215\n",
      "1000: 2.2724692058946845\n",
      "1100: 1.9135556049492213\n",
      "1200: 2.2254699882622626\n",
      "1300: 2.186455372079041\n",
      "1400: 2.237047215350417\n",
      "1500: 2.136095467555476\n",
      "1600: 2.23380926564041\n",
      "1700: 2.3176791401233854\n",
      "1800: 2.0708519266843117\n",
      "1900: 2.111347511840931\n",
      "2000: 2.130393895224568\n",
      "2100: 2.279676800515012\n",
      "2200: 2.0916218210171236\n",
      "2300: 2.262517407278922\n",
      "2400: 2.1748770007492753\n",
      "2500: 2.192220435736396\n",
      "2600: 2.1908550260858806\n",
      "2700: 2.228015723297322\n",
      "2800: 2.2644199688774256\n",
      "2900: 2.0032166481113953\n",
      "3000: 2.2926590195057193\n",
      "3100: 2.1058428656171198\n",
      "3200: 2.2122981153942605\n",
      "3300: 2.0557836046824085\n",
      "3400: 2.213571555032596\n",
      "3500: 2.0090744274108747\n",
      "3600: 2.258096616473229\n",
      "3700: 2.1753807057885393\n",
      "3800: 2.11901359424351\n",
      "3900: 2.015558930641908\n",
      "4000: 2.013014050782183\n",
      "4100: 2.088852962317334\n",
      "4200: 2.3925163783116536\n",
      "4300: 2.170888336139576\n",
      "4400: 2.264240918228096\n",
      "4500: 2.142159921014683\n",
      "4600: 2.28431859788596\n",
      "4700: 2.101975793946945\n",
      "4800: 2.0219729911341444\n",
      "4900: 2.1861357087908084\n",
      "5000: 2.2316847246187885\n",
      "5100: 2.1211487384930976\n",
      "5200: 2.22835366065499\n",
      "5300: 2.009234458360825\n",
      "5400: 2.0423418553945085\n",
      "5500: 2.1207811782080848\n",
      "5600: 2.2524546189516004\n",
      "5700: 2.261646141954645\n",
      "5800: 2.1591020368630796\n",
      "5900: 2.1707092854902466\n",
      "6000: 2.201112060780532\n",
      "6100: 2.1956184163963535\n",
      "6200: 2.1127319411908254\n",
      "6300: 2.2649331329030433\n",
      "6400: 2.229158009283108\n",
      "6500: 2.3444227716902257\n",
      "6600: 2.098205261900273\n",
      "6700: 2.2020122034022087\n",
      "6800: 2.1005434676002706\n",
      "6900: 2.300016041848031\n",
      "7000: 2.1639334881113226\n",
      "7100: 2.18077321805918\n",
      "7200: 2.102206259498554\n",
      "7300: 2.1632412734363755\n",
      "7400: 2.248543474266025\n",
      "7500: 2.294092490094005\n",
      "7600: 2.110233704540878\n",
      "7700: 2.2461277486419036\n",
      "7800: 2.3065219628070572\n",
      "7900: 2.209912012697483\n",
      "8000: 2.1956184163963535\n",
      "8100: 2.221219761977408\n",
      "8200: 2.233828285339789\n",
      "8300: 2.1087527355674798\n",
      "8400: 2.197855091371146\n",
      "8500: 2.179228757759335\n",
      "8600: 2.1661355490570684\n",
      "8700: 2.2444127238212204\n",
      "8800: 2.1821861260948077\n",
      "8900: 2.1513238205073297\n",
      "9000: 2.209210339036182\n",
      "9100: 2.107547356866915\n",
      "9200: 2.1829167787801804\n",
      "9300: 2.164383559422161\n",
      "9400: 2.228465794608161\n",
      "9500: 2.159581731101263\n",
      "9600: 2.2174196070033916\n",
      "9700: 2.0839401442848766\n",
      "9800: 2.1765720330127163\n",
      "9900: 1.994097676809484\n"
     ]
    },
    {
     "data": {
      "image/png": "[encoded data removed]",
      "text/plain": [
       "<Figure size 432x288 with 1 Axes>"
      ]
     },
     "metadata": {},
     "output_type": "display_data"
    },
    {
     "data": {
      "image/png": "[encoded data removed]",
      "text/plain": [
       "<Figure size 432x288 with 1 Axes>"
      ]
     },
     "metadata": {},
     "output_type": "display_data"
    }
   ],
   "source": [
    "# Metropolis-Hastings with nIter iterations.\n",
    "accepted  = np.zeros([nSamp, 1], dtype=np.int)\n",
    "onesV = np.ones([nSamp], dtype=np.int).reshape((-1, 1))\n",
    "zerosV = np.zeros([nSamp], dtype=np.int).reshape((-1, 1))\n",
    "for n in range(nIter):\n",
    "    oldAlpha  = A[-1]  # old parameter value as array\n",
    "    oldLnLik = lnLik(testSamps.values, oldAlpha, wtSer)\n",
    "    newAlpha = mutate(oldAlpha, age7DF, stepsizes)\n",
    "    newLnLik = lnLik(testSamps.values, newAlpha, wtSer)\n",
    "    if (n % 100 == 0):\n",
    "        print '%s: %s' % (n, mutualInfo(testSamps.values, newAlpha))\n",
    "    choices = np.logical_or(newLnLik > oldLnLik,\n",
    "                            np.random.random(newLnLik.shape) < np.exp(newLnLik - oldLnLik))\n",
    "    rslt = np.choose(choices, [oldAlpha, newAlpha])\n",
    "    A.append(rslt)\n",
    "    accepted += np.choose(choices, [zerosV, onesV])\n",
    "\n",
    "plt.hist(accepted)\n",
    "acceptanceRate = accepted/float(nIter)\n",
    "plt.show()\n",
    "plt.hist(acceptanceRate)\n",
    "plt.show()"
   ]
  },
  {
   "cell_type": "code",
   "execution_count": 21,
   "metadata": {
    "collapsed": false
   },
   "outputs": [
    {
     "name": "stdout",
     "output_type": "stream",
     "text": [
      "67 149 1490\n"
     ]
    }
   ],
   "source": [
    "nKeep = accepted.min()/10  # 10 mutations between samples to avoid correlation\n",
    "keepStep = nIter//nKeep\n",
    "burnIn = 10 * keepStep\n",
    "print nKeep, keepStep, burnIn\n",
    "assert burnIn < nIter, 'Not enough iterations for burn-in'\n",
    "clean = []\n",
    "for idx, sV in enumerate(A[burnIn:]):\n",
    "    if idx % keepStep == 0:\n",
    "        clean.append(sV)\n"
   ]
  },
  {
   "cell_type": "code",
   "execution_count": 22,
   "metadata": {
    "collapsed": false
   },
   "outputs": [
    {
     "name": "stdout",
     "output_type": "stream",
     "text": [
      "(100, 9)\n",
      "58\n",
      "(5800, 4)\n",
      "[[1.400e+01 1.400e+01 1.400e+01 1.400e+01]\n",
      " [2.000e+00 2.000e+00 2.016e+03 4.000e+02]\n",
      " [2.000e+00 2.000e+00 2.016e+03 4.000e+02]\n",
      " ...\n",
      " [2.000e+00 2.000e+00 2.016e+03 1.770e+02]\n",
      " [2.000e+00 2.000e+00 2.016e+03 4.000e+02]\n",
      " [2.000e+00 2.000e+00 2.016e+03 1.360e+02]]\n"
     ]
    }
   ],
   "source": [
    "newClean = []\n",
    "print clean[0].shape\n",
    "print len(clean)\n",
    "for sV in clean:\n",
    "    sV[0] = 14\n",
    "    newClean.append(sV[:,0:4])\n",
    "#clean = newClean\n",
    "print np.concatenate(newClean).shape\n",
    "\n",
    "print np.concatenate(newClean)\n"
   ]
  },
  {
   "cell_type": "code",
   "execution_count": 23,
   "metadata": {
    "collapsed": false
   },
   "outputs": [],
   "source": [
    "cleanV = np.concatenate(clean)\n"
   ]
  },
  {
   "cell_type": "code",
   "execution_count": 24,
   "metadata": {
    "collapsed": false
   },
   "outputs": [
    {
     "name": "stdout",
     "output_type": "stream",
     "text": [
      "0.18951005590752787\n",
      "0.20297485652560024\n",
      "3.2884672209416523\n",
      "3.5291158830221514\n"
     ]
    }
   ],
   "source": [
    "expandedTestV = np.repeat(testSamps.values, len(clean), axis=0)\n",
    "#print expandedTestV\n",
    "print mutualInfo(expandedTestV, cleanV)\n",
    "print mutualInfo(expandedTestV, mkSamps(age7DF, cleanV.shape[0]).values)\n",
    "print mutualInfo(expandedTestV, expandedTestV)\n",
    "print mutualInfo(cleanV, cleanV)"
   ]
  },
  {
   "cell_type": "code",
   "execution_count": 25,
   "metadata": {
    "collapsed": false
   },
   "outputs": [
    {
     "data": {
      "image/png": "[encoded data removed]",
      "text/plain": [
       "<Figure size 432x288 with 1 Axes>"
      ]
     },
     "metadata": {},
     "output_type": "display_data"
    },
    {
     "name": "stdout",
     "output_type": "stream",
     "text": [
      "[16 16 16 ... 12 12 12]\n",
      "[ 8 62 59 ... 22 59 12]\n"
     ]
    },
    {
     "data": {
      "image/png": "[encoded data removed]",
      "text/plain": [
       "<Figure size 432x288 with 1 Axes>"
      ]
     },
     "metadata": {},
     "output_type": "display_data"
    }
   ],
   "source": [
    "testBins, nBins = whichBin(testSamps.values)\n",
    "rsltBins = whichBin(clean[0])[0]\n",
    "hM, xEdges, yEdges = np.histogram2d(testBins, rsltBins, bins=64)\n",
    "plt.imshow(np.log(hM + 1))\n",
    "plt.show()\n",
    "longTestBins = whichBin(expandedTestV)[0]\n",
    "print longTestBins\n",
    "longRsltBins = whichBin(cleanV)[0]\n",
    "print longRsltBins\n",
    "hM, xEdges, yEdges = np.histogram2d(longTestBins, longRsltBins, bins=64)\n",
    "plt.imshow(np.log(hM + 1))\n",
    "plt.show()"
   ]
  },
  {
   "cell_type": "markdown",
   "metadata": {},
   "source": [
    "## Ignore the rest of this ##\n",
    "These bits are just left-overs"
   ]
  },
  {
   "cell_type": "code",
   "execution_count": 26,
   "metadata": {
    "collapsed": false
   },
   "outputs": [
    {
     "name": "stdout",
     "output_type": "stream",
     "text": [
      "      AGEPOS4  FPL  K4Q01  K4Q32X01  K7Q30  K7Q31  SC_AGE_YEARS\n",
      "ACE7      1.0  1.0    1.0       1.0    1.0    1.0           1.0\n",
      "ACE8      1.0  1.0    1.0       1.0    1.0    1.0           1.0\n"
     ]
    }
   ],
   "source": [
    "wtDF = pd.DataFrame({'FPL':[1.0, 1.0], 'SC_AGE_YEARS': [1.0, 1.0], 'K4Q01': [1.0, 1.0], 'K4Q32X01': [1.0, 1.0],\n",
    "       'K7Q30':[1.0, 1.0], 'K7Q31': [1.0, 1.0], 'AGEPOS4': [1.0, 1.0]}, index=['ACE7', 'ACE8'])\n",
    "print wtDF"
   ]
  },
  {
   "cell_type": "code",
   "execution_count": 27,
   "metadata": {
    "collapsed": false
   },
   "outputs": [],
   "source": [
    "def funV(samps1, samps2, wtDF):\n",
    "    \"\"\"\n",
    "    Returns a numpy matrix the rows of which correspond to ACE7 and ACE8 and\n",
    "    the columns of which correspond to the input samples\n",
    "    \"\"\"\n",
    "    wtA = wtDF.values\n",
    "    offset = samps1.values.shape[1] - wtDF.values.shape[1]\n",
    "    samp1A = samps1.values[:, offset:]\n",
    "    samp2A = samps2.values[:, offset:]\n",
    "    delta = samp1A - samp2A\n",
    "    return np.asmatrix(wtA) * np.asmatrix(delta).transpose()\n",
    "    "
   ]
  },
  {
   "cell_type": "code",
   "execution_count": 28,
   "metadata": {
    "collapsed": false
   },
   "outputs": [
    {
     "name": "stdout",
     "output_type": "stream",
     "text": [
      "[[  32. -213. -104.]\n",
      " [  32. -213. -104.]]\n"
     ]
    }
   ],
   "source": [
    "print funV(mkSamps(subDF, 3), mkSamps(subDF, 3), wtDF)"
   ]
  },
  {
   "cell_type": "markdown",
   "metadata": {
    "collapsed": true
   },
   "source": [
    "$\\mathcal L(\\{M_1,M_2,\\ldots,M_N\\};\\alpha) = \\prod_{n=1}^N p(M_n|\\alpha) = \\prod_{n=1}^N c\\left(\\frac{M_n}{M_\\odot}\\right)^{-\\alpha}$"
   ]
  },
  {
   "cell_type": "code",
   "execution_count": null,
   "metadata": {
    "collapsed": true
   },
   "outputs": [],
   "source": []
  }
 ],
 "metadata": {
  "kernelspec": {
   "display_name": "Python2 (myenv)",
   "language": "python",
   "name": "myenv"
  },
  "language_info": {
   "codemirror_mode": {
    "name": "ipython",
    "version": 2
   },
   "file_extension": ".py",
   "mimetype": "text/x-python",
   "name": "python",
   "nbconvert_exporter": "python",
   "pygments_lexer": "ipython2",
   "version": "2.7.12"
  }
 },
 "nbformat": 4,
 "nbformat_minor": 2
}
