{
 "cells": [
  {
   "cell_type": "code",
   "execution_count": 1,
   "metadata": {
    "collapsed": true
   },
   "outputs": [],
   "source": [
    "import numpy as np\n",
    "import pandas as pd\n",
    "import scipy.stats\n",
    "import matplotlib.pyplot as plt"
   ]
  },
  {
   "cell_type": "code",
   "execution_count": 2,
   "metadata": {},
   "outputs": [
    {
     "name": "stdout",
     "output_type": "stream",
     "text": [
      "Index([u'FIPSST', u'HHID', u'FORMTYPE', u'TOTKIDS_R', u'HHLANGUAGE',\n",
      "       u'SC_AGE_YEARS', u'SC_SEX', u'K2Q35A_1_YEARS', u'MOMAGE',\n",
      "       u'K6Q41R_STILL',\n",
      "       ...\n",
      "       u'BIRTHWT', u'CBSAFP_YN', u'FWC', u'CURRINS', u'INSTYPE', u'HOUSE_GEN',\n",
      "       u'HHSIZE_I', u'HHSIZE_IF', u'FPL_IF', u'INSGAP'],\n",
      "      dtype='object', length=422)\n"
     ]
    }
   ],
   "source": [
    "fullDF = pd.read_csv('/home/welling/git/synecoace/data/nsch_2016_topical.csv')\n",
    "print fullDF.columns"
   ]
  },
  {
   "cell_type": "code",
   "execution_count": 3,
   "metadata": {},
   "outputs": [
    {
     "name": "stdout",
     "output_type": "stream",
     "text": [
      "['FIPSST']\n",
      "0        18\n",
      "1        17\n",
      "2        50\n",
      "3        51\n",
      "4        53\n",
      "5         9\n",
      "6        47\n",
      "7        46\n",
      "8        30\n",
      "9        34\n",
      "10       46\n",
      "11       31\n",
      "12       42\n",
      "13       19\n",
      "14       36\n",
      "15       27\n",
      "16       12\n",
      "17       54\n",
      "18       26\n",
      "19        8\n",
      "20       48\n",
      "21       55\n",
      "22       26\n",
      "23       19\n",
      "24       32\n",
      "25       38\n",
      "26       23\n",
      "27       33\n",
      "28       22\n",
      "29       33\n",
      "         ..\n",
      "50182    15\n",
      "50183     6\n",
      "50184    16\n",
      "50185    21\n",
      "50186    12\n",
      "50187    26\n",
      "50188    19\n",
      "50189    26\n",
      "50190    11\n",
      "50191    33\n",
      "50192    30\n",
      "50193    26\n",
      "50194    27\n",
      "50195     4\n",
      "50196    56\n",
      "50197    50\n",
      "50198    24\n",
      "50199    42\n",
      "50200    26\n",
      "50201    55\n",
      "50202    56\n",
      "50203    38\n",
      "50204    11\n",
      "50205    28\n",
      "50206    40\n",
      "50207     2\n",
      "50208    15\n",
      "50209    50\n",
      "50210    31\n",
      "50211    37\n",
      "Name: FIPSST, Length: 50212, dtype: int64\n"
     ]
    }
   ],
   "source": [
    "# We need to restrict FIPS code to 45\n",
    "print [col for col in fullDF.columns if 'FIP' in col]\n",
    "print fullDF['FIPSST']"
   ]
  },
  {
   "cell_type": "markdown",
   "metadata": {},
   "source": [
    "## The Model ##\n",
    "\n",
    "Consider two sequential ages, say 6 and 7 years.  Given an child at one age, the goal is to produce a *guide function* which can be used to select a collection of children at the other age which as a group describe the most likely match to the original child.  Specifically, given a sample of individuals at one age, the guide function should generate samples at the other age having the highest possible *mutual information* with the first group.\n",
    "\n",
    "The guided samples will be selected by applying *Metropolis sampling* using the guide function.  This requires only that the guide function be positive definite and integrable.  In essense the guide function is proportional to the likelihood that a sampled child at one age matches a specific child at the other age.\n",
    "\n",
    "We will develop an appropriate guide function by defining a function of an appropriate form in terms of a set of weights.  Samples will be drawn based on the given weights, the mutual information will be calculated, and the weights will be updated so as to increase the mutual information.  This process will be repeated until the mutual information is maximized.  The set of weights which produces the maximum mutual information is the optimal choice of weights given the initial choice of form for the guide function."
   ]
  },
  {
   "cell_type": "markdown",
   "metadata": {},
   "source": [
    "## Factors we are using ##\n",
    "* ACE7: experienced violence\n",
    "* ACE8: drugs and alcohol\n",
    "* SC_AGE_YEARS: selected child age\n",
    "* K4Q32X01: vision tested by eye doctor (2.0 -> False)\n",
    "* K7Q30: sports teams\n",
    "* K7Q31: clubs or organizations\n",
    "* FPL: percent of federal poverty level?\n",
    "* AGEPOS4: birth order\n",
    "* FWC: sample weight\n",
    "* YEAR: survey year"
   ]
  },
  {
   "cell_type": "code",
   "execution_count": 4,
   "metadata": {},
   "outputs": [
    {
     "name": "stdout",
     "output_type": "stream",
     "text": [
      "28084\n"
     ]
    }
   ],
   "source": [
    "subDF=fullDF[['ACE7', 'ACE8', 'FWC', 'YEAR', 'FPL', 'SC_AGE_YEARS','K4Q32X01', 'K7Q30', 'K7Q31', 'AGEPOS4']]\n",
    "subDF = subDF.dropna()\n",
    "print len(subDF)\n",
    "#print subDF"
   ]
  },
  {
   "cell_type": "code",
   "execution_count": 5,
   "metadata": {},
   "outputs": [
    {
     "name": "stdout",
     "output_type": "stream",
     "text": [
      "1768\n",
      "1872\n"
     ]
    }
   ],
   "source": [
    "age6DF = subDF[subDF.SC_AGE_YEARS==6]\n",
    "print len(age6DF)\n",
    "age7DF = subDF[subDF.SC_AGE_YEARS==7]\n",
    "print len(age7DF)"
   ]
  },
  {
   "cell_type": "markdown",
   "metadata": {},
   "source": [
    "Select samples from the table in a weighted fashion"
   ]
  },
  {
   "cell_type": "code",
   "execution_count": 6,
   "metadata": {},
   "outputs": [
    {
     "name": "stdout",
     "output_type": "stream",
     "text": [
      "       ACE7  ACE8    YEAR    FPL  SC_AGE_YEARS  K4Q32X01  K7Q30  K7Q31  \\\n",
      "7561    2.0   2.0  2016.0  400.0           6.0       2.0    2.0    2.0   \n",
      "17930   2.0   2.0  2016.0  250.0           6.0       2.0    1.0    1.0   \n",
      "33682   2.0   2.0  2016.0   90.0           6.0       2.0    2.0    2.0   \n",
      "20989   2.0   2.0  2016.0  400.0           6.0       2.0    1.0    2.0   \n",
      "40040   2.0   2.0  2016.0  231.0           6.0       1.0    2.0    2.0   \n",
      "16585   2.0   2.0  2016.0  400.0           6.0       1.0    1.0    1.0   \n",
      "49868   2.0   2.0  2016.0  374.0           6.0       2.0    1.0    1.0   \n",
      "25014   2.0   2.0  2016.0   50.0           6.0       2.0    2.0    2.0   \n",
      "14070   2.0   2.0  2016.0  164.0           6.0       2.0    2.0    2.0   \n",
      "23869   2.0   2.0  2016.0  400.0           6.0       1.0    1.0    1.0   \n",
      "\n",
      "       AGEPOS4  \n",
      "7561       1.0  \n",
      "17930      2.0  \n",
      "33682      4.0  \n",
      "20989      3.0  \n",
      "40040      4.0  \n",
      "16585      1.0  \n",
      "49868      3.0  \n",
      "25014      3.0  \n",
      "14070      3.0  \n",
      "23869      3.0  \n"
     ]
    }
   ],
   "source": [
    "def mkSamps(df, nSamp):\n",
    "    fracWt = df['FWC']/df['FWC'].sum()\n",
    "    choices = np.random.choice(len(df), nSamp, p=fracWt)\n",
    "    return df.iloc[choices].drop(columns=['FWC'])\n",
    "nSamp = 10\n",
    "print mkSamps(age6DF, nSamp)\n"
   ]
  },
  {
   "cell_type": "code",
   "execution_count": 226,
   "metadata": {},
   "outputs": [
    {
     "name": "stdout",
     "output_type": "stream",
     "text": [
      "{'K4Q32X01': 5, 'FPL': 3, 'K7Q31': 7, 'K7Q30': 6, 'ACE8': 1, 'YEAR': 2, 'AGEPOS4': 8, 'ACE7': 0, 'SC_AGE_YEARS': 4}\n",
      "{0: 'ACE7', 1: 'ACE8', 2: 'YEAR', 3: 'FPL', 4: 'SC_AGE_YEARS', 5: 'K4Q32X01', 6: 'K7Q30', 7: 'K7Q31', 8: 'AGEPOS4'}\n"
     ]
    }
   ],
   "source": [
    "COLUMN_DICT = {key : idx for idx, key in enumerate(mkSamps(subDF, 1).columns)}\n",
    "print COLUMN_DICT\n",
    "INV_COLUMN_DICT = {val:key for key, val in COLUMN_DICT.items()}\n",
    "print INV_COLUMN_DICT"
   ]
  },
  {
   "cell_type": "markdown",
   "metadata": {},
   "source": [
    "FPL needs to be binned to form a histogram to get the quantization we need for this.  Bins of 50 seems OK."
   ]
  },
  {
   "cell_type": "code",
   "execution_count": 8,
   "metadata": {},
   "outputs": [
    {
     "data": {
      "image/png": "[encoded data removed]",
      "text/plain": [
       "<Figure size 432x288 with 1 Axes>"
      ]
     },
     "metadata": {},
     "output_type": "display_data"
    }
   ],
   "source": [
    "fplSamps = mkSamps(subDF, 100000)['FPL']\n",
    "plt.hist(fplSamps, bins=100)\n",
    "plt.title('Histogram of FPL values')\n",
    "plt.show()"
   ]
  },
  {
   "cell_type": "markdown",
   "metadata": {},
   "source": [
    "We need to enumerate the possible states for our variables.  Assume fixed age and ignore the ACE components for the moment.  "
   ]
  },
  {
   "cell_type": "code",
   "execution_count": 62,
   "metadata": {},
   "outputs": [],
   "source": [
    "def whichBin(sampV):\n",
    "    \"\"\"\n",
    "    Input is an ndarray of sample values\n",
    "    Maybe check out Pandas 'cut'\n",
    "    \"\"\"\n",
    "    fplBinWidth = 50\n",
    "    fplMin = 50\n",
    "    bin = np.abs((sampV[:, COLUMN_DICT['FPL']] - fplMin) // 50).astype('int')\n",
    "    assert (bin >= 0).all() and (bin < 8).all(), 'FPL out of range?'\n",
    "    nBins = 8\n",
    "    # Each of the following is either 1.0 or 2.0\n",
    "    bin = 2 * bin + (sampV[:, COLUMN_DICT['K4Q32X01']] == 1.0)\n",
    "    nBins *= 2\n",
    "    bin = 2 * bin + (sampV[:, COLUMN_DICT['K7Q30']] == 1.0)\n",
    "    nBins *= 2\n",
    "    bin = 2 * bin + (sampV[:, COLUMN_DICT['K7Q31']] == 1.0)\n",
    "    nBins *= 2\n",
    "    return bin, nBins\n",
    "\n",
    "def scatter(idx, vals, target):\n",
    "    \"\"\"target[idx] += vals, but allowing for repeats in idx\"\"\"\n",
    "    np.add.at(target, idx.ravel(), vals.ravel())\n"
   ]
  },
  {
   "cell_type": "code",
   "execution_count": 42,
   "metadata": {
    "collapsed": true
   },
   "outputs": [],
   "source": [
    "def toHisto(sampV):\n",
    "    \"\"\"Generate a histogram of sample bins\"\"\"\n",
    "    binV, nBins = whichBin(sampV)\n",
    "    targ = np.zeros([nBins], dtype=np.int32)\n",
    "    vals = np.ones([len(sampV)], dtype=np.int32)\n",
    "    scatter(binV, vals, targ)\n",
    "    return targ"
   ]
  },
  {
   "cell_type": "code",
   "execution_count": 43,
   "metadata": {
    "collapsed": true
   },
   "outputs": [],
   "source": [
    "def toProbV(sampV):\n",
    "    sampH = toHisto(sampV)\n",
    "    probV = sampH.astype(np.float64)\n",
    "    probV /= np.sum(probV)\n",
    "    return probV"
   ]
  },
  {
   "cell_type": "code",
   "execution_count": 256,
   "metadata": {},
   "outputs": [
    {
     "name": "stdout",
     "output_type": "stream",
     "text": [
      "Index([u'ACE7', u'ACE8', u'YEAR', u'FPL', u'SC_AGE_YEARS', u'K4Q32X01',\n",
      "       u'K7Q30', u'K7Q31', u'AGEPOS4'],\n",
      "      dtype='object')\n",
      "3\n",
      "[37  8 12 19 54 13 19 28 19  7 12 10 40  8  6 19 14  5 14  7 20  9 15 25\n",
      "  5  6  6  9 13  9  5 17  8  5 11 17 11  8  6 13  2  0  4 11  7  5  8 15\n",
      "  2  0  3 11  4  6  3 13 18 16 35 69 33 34 33 99]\n",
      "[0.037 0.008 0.012 0.019 0.054 0.013 0.019 0.028 0.019 0.007 0.012 0.01\n",
      " 0.04  0.008 0.006 0.019 0.014 0.005 0.014 0.007 0.02  0.009 0.015 0.025\n",
      " 0.005 0.006 0.006 0.009 0.013 0.009 0.005 0.017 0.008 0.005 0.011 0.017\n",
      " 0.011 0.008 0.006 0.013 0.002 0.    0.004 0.011 0.007 0.005 0.008 0.015\n",
      " 0.002 0.    0.003 0.011 0.004 0.006 0.003 0.013 0.018 0.016 0.035 0.069\n",
      " 0.033 0.034 0.033 0.099]\n"
     ]
    }
   ],
   "source": [
    "sampV = mkSamps(subDF, 1000)\n",
    "print sampV.columns\n",
    "print COLUMN_DICT['FPL']\n",
    "sampH = toHisto(sampV.values)\n",
    "print sampH\n",
    "probV = toProbV(sampV.values)\n",
    "print probV"
   ]
  },
  {
   "cell_type": "markdown",
   "metadata": {},
   "source": [
    "Given the probV we can calculate mutual information:\n",
    "$$\n",
    "I(X;Y) = \\sum_{y \\in Y} \\sum_{x \\in X} p(x, y) log \\left (\\frac{p(x,y)}{p(x)p(y)} \\right )\n",
    "$$"
   ]
  },
  {
   "cell_type": "code",
   "execution_count": 257,
   "metadata": {},
   "outputs": [
    {
     "name": "stdout",
     "output_type": "stream",
     "text": [
      "0.5597757866221897\n",
      "3.787216109785666\n",
      "3.7909881907758445\n"
     ]
    }
   ],
   "source": [
    "def mutualInfo(sampVX, sampVY):\n",
    "    assert len(sampVX) == len(sampVY), 'Sample vector lengths do not match'\n",
    "    binVX, nBinsX = whichBin(sampVX)\n",
    "    binVY, nBinsY = whichBin(sampVY)\n",
    "    assert nBinsX == nBinsY, 'Unexpectedly got different bin counts?'\n",
    "    cA = np.zeros([nBinsX, nBinsX], dtype=np.int32)\n",
    "    idxV = np.ravel_multi_index(np.array([binVX, binVY]), (nBinsX, nBinsX))\n",
    "    np.add.at(cA.ravel(), idxV, np.ones(len(idxV), dtype=np.int32).ravel())\n",
    "    pA = cA.astype(np.float32)\n",
    "    pA /= sum(pA.ravel())\n",
    "    xPV = toProbV(sampVX)\n",
    "    yPV = toProbV(sampVY)\n",
    "    xyPA = np.einsum('i,j->ij', xPV, yPV)  # einsum is my new favorite function\n",
    "    oldErr = np.seterr(invalid='ignore', divide='ignore')\n",
    "    prodA = pA * np.nan_to_num(np.log(pA / xyPA))  # element-wise calculation\n",
    "    np.seterr(**oldErr)\n",
    "    return np.sum(prodA.ravel())\n",
    "\n",
    "sampX = mkSamps(subDF, 3000)\n",
    "sampY = mkSamps(subDF, 3000)\n",
    "print mutualInfo(sampX.values, sampY.values)\n",
    "print mutualInfo(sampX.values, sampX.values)\n",
    "print mutualInfo(sampY.values, sampY.values)"
   ]
  },
  {
   "cell_type": "code",
   "execution_count": 71,
   "metadata": {},
   "outputs": [],
   "source": [
    "########\n",
    "# This implementation (from stackoverflow) produces the same MI values as the one above\n",
    "# stackoverflow.com/questions/20491028/optimal-way-to-compute-pairwise-mutual-information-using-numpy\n",
    "########\n",
    "#from scipy.stats import chi2_contingency\n",
    "#\n",
    "#def calc_MI(x, y, bins):\n",
    "#    c_xy = np.histogram2d(x, y, bins)[0]\n",
    "#    g, p, dof, expected = chi2_contingency(c_xy, lambda_=\"log-likelihood\")\n",
    "#    mi = 0.5 * g / c_xy.sum()\n",
    "#    return mi\n",
    "#\n",
    "#def mutualInfo(sampVX, sampVY):\n",
    "#    assert len(sampVX) == len(sampVY), 'Sample vector lengths do not match'\n",
    "#    binVX, nBinsX = whichBin(sampVX)\n",
    "#    binVY, nBinsY = whichBin(sampVY)\n",
    "#    assert nBinsX == nBinsY, 'Unexpectedly got different bin counts?'\n",
    "#    return calc_MI(binVX, binVY, nBinsX)\n",
    "#\n",
    "#print mutualInfo(sampX.values, sampY.values)\n",
    "#print mutualInfo(sampX.values, sampX.values)\n",
    "#print mutualInfo(sampY.values, sampY.values)"
   ]
  },
  {
   "cell_type": "markdown",
   "metadata": {},
   "source": [
    "Define a scalar function on a pair of samples and a weight vector"
   ]
  },
  {
   "cell_type": "code",
   "execution_count": 269,
   "metadata": {},
   "outputs": [
    {
     "name": "stdout",
     "output_type": "stream",
     "text": [
      "YEAR            1.0000\n",
      "FPL             0.0001\n",
      "SC_AGE_YEARS    1.0000\n",
      "K4Q32X01        1.0000\n",
      "K7Q30           1.0000\n",
      "K7Q31           1.0000\n",
      "AGEPOS4         1.0000\n",
      "dtype: float64\n",
      "[1.e+00 1.e-04 1.e+00 1.e+00 1.e+00 1.e+00 1.e+00]\n",
      "Index([u'YEAR', u'FPL', u'SC_AGE_YEARS', u'K4Q32X01', u'K7Q30', u'K7Q31',\n",
      "       u'AGEPOS4'],\n",
      "      dtype='object')\n"
     ]
    }
   ],
   "source": [
    "wtSer = pd.Series({'YEAR': 1.0,\n",
    "                   'FPL':1.0e-4,  # because it's percent\n",
    "                   'SC_AGE_YEARS': 1.0, \n",
    "                   'K4Q32X01': 1.0,\n",
    "                   'K7Q30':1.0,\n",
    "                   'K7Q31': 1.0,\n",
    "                   'AGEPOS4': 1.0}, index=subDF.columns)\n",
    "wtSer = wtSer.drop(labels=['ACE7', 'ACE8', 'FWC'])  # get the right index order but no extra entries\n",
    "print wtSer\n",
    "print wtSer.values\n",
    "print wtSer.index"
   ]
  },
  {
   "cell_type": "code",
   "execution_count": 270,
   "metadata": {},
   "outputs": [],
   "source": [
    "def funV(samps1V, samps2V, wtSerV):\n",
    "    \"\"\"\n",
    "    Returns a numpy vector the columns of which correspond to the input samples\n",
    "    \"\"\"\n",
    "    wtA = wtSerV\n",
    "    print wtA.shape\n",
    "    print samps1V.shape\n",
    "    offset = samps1V.shape[1] - wtSerV.shape[0]\n",
    "    print offset\n",
    "    samp1A = samps1V[:, offset:]\n",
    "    samp2A = samps2V[:, offset:]\n",
    "    delta = samp1A - samp2A\n",
    "    print 'delta', delta\n",
    "    delta *= delta\n",
    "    print 'delta^2', delta\n",
    "    return np.exp(-np.asmatrix(wtA) * np.asmatrix(delta).transpose())\n",
    "    "
   ]
  },
  {
   "cell_type": "code",
   "execution_count": 271,
   "metadata": {},
   "outputs": [],
   "source": [
    "def lnLik(samps1V, samps2V, wtSerV):\n",
    "    \"\"\"\n",
    "    funV has the right shape to fill the role of likelihood in the Metropolis algorithm.  We'll\n",
    "    take the log, and use it as a log likelihood.\n",
    "    \"\"\"\n",
    "    wtA = wtSerV\n",
    "    #offset = samps1V.shape[1] - wtSer.shape[0]\n",
    "    offset = samps1V.shape[1] - wtSerV.shape[0]\n",
    "    samp1A = samps1V[:, offset:]\n",
    "    samp2A = samps2V[:, offset:]\n",
    "    delta = samp1A - samp2A\n",
    "    delta *= delta\n",
    "    return np.asarray((-np.asmatrix(wtA) * np.asmatrix(delta).transpose())).reshape((-1, 1))\n",
    "    "
   ]
  },
  {
   "cell_type": "code",
   "execution_count": 272,
   "metadata": {},
   "outputs": [
    {
     "name": "stdout",
     "output_type": "stream",
     "text": [
      "YEAR            1.0000\n",
      "FPL             0.0001\n",
      "SC_AGE_YEARS    1.0000\n",
      "K4Q32X01        1.0000\n",
      "K7Q30           1.0000\n",
      "K7Q31           1.0000\n",
      "AGEPOS4         1.0000\n",
      "dtype: float64\n",
      "(7,)\n",
      "(3, 9)\n",
      "2\n",
      "delta [[   0.   47.   -1.    0.    0.    1.    0.]\n",
      " [   0. -350.   -5.   -1.    1.    1.   -1.]\n",
      " [   0.    0.   -8.    0.    0.    1.    3.]]\n",
      "delta^2 [[0.000e+00 2.209e+03 1.000e+00 0.000e+00 0.000e+00 1.000e+00 0.000e+00]\n",
      " [0.000e+00 1.225e+05 2.500e+01 1.000e+00 1.000e+00 1.000e+00 1.000e+00]\n",
      " [0.000e+00 0.000e+00 6.400e+01 0.000e+00 0.000e+00 1.000e+00 9.000e+00]]\n",
      "[[1.08511405e-01 1.21717387e-18 7.28129018e-33]]\n",
      "[[-23.1684]\n",
      " [-24.6176]\n",
      " [-28.    ]]\n"
     ]
    }
   ],
   "source": [
    "print wtSer\n",
    "print funV(mkSamps(age7DF, 3).values, mkSamps(subDF, 3).values, wtSer)\n",
    "llk = lnLik(mkSamps(subDF, 3).values, mkSamps(subDF, 3).values, wtSer)\n",
    "print llk\n"
   ]
  },
  {
   "cell_type": "code",
   "execution_count": 132,
   "metadata": {
    "collapsed": true
   },
   "outputs": [],
   "source": [
    "# Now we need a mutator\n",
    "def mutate(sampV, df, stepSzV):\n",
    "    \"\"\"\n",
    "    Return a 'mutated' version of sampV, based on the given step sizes.  Unfortunately our samples\n",
    "    are discrete and come from a table, so I'm not sure how to do this unless we first generate\n",
    "    a proximity network of some sort, so for the moment let's just generate a new set of samples-\n",
    "    this corresponds to an infinitely wide mutator.\n",
    "    \"\"\"\n",
    "    return mkSamps(df, len(sampV)).values"
   ]
  },
  {
   "cell_type": "code",
   "execution_count": 133,
   "metadata": {},
   "outputs": [],
   "source": [
    "# And now we can write the Metropolis code.\n",
    "# Thanks to https://python4mpia.github.io/fitting_data/Metropolis-Hastings.html\n",
    "# initial guess for alpha as array.\n",
    "\n",
    "nSamp = 10000\n",
    "testSamps = mkSamps(age6DF, nSamp)\n",
    "guess = mkSamps(age7DF, nSamp)\n",
    "# Prepare storing MCMC chain as array of arrays.\n",
    "A = [guess.values]\n",
    "# define stepsize of MCMC.\n",
    "stepsizes = np.empty([nSamp])\n",
    "stepsizes.fill(0.005)\n",
    "nIter = 10000"
   ]
  },
  {
   "cell_type": "code",
   "execution_count": 134,
   "metadata": {},
   "outputs": [
    {
     "name": "stdout",
     "output_type": "stream",
     "text": [
      "0: 0.18208604133865033\n",
      "100: 0.1840596909849798\n",
      "200: 0.18104696273428494\n",
      "300: 0.18114687197595183\n",
      "400: 0.18536032040606112\n",
      "500: 0.18054535958137194\n",
      "600: 0.185272207808134\n",
      "700: 0.18492641707620144\n",
      "800: 0.1805296606509849\n",
      "900: 0.18717826742926938\n",
      "1000: 0.18724076373386622\n",
      "1100: 0.19496391204433686\n",
      "1200: 0.1780934129048024\n",
      "1300: 0.18234850559699392\n",
      "1400: 0.18399338600416576\n",
      "1500: 0.18279417608368315\n",
      "1600: 0.18645058460392983\n",
      "1700: 0.18754912956720066\n",
      "1800: 0.18787277293358834\n",
      "1900: 0.18484750175609968\n",
      "2000: 0.17704120898402637\n",
      "2100: 0.18658550995290407\n",
      "2200: 0.18840403469171485\n",
      "2300: 0.1847545718441525\n",
      "2400: 0.1807372182128401\n",
      "2500: 0.18634320348677122\n",
      "2600: 0.18335376800763048\n",
      "2700: 0.18673454739216294\n",
      "2800: 0.19313326136643005\n",
      "2900: 0.18845072158027998\n",
      "3000: 0.18586623220326018\n",
      "3100: 0.1868077924181391\n",
      "3200: 0.1828855458066596\n",
      "3300: 0.18562409228157062\n",
      "3400: 0.1817771182832252\n",
      "3500: 0.18012033096359162\n",
      "3600: 0.18540536371361582\n",
      "3700: 0.1825228907226193\n",
      "3800: 0.18179923662915237\n",
      "3900: 0.1820757885370358\n",
      "4000: 0.18221632763895373\n",
      "4100: 0.18269090060218987\n",
      "4200: 0.18183523777372793\n",
      "4300: 0.18557807240733737\n",
      "4400: 0.18566568671562877\n",
      "4500: 0.1837558028100687\n",
      "4600: 0.1845434346575398\n",
      "4700: 0.18552441553050114\n",
      "4800: 0.18769001912296265\n",
      "4900: 0.18394484742709188\n",
      "5000: 0.18823632093099665\n",
      "5100: 0.18720026165190728\n",
      "5200: 0.18487382672955902\n",
      "5300: 0.18349917184602954\n",
      "5400: 0.18507679173471142\n",
      "5500: 0.18417886608839762\n",
      "5600: 0.18671011564088677\n",
      "5700: 0.18816700339563763\n",
      "5800: 0.18257632121559192\n",
      "5900: 0.1823622565256297\n",
      "6000: 0.18316902478191627\n",
      "6100: 0.18324972504323628\n",
      "6200: 0.18829077841332992\n",
      "6300: 0.1841042055820352\n",
      "6400: 0.19097793860334483\n",
      "6500: 0.17452981990213917\n",
      "6600: 0.18260981711561314\n",
      "6700: 0.1847466970498558\n",
      "6800: 0.18350250074901736\n",
      "6900: 0.18507506980875513\n",
      "7000: 0.1901430193307072\n",
      "7100: 0.186595471131065\n",
      "7200: 0.18572592846442287\n",
      "7300: 0.18455670274328023\n",
      "7400: 0.18342124538296023\n",
      "7500: 0.18597944624676638\n",
      "7600: 0.185054971971877\n",
      "7700: 0.19036381348090117\n",
      "7800: 0.1865584574898957\n",
      "7900: 0.18395012167628005\n",
      "8000: 0.18199514894112945\n",
      "8100: 0.18643057825610174\n",
      "8200: 0.18259240322755468\n",
      "8300: 0.1845543113922684\n",
      "8400: 0.18413632748992487\n",
      "8500: 0.17656720768958536\n",
      "8600: 0.17638354930054032\n",
      "8700: 0.18947527479699633\n",
      "8800: 0.1806267906184777\n",
      "8900: 0.18724611830772242\n",
      "9000: 0.18691559073731162\n",
      "9100: 0.18477426116922188\n",
      "9200: 0.18432836634327943\n",
      "9300: 0.1892904814669375\n",
      "9400: 0.17904150780730133\n",
      "9500: 0.18463527686682013\n",
      "9600: 0.18463191810692214\n",
      "9700: 0.18558441119636937\n",
      "9800: 0.17611484073354355\n",
      "9900: 0.18600696448648402\n"
     ]
    },
    {
     "data": {
      "image/png": "[encoded data removed]",
      "text/plain": [
       "<Figure size 432x288 with 1 Axes>"
      ]
     },
     "metadata": {},
     "output_type": "display_data"
    },
    {
     "data": {
      "image/png": "[encoded data removed]",
      "text/plain": [
       "<Figure size 432x288 with 1 Axes>"
      ]
     },
     "metadata": {},
     "output_type": "display_data"
    }
   ],
   "source": [
    "# Metropolis-Hastings with nIter iterations.\n",
    "accepted  = np.zeros([nSamp, 1], dtype=np.int)\n",
    "onesV = np.ones([nSamp], dtype=np.int).reshape((-1, 1))\n",
    "zerosV = np.zeros([nSamp], dtype=np.int).reshape((-1, 1))\n",
    "for n in range(nIter):\n",
    "    oldAlpha  = A[-1]  # old parameter value as array\n",
    "    oldLnLik = lnLik(testSamps.values, oldAlpha, wtSer)\n",
    "    newAlpha = mutate(oldAlpha, age7DF, stepsizes)\n",
    "    newLnLik = lnLik(testSamps.values, newAlpha, wtSer)\n",
    "    if (n % 100 == 0):\n",
    "        print '%s: %s' % (n, mutualInfo(testSamps.values, newAlpha))\n",
    "    choices = np.logical_or(newLnLik > oldLnLik,\n",
    "                            np.random.random(newLnLik.shape) < np.exp(newLnLik - oldLnLik))\n",
    "    rslt = np.choose(choices, [oldAlpha, newAlpha])\n",
    "    A.append(rslt)\n",
    "    accepted += np.choose(choices, [zerosV, onesV])\n",
    "\n",
    "plt.hist(accepted)\n",
    "acceptanceRate = accepted/float(nIter)\n",
    "plt.show()\n",
    "plt.hist(acceptanceRate)\n",
    "plt.show()"
   ]
  },
  {
   "cell_type": "code",
   "execution_count": 135,
   "metadata": {},
   "outputs": [
    {
     "name": "stdout",
     "output_type": "stream",
     "text": [
      "48 208 2080\n"
     ]
    }
   ],
   "source": [
    "nKeep = accepted.min()/10  # 10 mutations between samples to avoid correlation\n",
    "keepStep = nIter//nKeep\n",
    "burnIn = 10 * keepStep\n",
    "print nKeep, keepStep, burnIn\n",
    "assert burnIn < nIter, 'Not enough iterations for burn-in'\n",
    "clean = []\n",
    "for idx, sV in enumerate(A[burnIn:]):\n",
    "    if idx % keepStep == 0:\n",
    "        clean.append(sV)\n"
   ]
  },
  {
   "cell_type": "code",
   "execution_count": 136,
   "metadata": {},
   "outputs": [
    {
     "name": "stdout",
     "output_type": "stream",
     "text": [
      "0.946836977993063\n",
      "0.004740312835461998\n",
      "3.634444265408133\n",
      "3.641075825433436\n"
     ]
    }
   ],
   "source": [
    "#print expandedTestV\n",
    "print mutualInfo(expandedTestV, cleanV)\n",
    "print mutualInfo(expandedTestV, mkSamps(age7DF, cleanV.shape[0]).values)\n",
    "print mutualInfo(expandedTestV, expandedTestV)\n",
    "print mutualInfo(cleanV, cleanV)"
   ]
  },
  {
   "cell_type": "code",
   "execution_count": 332,
   "metadata": {},
   "outputs": [],
   "source": [
    "def genRawMetropolisSamples(nSamp, nIter, guess, lnLikFun, lnLikParams, mutator, mutatorParams,\n",
    "                            verbose=False):\n",
    "    \"\"\"\n",
    "    Parameters:\n",
    "        nSamp: number of samples in the vector of current samples\n",
    "        nIter: the number of iterations- this many vectors of raw samples will be drawn\n",
    "        guess: the initial vector of samples to be mutated\n",
    "        lnLikFun: a function returning the log likelihood, used in the Metropolis ratio\n",
    "        \n",
    "            lnLik = lnLikFun(samples, **lnLikParams)\n",
    "            \n",
    "        lnLikParms: passed to lnLikFun as above\n",
    "        mutator: function implementing the Metropolis mutation, of the form\n",
    "        \n",
    "            newSamps = mutator(oldSamps, **mutatorParams)\n",
    "\n",
    "        mutatorParams: passed to mutator as above\n",
    "    Returns:\n",
    "        A: list of vectors of samples after Metropolis acceptance\n",
    "        acceptanceRate: integer vector of acceptance rate for each element of the vectors in A\n",
    "    \"\"\"\n",
    "    # Metropolis-Hastings with nIter iterations.\n",
    "    accepted  = np.zeros([nSamp, 1], dtype=np.int)\n",
    "    onesV = np.ones([nSamp], dtype=np.int).reshape((-1, 1))\n",
    "    zerosV = np.zeros([nSamp], dtype=np.int).reshape((-1, 1))\n",
    "    A = [guess.values] # List of vectors of samples\n",
    "    for n in range(nIter):\n",
    "        oldAlpha  = A[-1]  # old parameter value as array\n",
    "        oldLnLik = lnLikFun(oldAlpha, **lnLikParams)\n",
    "        newAlpha = mutator(oldAlpha, **mutatorParams)\n",
    "        newLnLik = lnLikFun(newAlpha, **lnLikParams)\n",
    "        if verbose and (n % 100 == 0):\n",
    "            print '%s: %s' % (n, np.sum(newLnLik))\n",
    "        llDelta = newLnLik - oldLnLik\n",
    "        llDelta = np.minimum(llDelta, 1.0)\n",
    "        #choices = np.logical_or(newLnLik > oldLnLik,\n",
    "        #                        np.random.random(newLnLik.shape) < np.exp(newLnLik - oldLnLik))\n",
    "        choices = np.logical_or(newLnLik > oldLnLik,\n",
    "                                np.random.random(newLnLik.shape) < np.exp(llDelta))\n",
    "        rslt = np.choose(choices, [oldAlpha, newAlpha])\n",
    "        A.append(rslt)\n",
    "        accepted += np.choose(choices, [zerosV, onesV])\n",
    "    acceptanceRate = accepted/float(nIter)\n",
    "    return A, acceptanceRate"
   ]
  },
  {
   "cell_type": "code",
   "execution_count": 333,
   "metadata": {
    "collapsed": true
   },
   "outputs": [],
   "source": [
    "def genMetropolisSamples(nSamp, nIter, guess, lnLikFun, lnLikParams, mutator, mutatorParams,\n",
    "                        mutationsPerSamp=10, burninMutations=10, verbose=False):\n",
    "    \"\"\"\n",
    "    Generates independent samples by metropolis sampling with genRawMetropolisSamples and\n",
    "    discarding enough samples to assure independence.\n",
    "    Parameters:\n",
    "        nSamp: number of samples in the vector of current samples\n",
    "        nIter: the number of iterations- this many vectors of raw samples will be drawn\n",
    "        guess: the initial vector of samples to be mutated\n",
    "        lnLikFun: a function returning the log likelihood, used in the Metropolis ratio\n",
    "        \n",
    "            lnLik = lnLikFun(samples, **lnLikParams)\n",
    "            \n",
    "        lnLikParms: passed to lnLikFun as above\n",
    "        mutator: function implementing the Metropolis mutation, of the form\n",
    "        \n",
    "            newSamps = mutator(oldSamps, mutatorParams)\n",
    "\n",
    "        mutatorParams: passed to mutator as above\n",
    "        mutatationsPerSamp: minimum number of accepted mutations between retained samples (on average)\n",
    "        burninMutations: number of independent samples to discard during burn-in sampling\n",
    "    Returns:\n",
    "        cleanSamps: a list of vectors of independent samples\n",
    "    \"\"\"\n",
    "    A, acceptanceRate = genRawMetropolisSamples(nSamp, nIter, guess, lnLikFun, lnLikParams,\n",
    "                                                mutator, mutatorParams, verbose=verbose)\n",
    "    nKeep = accepted.min()/10  # 10 mutations between samples to avoid correlation\n",
    "    keepStep = nIter//nKeep\n",
    "    burnIn = burninMutations * keepStep\n",
    "    #print nKeep, keepStep, burnIn\n",
    "    assert burnIn < nIter, 'Not enough iterations for burn-in'\n",
    "    clean = []\n",
    "    for idx, sV in enumerate(A[burnIn:]):\n",
    "        if idx % keepStep == 0:\n",
    "            clean.append(sV)\n",
    "    return clean"
   ]
  },
  {
   "cell_type": "code",
   "execution_count": 334,
   "metadata": {},
   "outputs": [],
   "source": [
    "# This function takes lnLik from the environment!\n",
    "def sampleAndCalcMI(wtSer, nSamp, nIter, sampler, testSampParams, genSampParams,\n",
    "                   mutator, mutatorParams, drawGraph=False, verbose=False):\n",
    "    testSamps = sampler(nSamp, **testSampParams)\n",
    "    guess = sampler(nSamp, **genSampParams)\n",
    "    lnLikParams = {'samps2V': testSamps.values, 'wtSerV': wtSer}\n",
    "    cleanSamps = genMetropolisSamples(nSamp, nIter, guess, lnLik, lnLikParams,\n",
    "                                      mutate, mutatorParams, verbose=verbose)\n",
    "    cleanV = np.concatenate(cleanSamps)\n",
    "    expandedTestV = np.concatenate([testSamps.values] * len(cleanSamps))\n",
    "    \n",
    "    if drawGraph:\n",
    "        testBins, nBins = whichBin(expandedTestV)\n",
    "        rsltBins = whichBin(cleanV)[0]\n",
    "        hM, xEdges, yEdges = np.histogram2d(testBins, rsltBins, bins=64)\n",
    "        plt.imshow(np.log(hM + 1))\n",
    "        plt.show()\n",
    "\n",
    "    return mutualInfo(cleanV, expandedTestV)"
   ]
  },
  {
   "cell_type": "code",
   "execution_count": 335,
   "metadata": {},
   "outputs": [
    {
     "name": "stdout",
     "output_type": "stream",
     "text": [
      "0: -8437.978200000001\n",
      "100: -8186.197800000001\n",
      "200: -8366.2091\n",
      "300: -8610.1657\n",
      "400: -8174.6893\n",
      "500: -8478.1623\n",
      "600: -8195.929\n",
      "700: -8134.6949\n",
      "800: -8134.3451000000005\n",
      "900: -8248.9924\n"
     ]
    },
    {
     "data": {
      "image/png": "[encoded data removed]",
      "text/plain": [
       "<Figure size 432x288 with 1 Axes>"
      ]
     },
     "metadata": {},
     "output_type": "display_data"
    }
   ],
   "source": [
    "nSamp = 1000\n",
    "nIter = 1000\n",
    "guess = mkSamps(age7DF, nSamp)\n",
    "testSamps = mkSamps(age6DF, nSamp)\n",
    "stepsizes = np.empty([nSamp])\n",
    "stepsizes.fill(0.005)\n",
    "mutatorParams = {'stepSzV': stepsizes, 'df': age7DF}\n",
    "lnLikParams = {'samps2V': testSamps.values, 'wtSerV': wtSer}\n",
    "A, acceptanceRate = genRawMetropolisSamples(nSamp, nIter, guess,  lnLik, lnLikParams,\n",
    "                                            mutate, mutatorParams, verbose=True)\n",
    "plt.hist(acceptanceRate)\n",
    "plt.show()"
   ]
  },
  {
   "cell_type": "code",
   "execution_count": 336,
   "metadata": {},
   "outputs": [
    {
     "name": "stdout",
     "output_type": "stream",
     "text": [
      "41\n"
     ]
    }
   ],
   "source": [
    "nSamp = 1000\n",
    "nIter = 1000\n",
    "testSamps = mkSamps(age6DF, nSamp)\n",
    "guess = mkSamps(age7DF, nSamp)\n",
    "stepsizes = np.empty([nSamp])\n",
    "stepsizes.fill(0.005)\n",
    "lnLikParams = {'samps2V': testSamps.values, 'wtSerV': wtSer}\n",
    "mutatorParams = {'stepSzV': stepsizes, 'df': age7DF}\n",
    "\n",
    "cleanSamps= genMetropolisSamples(nSamp, nIter, guess, lnLik, lnLikParams,\n",
    "                                 mutate, mutatorParams, verbose=False)\n",
    "print len(cleanSamps)"
   ]
  },
  {
   "cell_type": "code",
   "execution_count": 337,
   "metadata": {},
   "outputs": [
    {
     "data": {
      "image/png": "[encoded data removed]",
      "text/plain": [
       "<Figure size 432x288 with 1 Axes>"
      ]
     },
     "metadata": {},
     "output_type": "display_data"
    },
    {
     "name": "stdout",
     "output_type": "stream",
     "text": [
      "0.9471299531276878\n"
     ]
    }
   ],
   "source": [
    "nSamp = 10000\n",
    "nIter = 10000\n",
    "stepsizes = np.empty([nSamp])\n",
    "stepsizes.fill(0.005)\n",
    "def sampler(nSamp, df):\n",
    "    return mkSamps(df, nSamp)\n",
    "testSampParams = {'df': age6DF}\n",
    "genSampParams = {'df': age7DF}\n",
    "mutatorParams = {'stepSzV': stepsizes, 'df': age7DF}\n",
    "print sampleAndCalcMI(wtSer, nSamp, nIter, sampler, testSampParams, genSampParams,\n",
    "                     mutate, mutatorParams, drawGraph=True, verbose=False)"
   ]
  },
  {
   "cell_type": "code",
   "execution_count": 338,
   "metadata": {
    "collapsed": true
   },
   "outputs": [],
   "source": [
    "from scipy.optimize import minimize\n",
    "def minimizeMe(wtVec,\n",
    "               nSamp, nIter, sampler, testSampParams, genSampParams,\n",
    "               mutator, mutatorParams):\n",
    "    wtSer = pd.Series({'YEAR': wtVec[0],\n",
    "                      'FPL': wtVec[1],\n",
    "                      'SC_AGE_YEARS': wtVec[2],\n",
    "                      'K4Q32X01': wtVec[3],\n",
    "                      'K7Q30': wtVec[4],\n",
    "                      'K7Q31': wtVec[5],\n",
    "                      'AGEPOS4': wtVec[6]},\n",
    "                     index=subDF.columns)\n",
    "    wtSer = wtSer.drop(labels=['ACE7', 'ACE8', 'FWC'])  # get the right index order but no extra entries\n",
    "    mI = sampleAndCalcMI(wtSer, nSamp, nIter, sampler, testSampParams, genSampParams,\n",
    "                         mutator, mutatorParams, drawGraph=False, verbose=False)\n",
    "    #print mI\n",
    "    return -mI"
   ]
  },
  {
   "cell_type": "code",
   "execution_count": 339,
   "metadata": {},
   "outputs": [
    {
     "name": "stderr",
     "output_type": "stream",
     "text": [
      "/home/welling/myEnv/lib/python2.7/site-packages/ipykernel/__main__.py:39: RuntimeWarning: underflow encountered in exp\n"
     ]
    },
    {
     "name": "stdout",
     "output_type": "stream",
     "text": [
      "   direc: array([[  1.        ,   0.        ,   0.        ,   0.        ,\n",
      "          0.        ,   0.        ,   0.        ],\n",
      "       [  0.        ,   0.        ,   0.        ,   0.        ,\n",
      "          0.        ,   0.        ,   1.        ],\n",
      "       [  0.        ,   0.        ,   1.        ,   0.        ,\n",
      "          0.        ,   0.        ,   0.        ],\n",
      "       [  0.        ,   0.        ,   0.        ,   1.        ,\n",
      "          0.        ,   0.        ,   0.        ],\n",
      "       [  0.        ,   0.        ,   0.        ,   0.        ,\n",
      "          1.        ,   0.        ,   0.        ],\n",
      "       [  0.        ,   0.        ,   0.        ,   0.        ,\n",
      "          0.        ,   1.        ,   0.        ],\n",
      "       [ -1.77120877,   5.33573488,  -6.29056701,   9.95290954,\n",
      "        163.62522102,   5.28558648,   2.09368055]])\n",
      "     fun: -2.8650307214469173\n",
      " message: 'Optimization terminated successfully.'\n",
      "    nfev: 194\n",
      "     nit: 2\n",
      "  status: 0\n",
      " success: True\n",
      "       x: array([  0.37161158,   6.88293472,  -8.35524929,  14.83876221,\n",
      "       211.8886461 ,   7.16782256,   2.70074462])\n"
     ]
    }
   ],
   "source": [
    "nSamp = 1000\n",
    "nIter = 1000\n",
    "stepsizes = np.empty([nSamp])\n",
    "stepsizes.fill(0.005)\n",
    "def sampler(nSamp, df):\n",
    "    return mkSamps(df, nSamp)\n",
    "testSampParams = {'df': age6DF}\n",
    "genSampParams = {'df': age7DF}\n",
    "mutatorParams = {'stepSzV': stepsizes, 'df': age7DF}\n",
    "\n",
    "guess = np.array([1.0, 1.0e-4, 1.0, 1.0, 1.0, 1.0, 1.0])\n",
    "rslt = minimize(minimizeMe, guess, (nSamp, nIter, sampler, testSampParams, genSampParams,\n",
    "                                   mutate, mutatorParams), method='powell')\n",
    "print rslt"
   ]
  },
  {
   "cell_type": "code",
   "execution_count": 340,
   "metadata": {},
   "outputs": [
    {
     "name": "stdout",
     "output_type": "stream",
     "text": [
      "[  0.37161158   6.88293472  -8.35524929  14.83876221 211.8886461\n",
      "   7.16782256   2.70074462]\n"
     ]
    }
   ],
   "source": [
    "rslt_6_7 = rslt\n",
    "print rslt_6_7.x"
   ]
  },
  {
   "cell_type": "code",
   "execution_count": 341,
   "metadata": {},
   "outputs": [
    {
     "name": "stdout",
     "output_type": "stream",
     "text": [
      "2042\n",
      "2080\n",
      "2117\n",
      "2219\n",
      "2369\n",
      "2422\n",
      "2548\n",
      "2781\n",
      "2943\n",
      "2923\n",
      "0\n"
     ]
    }
   ],
   "source": [
    "age8DF = subDF[subDF.SC_AGE_YEARS==8]\n",
    "print len(age8DF)\n",
    "age9DF = subDF[subDF.SC_AGE_YEARS==9]\n",
    "print len(age9DF)\n",
    "age10DF = subDF[subDF.SC_AGE_YEARS==10]\n",
    "print len(age10DF)\n",
    "age11DF = subDF[subDF.SC_AGE_YEARS==11]\n",
    "print len(age11DF)\n",
    "age12DF = subDF[subDF.SC_AGE_YEARS==12]\n",
    "print len(age12DF)\n",
    "age13DF = subDF[subDF.SC_AGE_YEARS==13]\n",
    "print len(age13DF)\n",
    "age14DF = subDF[subDF.SC_AGE_YEARS==14]\n",
    "print len(age14DF)\n",
    "age15DF = subDF[subDF.SC_AGE_YEARS==15]\n",
    "print len(age15DF)\n",
    "age16DF = subDF[subDF.SC_AGE_YEARS==16]\n",
    "print len(age16DF)\n",
    "age17DF = subDF[subDF.SC_AGE_YEARS==17]\n",
    "print len(age17DF)\n",
    "age18DF = subDF[subDF.SC_AGE_YEARS==18]\n",
    "print len(age18DF)\n"
   ]
  },
  {
   "cell_type": "code",
   "execution_count": 342,
   "metadata": {},
   "outputs": [
    {
     "name": "stdout",
     "output_type": "stream",
     "text": [
      "6: 1768\n",
      "7: 1872\n",
      "8: 2042\n",
      "9: 2080\n",
      "10: 2117\n",
      "11: 2219\n",
      "12: 2369\n",
      "13: 2422\n",
      "14: 2548\n",
      "15: 2781\n",
      "16: 2943\n",
      "17: 2923\n"
     ]
    }
   ],
   "source": [
    "ageDFD = {}\n",
    "for age in range(6,18):\n",
    "    ageDFD[age] = subDF[subDF.SC_AGE_YEARS==age]\n",
    "    print '%s: %s' % (age, len(ageDFD[age]))"
   ]
  },
  {
   "cell_type": "code",
   "execution_count": 343,
   "metadata": {
    "collapsed": true
   },
   "outputs": [],
   "source": [
    "rsltD = {}\n",
    "rsltD[(6,7)] = rslt_6_7"
   ]
  },
  {
   "cell_type": "code",
   "execution_count": 346,
   "metadata": {},
   "outputs": [
    {
     "name": "stdout",
     "output_type": "stream",
     "text": [
      "starting 7 -> 8\n"
     ]
    },
    {
     "name": "stderr",
     "output_type": "stream",
     "text": [
      "/home/welling/myEnv/lib/python2.7/site-packages/ipykernel/__main__.py:39: RuntimeWarning: underflow encountered in exp\n"
     ]
    },
    {
     "name": "stdout",
     "output_type": "stream",
     "text": [
      "   direc: array([[  1.        ,   0.        ,   0.        ,   0.        ,\n",
      "          0.        ,   0.        ,   0.        ],\n",
      "       [  0.        ,   0.        ,   0.        ,   0.        ,\n",
      "          0.        ,   0.        ,   1.        ],\n",
      "       [  0.        ,   0.        ,   1.        ,   0.        ,\n",
      "          0.        ,   0.        ,   0.        ],\n",
      "       [  0.        ,   0.        ,   0.        ,   1.        ,\n",
      "          0.        ,   0.        ,   0.        ],\n",
      "       [  0.        ,   0.        ,   0.        ,   0.        ,\n",
      "          1.        ,   0.        ,   0.        ],\n",
      "       [  0.        ,   0.        ,   0.        ,   0.        ,\n",
      "          0.        ,   1.        ,   0.        ],\n",
      "       [ -0.28686117,  -0.70452725,  -0.18866725, -58.802359  ,\n",
      "          3.54122515,  -3.86306382,   0.42168529]])\n",
      "     fun: -3.4006120987177875\n",
      " message: 'Optimization terminated successfully.'\n",
      "    nfev: 530\n",
      "     nit: 5\n",
      "  status: 0\n",
      " success: True\n",
      "       x: array([ 8.11634528,  0.03285228,  5.15817632, 26.11021907, 12.43188385,\n",
      "        8.4711428 ,  0.79226034])\n",
      "starting 8 -> 9\n",
      "   direc: array([[ 1.00000000e+00,  0.00000000e+00,  0.00000000e+00,\n",
      "         0.00000000e+00,  0.00000000e+00,  0.00000000e+00,\n",
      "         0.00000000e+00],\n",
      "       [ 0.00000000e+00,  0.00000000e+00,  0.00000000e+00,\n",
      "         0.00000000e+00,  0.00000000e+00,  0.00000000e+00,\n",
      "         1.00000000e+00],\n",
      "       [ 0.00000000e+00,  0.00000000e+00,  1.00000000e+00,\n",
      "         0.00000000e+00,  0.00000000e+00,  0.00000000e+00,\n",
      "         0.00000000e+00],\n",
      "       [ 0.00000000e+00,  0.00000000e+00,  0.00000000e+00,\n",
      "         1.00000000e+00,  0.00000000e+00,  0.00000000e+00,\n",
      "         0.00000000e+00],\n",
      "       [ 0.00000000e+00,  0.00000000e+00,  0.00000000e+00,\n",
      "         0.00000000e+00,  1.00000000e+00,  0.00000000e+00,\n",
      "         0.00000000e+00],\n",
      "       [ 0.00000000e+00,  0.00000000e+00,  0.00000000e+00,\n",
      "         0.00000000e+00,  0.00000000e+00,  1.00000000e+00,\n",
      "         0.00000000e+00],\n",
      "       [-7.28626411e-01,  1.23606802e+00,  2.89678394e-04,\n",
      "         4.23606814e+00,  3.55398328e+00,  4.49705479e+00,\n",
      "         3.22707834e-01]])\n",
      "     fun: -2.8684920529908413\n",
      " message: 'Optimization terminated successfully.'\n",
      "    nfev: 415\n",
      "     nit: 4\n",
      "  status: 0\n",
      " success: True\n",
      "       x: array([ 4.1479265 ,  2.58656989,  1.05623154, 13.14483605, 12.08803346,\n",
      "       13.20845214,  1.79987733])\n",
      "starting 9 -> 10\n",
      "   direc: array([[ 1.        ,  0.        ,  0.        ,  0.        ,  0.        ,\n",
      "         0.        ,  0.        ],\n",
      "       [ 0.        ,  0.        ,  0.        ,  0.        ,  0.        ,\n",
      "         0.        ,  1.        ],\n",
      "       [ 0.        ,  0.        ,  1.        ,  0.        ,  0.        ,\n",
      "         0.        ,  0.        ],\n",
      "       [ 0.        ,  0.        ,  0.        ,  1.        ,  0.        ,\n",
      "         0.        ,  0.        ],\n",
      "       [ 0.        ,  0.        ,  0.        ,  0.        ,  1.        ,\n",
      "         0.        ,  0.        ],\n",
      "       [ 0.        ,  0.        ,  0.        ,  0.        ,  0.        ,\n",
      "         1.        ,  0.        ],\n",
      "       [ 1.96794614,  5.51387808,  3.11890895,  3.88077857,  8.62347318,\n",
      "        13.29572887, -0.22497578]])\n",
      "     fun: -2.6839922922551294\n",
      " message: 'Optimization terminated successfully.'\n",
      "    nfev: 208\n",
      "     nit: 2\n",
      "  status: 0\n",
      " success: True\n",
      "       x: array([ 8.46375634, 13.82970018,  7.77949369, 12.10992892, 22.66262114,\n",
      "       30.95950869,  1.05376236])\n",
      "starting 10 -> 11\n",
      "   direc: array([[ 1.        ,  0.        ,  0.        ,  0.        ,  0.        ,\n",
      "         0.        ,  0.        ],\n",
      "       [-0.4396132 ,  0.29179606,  0.06610826,  1.39888823,  1.16675312,\n",
      "         2.68235359, -0.56426867],\n",
      "       [ 0.        ,  0.        ,  1.        ,  0.        ,  0.        ,\n",
      "         0.        ,  0.        ],\n",
      "       [ 0.        ,  0.        ,  0.        ,  1.        ,  0.        ,\n",
      "         0.        ,  0.        ],\n",
      "       [ 0.        ,  0.        ,  0.        ,  0.        ,  1.        ,\n",
      "         0.        ,  0.        ],\n",
      "       [ 0.        ,  0.        ,  0.        ,  0.        ,  0.        ,\n",
      "         1.        ,  0.        ],\n",
      "       [ 0.56750817, -0.09606385,  0.25292655, -1.33560901, -1.52309798,\n",
      "        -2.25121965,  0.02427831]])\n",
      "     fun: -2.984130605060529\n",
      " message: 'Optimization terminated successfully.'\n",
      "    nfev: 557\n",
      "     nit: 5\n",
      "  status: 0\n",
      " success: True\n",
      "       x: array([-0.04618486,  1.4978988 ,  1.60276622,  8.77335881, 16.16966486,\n",
      "       19.54970392, -1.78221014])\n",
      "starting 11 -> 12\n",
      "   direc: array([[ 1.        ,  0.        ,  0.        ,  0.        ,  0.        ,\n",
      "         0.        ,  0.        ],\n",
      "       [-0.392751  ,  0.392751  , -0.32204994,  2.50438928,  2.27503419,\n",
      "         3.74976351, -0.48331004],\n",
      "       [ 0.        ,  0.        ,  1.        ,  0.        ,  0.        ,\n",
      "         0.        ,  0.        ],\n",
      "       [ 0.        ,  0.        ,  0.        ,  1.        ,  0.        ,\n",
      "         0.        ,  0.        ],\n",
      "       [ 0.        ,  0.        ,  0.        ,  0.        ,  1.        ,\n",
      "         0.        ,  0.        ],\n",
      "       [ 0.        ,  0.        ,  0.        ,  0.        ,  0.        ,\n",
      "         1.        ,  0.        ],\n",
      "       [-1.57343651,  0.83129999,  2.35432471,  6.53618441,  9.04904405,\n",
      "        12.97903076, -0.89713815]])\n",
      "     fun: -2.8713832562515704\n",
      " message: 'Optimization terminated successfully.'\n",
      "    nfev: 312\n",
      "     nit: 3\n",
      "  status: 0\n",
      " success: True\n",
      "       x: array([-4.46147287,  4.60110608,  9.96346135, 33.87796186, 43.35176408,\n",
      "       66.36247914, -4.17685564])\n",
      "starting 12 -> 13\n",
      "   direc: array([[ 1.        ,  0.        ,  0.        ,  0.        ,  0.        ,\n",
      "         0.        ,  0.        ],\n",
      "       [ 0.        ,  0.        ,  0.        ,  0.        ,  0.        ,\n",
      "         0.        ,  1.        ],\n",
      "       [ 0.        ,  0.        ,  1.        ,  0.        ,  0.        ,\n",
      "         0.        ,  0.        ],\n",
      "       [ 0.        ,  0.        ,  0.        ,  1.        ,  0.        ,\n",
      "         0.        ,  0.        ],\n",
      "       [ 0.        ,  0.        ,  0.        ,  0.        ,  1.        ,\n",
      "         0.        ,  0.        ],\n",
      "       [ 0.        ,  0.        ,  0.        ,  0.        ,  0.        ,\n",
      "         1.        ,  0.        ],\n",
      "       [-2.18033984,  0.89465185, -1.20101562,  3.31554386,  3.2705098 ,\n",
      "         2.49588465, -0.4936902 ]])\n",
      "     fun: -2.8292099407868507\n",
      " message: 'Optimization terminated successfully.'\n",
      "    nfev: 379\n",
      "     nit: 4\n",
      "  status: 0\n",
      " success: True\n",
      "       x: array([-8.20811939,  6.64414103,  3.47470188, 26.96700719, 23.55242897,\n",
      "       20.99303256,  1.68322144])\n",
      "starting 13 -> 14\n",
      "   direc: array([[ 1.        ,  0.        ,  0.        ,  0.        ,  0.        ,\n",
      "         0.        ,  0.        ],\n",
      "       [ 0.        ,  0.        ,  0.        ,  0.        ,  0.        ,\n",
      "         0.        ,  1.        ],\n",
      "       [ 0.        ,  0.        ,  1.        ,  0.        ,  0.        ,\n",
      "         0.        ,  0.        ],\n",
      "       [ 0.        ,  0.        ,  0.        ,  1.        ,  0.        ,\n",
      "         0.        ,  0.        ],\n",
      "       [ 0.        ,  0.        ,  0.        ,  0.        ,  1.        ,\n",
      "         0.        ,  0.        ],\n",
      "       [ 0.        ,  0.        ,  0.        ,  0.        ,  0.        ,\n",
      "         1.        ,  0.        ],\n",
      "       [ 0.13631961,  6.4351803 , -0.12053339, 12.1054278 , 22.902493  ,\n",
      "         8.48565351,  1.56404459]])\n",
      "     fun: -2.7617100709338\n",
      " message: 'Optimization terminated successfully.'\n",
      "    nfev: 204\n",
      "     nit: 2\n",
      "  status: 0\n",
      " success: True\n",
      "       x: array([ 2.39077434, 14.83601876, -0.80574649, 28.18702367, 58.41834573,\n",
      "       21.05204182,  6.60581014])\n",
      "starting 14 -> 15\n",
      "   direc: array([[ 1.00000000e+00,  0.00000000e+00,  0.00000000e+00,\n",
      "         0.00000000e+00,  0.00000000e+00,  0.00000000e+00,\n",
      "         0.00000000e+00],\n",
      "       [ 0.00000000e+00,  0.00000000e+00,  0.00000000e+00,\n",
      "         0.00000000e+00,  0.00000000e+00,  0.00000000e+00,\n",
      "         1.00000000e+00],\n",
      "       [ 0.00000000e+00,  0.00000000e+00,  1.00000000e+00,\n",
      "         0.00000000e+00,  0.00000000e+00,  0.00000000e+00,\n",
      "         0.00000000e+00],\n",
      "       [ 0.00000000e+00,  0.00000000e+00,  0.00000000e+00,\n",
      "         1.00000000e+00,  0.00000000e+00,  0.00000000e+00,\n",
      "         0.00000000e+00],\n",
      "       [ 0.00000000e+00,  0.00000000e+00,  0.00000000e+00,\n",
      "         0.00000000e+00,  1.00000000e+00,  0.00000000e+00,\n",
      "         0.00000000e+00],\n",
      "       [ 0.00000000e+00,  0.00000000e+00,  0.00000000e+00,\n",
      "         0.00000000e+00,  0.00000000e+00,  1.00000000e+00,\n",
      "         0.00000000e+00],\n",
      "       [ 6.12263543e+00,  1.90504818e+00,  1.17738455e+00,\n",
      "         6.74957507e+01,  2.35976698e+01,  1.04654911e+01,\n",
      "        -2.67891944e-09]])\n",
      "     fun: -2.9608527675046146\n",
      " message: 'Optimization terminated successfully.'\n",
      "    nfev: 427\n",
      "     nit: 3\n",
      "  status: 0\n",
      " success: True\n",
      "       x: array([ 19.13499925,   5.08813916,   5.14197898, 180.77227192,\n",
      "        62.67777494,  29.58981547,   1.31943095])\n",
      "starting 15 -> 16\n",
      "   direc: array([[  1.        ,   0.        ,   0.        ,   0.        ,\n",
      "          0.        ,   0.        ,   0.        ],\n",
      "       [  0.        ,   0.        ,   0.        ,   0.        ,\n",
      "          0.        ,   0.        ,   1.        ],\n",
      "       [ -2.66616198,   3.76151732,  -2.54933673,  95.80897609,\n",
      "         31.03204269,  78.94449934,  -1.57557671],\n",
      "       [  0.        ,   0.        ,   0.        ,   1.        ,\n",
      "          0.        ,   0.        ,   0.        ],\n",
      "       [  0.        ,   0.        ,   0.        ,   0.        ,\n",
      "          1.        ,   0.        ,   0.        ],\n",
      "       [  0.        ,   0.        ,   0.        ,   0.        ,\n",
      "          0.        ,   1.        ,   0.        ],\n",
      "       [ -3.83301599,   6.20325819,  -3.80135782, 158.58644204,\n",
      "         51.73994742, 130.75416279,  -2.46797637]])\n",
      "     fun: -3.017166358685971\n",
      " message: 'Optimization terminated successfully.'\n",
      "    nfev: 314\n",
      "     nit: 3\n",
      "  status: 0\n",
      " success: True\n",
      "       x: array([-11.07346437,  19.53087508, -10.97253101, 501.72401287,\n",
      "       167.28050705, 412.05188895,  -5.65000328])\n",
      "starting 16 -> 17\n",
      "   direc: array([[ 1.        ,  0.        ,  0.        ,  0.        ,  0.        ,\n",
      "         0.        ,  0.        ],\n",
      "       [ 0.        ,  0.        ,  0.        ,  0.        ,  0.        ,\n",
      "         0.        ,  1.        ],\n",
      "       [ 0.        ,  0.        ,  1.        ,  0.        ,  0.        ,\n",
      "         0.        ,  0.        ],\n",
      "       [ 0.        ,  0.        ,  0.        ,  1.        ,  0.        ,\n",
      "         0.        ,  0.        ],\n",
      "       [ 0.        ,  0.        ,  0.        ,  0.        ,  1.        ,\n",
      "         0.        ,  0.        ],\n",
      "       [ 0.        ,  0.        ,  0.        ,  0.        ,  0.        ,\n",
      "         1.        ,  0.        ],\n",
      "       [ 0.0414026 ,  0.96191362,  1.16123661,  1.82711807, 16.8083954 ,\n",
      "         3.38238346,  1.53270647]])\n",
      "     fun: -2.8803703578688467\n",
      " message: 'Optimization terminated successfully.'\n",
      "    nfev: 283\n",
      "     nit: 3\n",
      "  status: 0\n",
      " success: True\n",
      "       x: array([ 3.92043885,  3.63624864,  7.90795267,  9.59386796, 67.77381464,\n",
      "       14.80389174,  8.43606541])\n"
     ]
    }
   ],
   "source": [
    "def sampler(nSamp, df):\n",
    "    return mkSamps(df, nSamp)\n",
    "for ageLow in range(7, 17):\n",
    "    ageHigh = ageLow + 1\n",
    "    print 'starting %s -> %s' % (ageLow, ageHigh)\n",
    "    nSamp = 1000\n",
    "    nIter = 1000\n",
    "    stepsizes = np.empty([nSamp])\n",
    "    stepsizes.fill(0.005)\n",
    "    testSampParams = {'df': ageDFD[ageLow]}\n",
    "    genSampParams = {'df': ageDFD[ageHigh]}\n",
    "    mutatorParams = {'stepSzV': stepsizes, 'df': ageDFD[ageHigh]}\n",
    "\n",
    "    guess = np.array([1.0, 1.0e-4, 1.0, 1.0, 1.0, 1.0, 1.0])\n",
    "    rslt = minimize(minimizeMe, guess, (nSamp, nIter, sampler, testSampParams, genSampParams,\n",
    "                                       mutate, mutatorParams), method='powell')\n",
    "    print rslt\n",
    "    rsltD[(ageLow, ageHigh)] = rslt"
   ]
  },
  {
   "cell_type": "code",
   "execution_count": 349,
   "metadata": {
    "collapsed": true
   },
   "outputs": [],
   "source": [
    "import cPickle as pickle\n",
    "with open('rsltd_20190408.pkl', 'w') as f:\n",
    "    pickle.dump(rsltD, f)"
   ]
  },
  {
   "cell_type": "code",
   "execution_count": 348,
   "metadata": {},
   "outputs": [
    {
     "name": "stdout",
     "output_type": "stream",
     "text": [
      "6 -> 7: -2.8650307214469173\n"
     ]
    },
    {
     "name": "stderr",
     "output_type": "stream",
     "text": [
      "/home/welling/myEnv/lib/python2.7/site-packages/ipykernel/__main__.py:39: RuntimeWarning: underflow encountered in exp\n"
     ]
    },
    {
     "data": {
      "image/png": "[encoded data removed]",
      "text/plain": [
       "<Figure size 432x288 with 1 Axes>"
      ]
     },
     "metadata": {},
     "output_type": "display_data"
    },
    {
     "name": "stdout",
     "output_type": "stream",
     "text": [
      "2.8464586902517155\n",
      "7 -> 8: -3.4006120987177875\n"
     ]
    },
    {
     "data": {
      "image/png": "[encoded data removed]",
      "text/plain": [
       "<Figure size 432x288 with 1 Axes>"
      ]
     },
     "metadata": {},
     "output_type": "display_data"
    },
    {
     "name": "stdout",
     "output_type": "stream",
     "text": [
      "3.2923163668005433\n",
      "8 -> 9: -2.8684920529908413\n"
     ]
    },
    {
     "data": {
      "image/png": "[encoded data removed]",
      "text/plain": [
       "<Figure size 432x288 with 1 Axes>"
      ]
     },
     "metadata": {},
     "output_type": "display_data"
    },
    {
     "name": "stdout",
     "output_type": "stream",
     "text": [
      "2.87663277500248\n",
      "9 -> 10: -2.6839922922551294\n"
     ]
    },
    {
     "data": {
      "image/png": "[encoded data removed]",
      "text/plain": [
       "<Figure size 432x288 with 1 Axes>"
      ]
     },
     "metadata": {},
     "output_type": "display_data"
    },
    {
     "name": "stdout",
     "output_type": "stream",
     "text": [
      "2.621694850523692\n",
      "10 -> 11: -2.984130605060529\n"
     ]
    },
    {
     "data": {
      "image/png": "[encoded data removed]",
      "text/plain": [
       "<Figure size 432x288 with 1 Axes>"
      ]
     },
     "metadata": {},
     "output_type": "display_data"
    },
    {
     "name": "stdout",
     "output_type": "stream",
     "text": [
      "2.9460412502396114\n",
      "11 -> 12: -2.8713832562515704\n"
     ]
    },
    {
     "data": {
      "image/png": "[encoded data removed]",
      "text/plain": [
       "<Figure size 432x288 with 1 Axes>"
      ]
     },
     "metadata": {},
     "output_type": "display_data"
    },
    {
     "name": "stdout",
     "output_type": "stream",
     "text": [
      "2.8523739767252936\n",
      "12 -> 13: -2.8292099407868507\n"
     ]
    },
    {
     "data": {
      "image/png": "[encoded data removed]",
      "text/plain": [
       "<Figure size 432x288 with 1 Axes>"
      ]
     },
     "metadata": {},
     "output_type": "display_data"
    },
    {
     "name": "stdout",
     "output_type": "stream",
     "text": [
      "2.8138298142341\n",
      "13 -> 14: -2.7617100709338\n"
     ]
    },
    {
     "data": {
      "image/png": "[encoded data removed]",
      "text/plain": [
       "<Figure size 432x288 with 1 Axes>"
      ]
     },
     "metadata": {},
     "output_type": "display_data"
    },
    {
     "name": "stdout",
     "output_type": "stream",
     "text": [
      "2.701866562759925\n",
      "14 -> 15: -2.9608527675046146\n"
     ]
    },
    {
     "data": {
      "image/png": "[encoded data removed]",
      "text/plain": [
       "<Figure size 432x288 with 1 Axes>"
      ]
     },
     "metadata": {},
     "output_type": "display_data"
    },
    {
     "name": "stdout",
     "output_type": "stream",
     "text": [
      "2.971612798818977\n",
      "15 -> 16: -3.017166358685971\n"
     ]
    },
    {
     "data": {
      "image/png": "[encoded data removed]",
      "text/plain": [
       "<Figure size 432x288 with 1 Axes>"
      ]
     },
     "metadata": {},
     "output_type": "display_data"
    },
    {
     "name": "stdout",
     "output_type": "stream",
     "text": [
      "2.975671958319418\n",
      "16 -> 17: -2.8803703578688467\n"
     ]
    },
    {
     "data": {
      "image/png": "[encoded data removed]",
      "text/plain": [
       "<Figure size 432x288 with 1 Axes>"
      ]
     },
     "metadata": {},
     "output_type": "display_data"
    },
    {
     "name": "stdout",
     "output_type": "stream",
     "text": [
      "2.809253710385479\n"
     ]
    }
   ],
   "source": [
    "np.seterr(all='warn')\n",
    "for ageLow in range(6, 17):\n",
    "    ageHigh = ageLow + 1\n",
    "    rslt = rsltD[(ageLow, ageHigh)]\n",
    "    print '%s -> %s: %s' % (ageLow, ageHigh, rslt.fun)\n",
    "    nSamp = 1000\n",
    "    nIter = 1000\n",
    "    stepsizes = np.empty([nSamp])\n",
    "    stepsizes.fill(0.005)\n",
    "    testSampParams = {'df': ageDFD[ageLow]}\n",
    "    genSampParams = {'df': ageDFD[ageHigh]}\n",
    "    mutatorParams = {'stepSzV': stepsizes, 'df': ageDFD[ageHigh]}\n",
    "    finalMI = sampleAndCalcMI(rslt.x, nSamp, nIter, sampler, testSampParams, genSampParams,\n",
    "                              mutator, mutatorParams, drawGraph=True, verbose=False)\n",
    "    print finalMI"
   ]
  },
  {
   "cell_type": "code",
   "execution_count": 323,
   "metadata": {},
   "outputs": [
    {
     "name": "stdout",
     "output_type": "stream",
     "text": [
      "6 -> 7: -3.3932364265583965\n",
      "[1.88854385e+00 3.23367370e-03 1.47061410e+01 2.83322669e+00\n",
      " 7.94427194e+00 1.60487837e+00 6.60201561e-02]\n",
      "[ 4.96713211e+00  1.59196765e-03  1.36818239e+00  5.00000003e+00\n",
      "  6.44546679e+00  2.78437081e+00 -1.16632795e-02]\n",
      "[ 1.88854385e+00  3.23367370e-03  1.36818239e+00  5.00000003e+00\n",
      "  6.44546679e+00  2.78437081e+00 -1.16632795e-02]\n"
     ]
    },
    {
     "data": {
      "image/png": "[encoded data removed]",
      "text/plain": [
       "<Figure size 432x288 with 1 Axes>"
      ]
     },
     "metadata": {},
     "output_type": "display_data"
    },
    {
     "name": "stdout",
     "output_type": "stream",
     "text": [
      "3.33583775040041\n"
     ]
    }
   ],
   "source": [
    "ageLow = 6\n",
    "ageHigh = ageLow + 1\n",
    "rslt = rsltD[(ageLow, ageHigh)]\n",
    "print '%s -> %s: %s' % (ageLow, ageHigh, rslt.fun)\n",
    "nSamp = 1000\n",
    "nIter = 1000\n",
    "stepsizes = np.empty([nSamp])\n",
    "stepsizes.fill(0.005)\n",
    "testSampParams = {'df': ageDFD[ageLow]}\n",
    "genSampParams = {'df': ageDFD[ageHigh]}\n",
    "mutatorParams = {'stepSzV': stepsizes, 'df': ageDFD[ageHigh]}\n",
    "print rsltD[(6,7)].x\n",
    "print rsltD[(7,8)].x\n",
    "#testPt = np.asarray([  6.74485578,  2.32841484, 1.4463155, 310.20180186, 27.83182466,\n",
    "#  13.0654487, 11.79189153 , 13.90367251])\n",
    "testPt = rsltD[(7,8)].x.copy()\n",
    "testPt[0:2] = rsltD[(6,7)].x[0:2]\n",
    "print testPt\n",
    "finalMI = sampleAndCalcMI(testPt, nSamp, nIter, sampler, testSampParams, genSampParams,\n",
    "                          mutator, mutatorParams, drawGraph=True, verbose=False)\n",
    "print finalMI"
   ]
  },
  {
   "cell_type": "code",
   "execution_count": 324,
   "metadata": {},
   "outputs": [
    {
     "name": "stdout",
     "output_type": "stream",
     "text": [
      "[(16, 17), (9, 10), (10, 11), (12, 13), (11, 12), (15, 16), (8, 9), (13, 14), (14, 15), (6, 7), (7, 8)]\n"
     ]
    }
   ],
   "source": [
    "print rsltD.keys()"
   ]
  },
  {
   "cell_type": "code",
   "execution_count": 327,
   "metadata": {},
   "outputs": [
    {
     "name": "stdout",
     "output_type": "stream",
     "text": [
      "                        YEAR        FPL    SC_AGE_YEARS K4Q32X01     K7Q30      K7Q31     AGEPOS4  \n",
      " 6 ->  7: -3.393236:    1.88854,   0.00323,  14.70614,   2.83323,   7.94427,   1.60488,   0.06602\n",
      " 7 ->  8: -3.489186:    4.96713,   0.00159,   1.36818,   5.00000,   6.44547,   2.78437,  -0.01166\n",
      " 8 ->  9: -3.542644:    2.54010,   0.00091,   1.47691,   2.51216,   3.61803,   2.21486,   0.03090\n",
      " 9 -> 10: -3.448740:    4.02343,   0.00079,   2.60045,   2.57323,   3.61803,   2.90896,   0.04528\n",
      "10 -> 11: -3.443559:    7.26090,   0.00091,  -6.87068,  -2.82436,   5.55018,   2.93899,  -0.03951\n",
      "11 -> 12: -3.456991:    4.06271,   0.00014,   2.15325,   4.64771,   3.02364,   3.76061,   0.01000\n",
      "12 -> 13: -3.456794:    2.37934,   0.00442,   3.00000,   2.78392,   6.08061,   4.96026,  -0.02367\n",
      "13 -> 14: -3.433499:    0.23607,   0.00258,   3.31646,   3.03177,   4.77132,   4.85410,  -0.10099\n",
      "14 -> 15: -3.381257:    6.89512,   0.00290,   0.52650,   3.05761,   2.38197,   1.57546,   0.00653\n",
      "15 -> 16: -3.390751:    3.01000,   0.00255,  -0.50658,   2.40290,   2.26829,   2.98896,   0.04158\n",
      "16 -> 17: -3.320639:    4.98308,   0.00103,   4.41026,   4.47214,   2.87542,   3.57567,   1.70148\n"
     ]
    }
   ],
   "source": [
    "ageLow = 6\n",
    "print ('%s%s' % (' ' * 21,\n",
    "                 ''.join(['{:^11s}'.format(INV_COLUMN_DICT[idx]) for idx in range(2,9)])))\n",
    "while True:\n",
    "    ageHigh = ageLow + 1\n",
    "    if (ageLow, ageHigh) not in rsltD:\n",
    "        break\n",
    "    rslt = rsltD[(ageLow, ageHigh)]\n",
    "    ss = ', '.join(['{: >9,.5f}'.format(val) for val in rslt.x])\n",
    "    print '%2d -> %2d: %.6f:  %s' % (ageLow, ageHigh, rslt.fun, ss)\n",
    "    ageLow += 1"
   ]
  },
  {
   "cell_type": "code",
   "execution_count": 25,
   "metadata": {},
   "outputs": [
    {
     "data": {
      "image/png": "[encoded data removed]",
      "text/plain": [
       "<Figure size 432x288 with 1 Axes>"
      ]
     },
     "metadata": {},
     "output_type": "display_data"
    },
    {
     "data": {
      "image/png": "[encoded data removed]",
      "text/plain": [
       "<Figure size 432x288 with 1 Axes>"
      ]
     },
     "metadata": {},
     "output_type": "display_data"
    }
   ],
   "source": [
    "testBins, nBins = whichBin(testSamps.values)\n",
    "rsltBins = whichBin(clean[10])[0]\n",
    "hM, xEdges, yEdges = np.histogram2d(testBins, rsltBins, bins=64)\n",
    "plt.imshow(np.log(hM + 1))\n",
    "plt.show()\n",
    "\n",
    "testBins, nBins = whichBin(expandedTestV)\n",
    "rsltBins = whichBin(cleanV)[0]\n",
    "hM, xEdges, yEdges = np.histogram2d(testBins, rsltBins, bins=64)\n",
    "plt.imshow(np.log(hM + 1))\n",
    "plt.show()\n"
   ]
  },
  {
   "cell_type": "markdown",
   "metadata": {},
   "source": [
    "## Ignore the rest of this ##\n",
    "These bits are just left-overs"
   ]
  },
  {
   "cell_type": "code",
   "execution_count": 25,
   "metadata": {},
   "outputs": [
    {
     "name": "stdout",
     "output_type": "stream",
     "text": [
      "      AGEPOS4  FPL  K4Q01  K4Q32X01  K7Q30  K7Q31  SC_AGE_YEARS\n",
      "ACE7      1.0  1.0    1.0       1.0    1.0    1.0           1.0\n",
      "ACE8      1.0  1.0    1.0       1.0    1.0    1.0           1.0\n"
     ]
    }
   ],
   "source": [
    "wtDF = pd.DataFrame({'FPL':[1.0, 1.0], 'SC_AGE_YEARS': [1.0, 1.0], 'K4Q01': [1.0, 1.0], 'K4Q32X01': [1.0, 1.0],\n",
    "       'K7Q30':[1.0, 1.0], 'K7Q31': [1.0, 1.0], 'AGEPOS4': [1.0, 1.0]}, index=['ACE7', 'ACE8'])\n",
    "print wtDF"
   ]
  },
  {
   "cell_type": "code",
   "execution_count": 26,
   "metadata": {},
   "outputs": [],
   "source": [
    "def funV(samps1, samps2, wtDF):\n",
    "    \"\"\"\n",
    "    Returns a numpy matrix the rows of which correspond to ACE7 and ACE8 and\n",
    "    the columns of which correspond to the input samples\n",
    "    \"\"\"\n",
    "    wtA = wtDF.values\n",
    "    offset = samps1.values.shape[1] - wtDF.values.shape[1]\n",
    "    samp1A = samps1.values[:, offset:]\n",
    "    samp2A = samps2.values[:, offset:]\n",
    "    delta = samp1A - samp2A\n",
    "    return np.asmatrix(wtA) * np.asmatrix(delta).transpose()\n",
    "    "
   ]
  },
  {
   "cell_type": "code",
   "execution_count": 27,
   "metadata": {},
   "outputs": [
    {
     "name": "stdout",
     "output_type": "stream",
     "text": [
      "[[  1. -30. -77.]\n",
      " [  1. -30. -77.]]\n"
     ]
    }
   ],
   "source": [
    "print funV(mkSamps(subDF, 3), mkSamps(subDF, 3), wtDF)"
   ]
  },
  {
   "cell_type": "markdown",
   "metadata": {
    "collapsed": true
   },
   "source": [
    "$\\mathcal L(\\{M_1,M_2,\\ldots,M_N\\};\\alpha) = \\prod_{n=1}^N p(M_n|\\alpha) = \\prod_{n=1}^N c\\left(\\frac{M_n}{M_\\odot}\\right)^{-\\alpha}$"
   ]
  },
  {
   "cell_type": "code",
   "execution_count": null,
   "metadata": {
    "collapsed": true
   },
   "outputs": [],
   "source": []
  }
 ],
 "metadata": {
  "kernelspec": {
   "display_name": "Python 3 (py3Env)",
   "language": "python",
   "name": "py3env"
  },
  "language_info": {
   "codemirror_mode": {
    "name": "ipython",
    "version": 3
   },
   "file_extension": ".py",
   "mimetype": "text/x-python",
   "name": "python",
   "nbconvert_exporter": "python",
   "pygments_lexer": "ipython3",
   "version": "3.7.3"
  }
 },
 "nbformat": 4,
 "nbformat_minor": 2
}
