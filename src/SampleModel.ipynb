{
 "cells": [
  {
   "cell_type": "code",
   "execution_count": 1,
   "metadata": {
    "collapsed": true
   },
   "outputs": [],
   "source": [
    "import numpy as np\n",
    "import pandas as pd\n",
    "import scipy.stats\n",
    "import matplotlib.pyplot as plt"
   ]
  },
  {
   "cell_type": "code",
   "execution_count": 2,
   "metadata": {
    "collapsed": false
   },
   "outputs": [
    {
     "name": "stdout",
     "output_type": "stream",
     "text": [
      "Index([u'FIPSST', u'HHID', u'FORMTYPE', u'TOTKIDS_R', u'HHLANGUAGE',\n",
      "       u'SC_AGE_YEARS', u'SC_SEX', u'K2Q35A_1_YEARS', u'MOMAGE',\n",
      "       u'K6Q41R_STILL',\n",
      "       ...\n",
      "       u'BIRTHWT', u'CBSAFP_YN', u'FWC', u'CURRINS', u'INSTYPE', u'HOUSE_GEN',\n",
      "       u'HHSIZE_I', u'HHSIZE_IF', u'FPL_IF', u'INSGAP'],\n",
      "      dtype='object', length=422)\n"
     ]
    }
   ],
   "source": [
    "fullDF = pd.read_csv('/home/welling/git/synecoace/data/nsch_2016_topical.csv')\n",
    "print fullDF.columns"
   ]
  },
  {
   "cell_type": "markdown",
   "metadata": {},
   "source": [
    "## The Model ##\n",
    "\n",
    "Consider two sequential ages, say 6 and 7 years.  Given an child at one age, the goal is to produce a *guide function* which can be used to select a collection of children at the other age which as a group describe the most likely match to the original child.  Specifically, given a sample of individuals at one age, the guide function should generate samples at the other age having the highest possible *mutual information* with the first group.\n",
    "\n",
    "The guided samples will be selected by applying *Metropolis sampling* using the guide function.  This requires only that the guide function be positive definite and integrable.  In essense the guide function is proportional to the likelihood that a sampled child at one age matches a specific child at the other age.\n",
    "\n",
    "We will develop an appropriate guide function by defining a function of an appropriate form in terms of a set of weights.  Samples will be drawn based on the given weights, the mutual information will be calculated, and the weights will be updated so as to increase the mutual information.  This process will be repeated until the mutual information is maximized.  The set of weights which produces the maximum mutual information is the optimal choice of weights given the initial choice of form for the guide function."
   ]
  },
  {
   "cell_type": "markdown",
   "metadata": {},
   "source": [
    "## Factors we are using ##\n",
    "* ACE7: experienced violence\n",
    "* ACE8: drugs and alcohol\n",
    "* SC_AGE_YEARS: selected child age\n",
    "* K4Q32X01: vision tested by eye doctor (2.0 -> False)\n",
    "* K7Q30: sports teams\n",
    "* K7Q31: clubs or organizations\n",
    "* FPL: percent of federal poverty level?\n",
    "* AGEPOS4: birth order\n",
    "* FWC: sample weight\n",
    "* YEAR: survey year"
   ]
  },
  {
   "cell_type": "code",
   "execution_count": 3,
   "metadata": {
    "collapsed": false
   },
   "outputs": [
    {
     "name": "stdout",
     "output_type": "stream",
     "text": [
      "28084\n"
     ]
    }
   ],
   "source": [
    "subDF=fullDF[['ACE7', 'ACE8', 'FWC', 'YEAR', 'FPL', 'SC_AGE_YEARS','K4Q32X01', 'K7Q30', 'K7Q31', 'AGEPOS4']]\n",
    "subDF = subDF.dropna()\n",
    "print len(subDF)\n",
    "#print subDF"
   ]
  },
  {
   "cell_type": "code",
   "execution_count": 4,
   "metadata": {
    "collapsed": false
   },
   "outputs": [
    {
     "name": "stdout",
     "output_type": "stream",
     "text": [
      "1768\n",
      "1872\n"
     ]
    }
   ],
   "source": [
    "age6DF = subDF[subDF.SC_AGE_YEARS==6]\n",
    "print len(age6DF)\n",
    "age7DF = subDF[subDF.SC_AGE_YEARS==7]\n",
    "print len(age7DF)"
   ]
  },
  {
   "cell_type": "markdown",
   "metadata": {},
   "source": [
    "Select samples from the table in a weighted fashion"
   ]
  },
  {
   "cell_type": "code",
   "execution_count": 5,
   "metadata": {
    "collapsed": false
   },
   "outputs": [
    {
     "name": "stdout",
     "output_type": "stream",
     "text": [
      "       ACE7  ACE8    YEAR    FPL  SC_AGE_YEARS  K4Q32X01  K7Q30  K7Q31  \\\n",
      "20009   2.0   2.0  2016.0  400.0           6.0       1.0    1.0    2.0   \n",
      "28603   2.0   2.0  2016.0   50.0           6.0       2.0    2.0    2.0   \n",
      "4119    2.0   2.0  2016.0  400.0           6.0       2.0    1.0    2.0   \n",
      "47826   2.0   2.0  2016.0  182.0           6.0       1.0    2.0    1.0   \n",
      "26358   2.0   2.0  2016.0  400.0           6.0       2.0    1.0    2.0   \n",
      "17404   2.0   2.0  2016.0  400.0           6.0       2.0    1.0    1.0   \n",
      "12180   2.0   2.0  2016.0  166.0           6.0       1.0    1.0    2.0   \n",
      "27960   2.0   2.0  2016.0  400.0           6.0       2.0    1.0    1.0   \n",
      "13752   2.0   2.0  2016.0  142.0           6.0       2.0    2.0    2.0   \n",
      "27711   2.0   2.0  2016.0  354.0           6.0       1.0    1.0    1.0   \n",
      "\n",
      "       AGEPOS4  \n",
      "20009      3.0  \n",
      "28603      1.0  \n",
      "4119       1.0  \n",
      "47826      2.0  \n",
      "26358      4.0  \n",
      "17404      2.0  \n",
      "12180      4.0  \n",
      "27960      2.0  \n",
      "13752      3.0  \n",
      "27711      3.0  \n"
     ]
    }
   ],
   "source": [
    "def mkSamps(df, nSamp):\n",
    "    fracWt = df['FWC']/df['FWC'].sum()\n",
    "    choices = np.random.choice(len(df), nSamp, p=fracWt)\n",
    "    return df.iloc[choices].drop(columns=['FWC'])\n",
    "nSamp = 10\n",
    "print mkSamps(age6DF, nSamp)\n"
   ]
  },
  {
   "cell_type": "code",
   "execution_count": 6,
   "metadata": {
    "collapsed": false
   },
   "outputs": [
    {
     "name": "stdout",
     "output_type": "stream",
     "text": [
      "{'K4Q32X01': 5, 'FPL': 3, 'K7Q31': 7, 'K7Q30': 6, 'ACE8': 1, 'YEAR': 2, 'AGEPOS4': 8, 'ACE7': 0, 'SC_AGE_YEARS': 4}\n"
     ]
    }
   ],
   "source": [
    "COLUMN_DICT = {key : idx for idx, key in enumerate(mkSamps(subDF, 1).columns)}\n",
    "print COLUMN_DICT"
   ]
  },
  {
   "cell_type": "markdown",
   "metadata": {},
   "source": [
    "FPL needs to be binned to form a histogram to get the quantization we need for this.  Bins of 50 seems OK."
   ]
  },
  {
   "cell_type": "code",
   "execution_count": 7,
   "metadata": {
    "collapsed": false
   },
   "outputs": [
    {
     "data": {
      "image/png": "[encoded data removed]",
      "text/plain": [
       "<Figure size 432x288 with 1 Axes>"
      ]
     },
     "metadata": {},
     "output_type": "display_data"
    }
   ],
   "source": [
    "fplSamps = mkSamps(subDF, 100000)['FPL']\n",
    "plt.hist(fplSamps, bins=100)\n",
    "plt.title('Histogram of FPL values')\n",
    "plt.show()"
   ]
  },
  {
   "cell_type": "markdown",
   "metadata": {},
   "source": [
    "We need to enumerate the possible states for our variables.  Assume fixed age and ignore the ACE components for the moment.  "
   ]
  },
  {
   "cell_type": "code",
   "execution_count": 8,
   "metadata": {
    "collapsed": false
   },
   "outputs": [],
   "source": [
    "def whichBin(sampV):\n",
    "    \"\"\"\n",
    "    Input is an ndarray of sample values\n",
    "    \"\"\"\n",
    "    fplBinWidth = 50\n",
    "    fplMin = 50\n",
    "    bin = np.abs((sampV[:, COLUMN_DICT['FPL']] - fplMin) // 50).astype('int')\n",
    "    assert (bin >= 0).all() and (bin < 8).all(), 'FPL out of range?'\n",
    "    nBins = 8\n",
    "    # Each of the following is either 1.0 or 2.0\n",
    "    bin = 2 * bin + (sampV[:, COLUMN_DICT['K4Q32X01']] == 1.0)\n",
    "    nBins *= 2\n",
    "    bin = 2 * bin + (sampV[:, COLUMN_DICT['K7Q30']] == 1.0)\n",
    "    nBins *= 2\n",
    "    bin = 2 * bin + (sampV[:, COLUMN_DICT['K7Q31']] == 1.0)\n",
    "    nBins *= 2\n",
    "    return bin, nBins\n",
    "\n",
    "def scatter(idx, vals, target):\n",
    "    \"\"\"target[idx] += vals, but allowing for repeats in idx\"\"\"\n",
    "    np.add.at(target, idx.ravel(), vals.ravel())\n"
   ]
  },
  {
   "cell_type": "code",
   "execution_count": 9,
   "metadata": {
    "collapsed": true
   },
   "outputs": [],
   "source": [
    "def toHisto(sampV):\n",
    "    \"\"\"Generate a histogram of sample bins\"\"\"\n",
    "    binV, nBins = whichBin(sampV)\n",
    "    targ = np.zeros([nBins], dtype=np.int32)\n",
    "    vals = np.ones([len(sampV)], dtype=np.int32)\n",
    "    scatter(binV, vals, targ)\n",
    "    return targ"
   ]
  },
  {
   "cell_type": "code",
   "execution_count": 10,
   "metadata": {
    "collapsed": true
   },
   "outputs": [],
   "source": [
    "def toProbV(sampV):\n",
    "    sampH = toHisto(sampV)\n",
    "    probV = sampH.astype(np.float64)\n",
    "    probV /= np.sum(probV)\n",
    "    return probV"
   ]
  },
  {
   "cell_type": "code",
   "execution_count": 11,
   "metadata": {
    "collapsed": false
   },
   "outputs": [
    {
     "name": "stdout",
     "output_type": "stream",
     "text": [
      "Index([u'ACE7', u'ACE8', u'YEAR', u'FPL', u'SC_AGE_YEARS', u'K4Q32X01',\n",
      "       u'K7Q30', u'K7Q31', u'AGEPOS4'],\n",
      "      dtype='object')\n",
      "3\n",
      "[ 41   6  12  18  54  24  21  44  19   1   9  10  30   5  14   8  12   4\n",
      "  13  12  31  12  13  21   7   6   7  19  16  10  10  10   5   1   9  13\n",
      "   7   6   6  15   6   1   6  10   7   9   6  10   1   1   4   8   6   6\n",
      "   5  11  11  15  26  60  19  39  40 112]\n",
      "[0.041 0.006 0.012 0.018 0.054 0.024 0.021 0.044 0.019 0.001 0.009 0.01\n",
      " 0.03  0.005 0.014 0.008 0.012 0.004 0.013 0.012 0.031 0.012 0.013 0.021\n",
      " 0.007 0.006 0.007 0.019 0.016 0.01  0.01  0.01  0.005 0.001 0.009 0.013\n",
      " 0.007 0.006 0.006 0.015 0.006 0.001 0.006 0.01  0.007 0.009 0.006 0.01\n",
      " 0.001 0.001 0.004 0.008 0.006 0.006 0.005 0.011 0.011 0.015 0.026 0.06\n",
      " 0.019 0.039 0.04  0.112]\n"
     ]
    }
   ],
   "source": [
    "sampV = mkSamps(subDF, 1000)\n",
    "print sampV.columns\n",
    "print COLUMN_DICT['FPL']\n",
    "sampH = toHisto(sampV.values)\n",
    "print sampH\n",
    "probV = toProbV(sampV.values)\n",
    "print probV"
   ]
  },
  {
   "cell_type": "markdown",
   "metadata": {},
   "source": [
    "Given the probV we can calculate mutual information:\n",
    "$$\n",
    "I(X;Y) = \\sum_{y \\in Y} \\sum_{x \\in X} p(x, y) log \\left (\\frac{p(x,y)}{p(x)p(y)} \\right )\n",
    "$$"
   ]
  },
  {
   "cell_type": "code",
   "execution_count": 12,
   "metadata": {
    "collapsed": false
   },
   "outputs": [
    {
     "name": "stdout",
     "output_type": "stream",
     "text": [
      "0.5427349953977184\n",
      "3.797252487618632\n",
      "3.7877533997506414\n"
     ]
    }
   ],
   "source": [
    "def mutualInfo(sampVX, sampVY):\n",
    "    assert len(sampVX) == len(sampVY), 'Sample vector lengths do not match'\n",
    "    binVX, nBinsX = whichBin(sampVX)\n",
    "    binVY, nBinsY = whichBin(sampVY)\n",
    "    assert nBinsX == nBinsY, 'Unexpectedly got different bin counts?'\n",
    "    cA = np.zeros([nBinsX, nBinsX], dtype=np.int32)\n",
    "    idxV = np.ravel_multi_index(np.array([binVX, binVY]), (nBinsX, nBinsX))\n",
    "    np.add.at(cA.ravel(), idxV, np.ones(len(idxV), dtype=np.int32).ravel())\n",
    "    pA = cA.astype(np.float32)\n",
    "    pA /= sum(pA.ravel())\n",
    "    xPV = toProbV(sampVX)\n",
    "    yPV = toProbV(sampVY)\n",
    "    xyPA = np.einsum('i,j->ij', xPV, yPV)  # einsum is my new favorite function\n",
    "    oldErr = np.seterr(invalid='ignore', divide='ignore')\n",
    "    prodA = pA * np.nan_to_num(np.log(pA / xyPA))  # element-wise calculation\n",
    "    np.seterr(**oldErr)\n",
    "    return np.sum(prodA.ravel())\n",
    "\n",
    "sampX = mkSamps(subDF, 3000)\n",
    "sampY = mkSamps(subDF, 3000)\n",
    "print mutualInfo(sampX.values, sampY.values)\n",
    "print mutualInfo(sampX.values, sampX.values)\n",
    "print mutualInfo(sampY.values, sampY.values)"
   ]
  },
  {
   "cell_type": "code",
   "execution_count": 13,
   "metadata": {
    "collapsed": false
   },
   "outputs": [],
   "source": [
    "########\n",
    "# This implementation (from stackoverflow) produces the same MI values as the one above\n",
    "# stackoverflow.com/questions/20491028/optimal-way-to-compute-pairwise-mutual-information-using-numpy\n",
    "########\n",
    "#from scipy.stats import chi2_contingency\n",
    "#\n",
    "#def calc_MI(x, y, bins):\n",
    "#    c_xy = np.histogram2d(x, y, bins)[0]\n",
    "#    g, p, dof, expected = chi2_contingency(c_xy, lambda_=\"log-likelihood\")\n",
    "#    mi = 0.5 * g / c_xy.sum()\n",
    "#    return mi\n",
    "#\n",
    "#def mutualInfo(sampVX, sampVY):\n",
    "#    assert len(sampVX) == len(sampVY), 'Sample vector lengths do not match'\n",
    "#    binVX, nBinsX = whichBin(sampVX)\n",
    "#    binVY, nBinsY = whichBin(sampVY)\n",
    "#    assert nBinsX == nBinsY, 'Unexpectedly got different bin counts?'\n",
    "#    return calc_MI(binVX, binVY, nBinsX)\n",
    "#\n",
    "#print mutualInfo(sampX.values, sampY.values)\n",
    "#print mutualInfo(sampX.values, sampX.values)\n",
    "#print mutualInfo(sampY.values, sampY.values)"
   ]
  },
  {
   "cell_type": "markdown",
   "metadata": {},
   "source": [
    "Define a scalar function on a pair of samples and a weight vector"
   ]
  },
  {
   "cell_type": "code",
   "execution_count": 14,
   "metadata": {
    "collapsed": false
   },
   "outputs": [
    {
     "name": "stdout",
     "output_type": "stream",
     "text": [
      "YEAR            1.0000\n",
      "FPL             0.0001\n",
      "SC_AGE_YEARS    1.0000\n",
      "K4Q32X01        1.0000\n",
      "K7Q30           1.0000\n",
      "K7Q31           1.0000\n",
      "AGEPOS4         1.0000\n",
      "dtype: float64\n",
      "[1.e+00 1.e-04 1.e+00 1.e+00 1.e+00 1.e+00 1.e+00]\n",
      "Index([u'YEAR', u'FPL', u'SC_AGE_YEARS', u'K4Q32X01', u'K7Q30', u'K7Q31',\n",
      "       u'AGEPOS4'],\n",
      "      dtype='object')\n"
     ]
    }
   ],
   "source": [
    "wtSer = pd.Series({'YEAR': 1.0,\n",
    "                   'FPL':1.0e-4,  # because it's percent\n",
    "                   'SC_AGE_YEARS': 1.0, \n",
    "                   'K4Q01': 1.0, \n",
    "                   'K4Q32X01': 1.0,\n",
    "                   'K7Q30':1.0,\n",
    "                   'K7Q31': 1.0,\n",
    "                   'AGEPOS4': 1.0}, index=subDF.columns)\n",
    "wtSer = wtSer.drop(labels=['ACE7', 'ACE8', 'FWC'])  # get the right index order but no extra entries\n",
    "print wtSer\n",
    "print wtSer.values\n",
    "print wtSer.index"
   ]
  },
  {
   "cell_type": "code",
   "execution_count": 15,
   "metadata": {
    "collapsed": false
   },
   "outputs": [],
   "source": [
    "def funV(samps1V, samps2V, wtSerV):\n",
    "    \"\"\"\n",
    "    Returns a numpy vector the columns of which correspond to the input samples\n",
    "    \"\"\"\n",
    "    wtA = wtSerV\n",
    "    #print wtA.shape\n",
    "    #print samps1V.shape\n",
    "    offset = samps1V.shape[1] - wtSerV.shape[0]\n",
    "    #print offset\n",
    "    samp1A = samps1V[:, offset:]\n",
    "    samp2A = samps2V[:, offset:]\n",
    "    delta = samp1A - samp2A\n",
    "    print 'delta', delta\n",
    "    delta *= delta\n",
    "    print 'delta^2', delta\n",
    "    return np.exp(-np.asmatrix(wtA) * np.asmatrix(delta).transpose())\n",
    "    "
   ]
  },
  {
   "cell_type": "code",
   "execution_count": 16,
   "metadata": {
    "collapsed": false
   },
   "outputs": [],
   "source": [
    "def lnLik(samps1V, samps2V, wtSerV):\n",
    "    \"\"\"\n",
    "    funV has the right shape to fill the role of likelihood in the Metropolis algorithm.  We'll\n",
    "    take the log, and use it as a log likelihood.\n",
    "    \"\"\"\n",
    "    wtA = wtSerV\n",
    "    offset = samps1V.shape[1] - wtSer.shape[0]\n",
    "    samp1A = samps1V[:, offset:]\n",
    "    samp2A = samps2V[:, offset:]\n",
    "    delta = samp1A - samp2A\n",
    "    delta *= delta\n",
    "    return np.asarray((-np.asmatrix(wtA) * np.asmatrix(delta).transpose())).reshape((-1, 1))\n",
    "    "
   ]
  },
  {
   "cell_type": "code",
   "execution_count": 17,
   "metadata": {
    "collapsed": false
   },
   "outputs": [
    {
     "name": "stdout",
     "output_type": "stream",
     "text": [
      "delta [[  0. 185.   6.  -1.  -1.   0.  -2.]\n",
      " [  0. -30.   1.   0.   0.   1.  -1.]\n",
      " [  0. -82.  -8.  -1.   0.  -1.   3.]]\n",
      "delta^2 [[0.0000e+00 3.4225e+04 3.6000e+01 1.0000e+00 1.0000e+00 0.0000e+00\n",
      "  4.0000e+00]\n",
      " [0.0000e+00 9.0000e+02 1.0000e+00 0.0000e+00 0.0000e+00 1.0000e+00\n",
      "  1.0000e+00]\n",
      " [0.0000e+00 6.7240e+03 6.4000e+01 1.0000e+00 0.0000e+00 1.0000e+00\n",
      "  9.0000e+00]]\n",
      "[[1.87611258e-20 4.55019544e-02 1.36739582e-33]]\n",
      "[[-94.0625]\n",
      " [-56.8241]\n",
      " [-20.9856]]\n"
     ]
    }
   ],
   "source": [
    "print funV(mkSamps(subDF, 3).values, mkSamps(subDF, 3).values, wtSer)\n",
    "llk = lnLik(mkSamps(subDF, 3).values, mkSamps(subDF, 3).values, wtSer)\n",
    "print llk\n"
   ]
  },
  {
   "cell_type": "code",
   "execution_count": 18,
   "metadata": {
    "collapsed": true
   },
   "outputs": [],
   "source": [
    "# Now we need a mutator\n",
    "def mutate(sampV, df, stepSzV):\n",
    "    \"\"\"\n",
    "    Return a 'mutated' version of sampV, based on the given step sizes.  Unfortunately our samples\n",
    "    are discrete and come from a table, so I'm not sure how to do this unless we first generate\n",
    "    a proximity network of some sort, so for the moment let's just generate a new set of samples-\n",
    "    this corresponds to an infinitely wide mutator.\n",
    "    \"\"\"\n",
    "    return mkSamps(df, len(sampV)).values"
   ]
  },
  {
   "cell_type": "code",
   "execution_count": null,
   "metadata": {
    "collapsed": false
   },
   "outputs": [],
   "source": [
    "# And now we can write the Metropolis code.\n",
    "# Thanks to https://python4mpia.github.io/fitting_data/Metropolis-Hastings.html\n",
    "# initial guess for alpha as array.\n",
    "\n",
    "nSamp = 10000\n",
    "testSamps = mkSamps(age6DF, nSamp)\n",
    "guess = mkSamps(age7DF, nSamp)\n",
    "# Prepare storing MCMC chain as array of arrays.\n",
    "A = [guess.values]\n",
    "# define stepsize of MCMC.\n",
    "stepsizes = np.empty([nSamp])\n",
    "stepsizes.fill(0.005)\n",
    "nIter = 10000"
   ]
  },
  {
   "cell_type": "code",
   "execution_count": null,
   "metadata": {
    "collapsed": false
   },
   "outputs": [
    {
     "name": "stdout",
     "output_type": "stream",
     "text": [
      "0: 0.18794385604006325\n",
      "100: 0.18734732546004518\n",
      "200: 0.18899010679379172\n",
      "300: 0.18842739941718745\n",
      "400: 0.18663527800885926\n",
      "500: 0.18837104246156686\n",
      "600: 0.18221908385047864\n",
      "700: 0.18105046463314595\n",
      "800: 0.18772028176354622\n",
      "900: 0.1834984240020038\n",
      "1000: 0.18600494402091994\n",
      "1100: 0.18694174211590237\n",
      "1200: 0.18711165439564076\n",
      "1300: 0.18719563109707432\n",
      "1400: 0.18137517181256335\n",
      "1500: 0.18280627038539515\n",
      "1600: 0.18629870297191467\n",
      "1700: 0.18945106338418954\n",
      "1800: 0.18558974826238012\n",
      "1900: 0.19458964466006903\n",
      "2000: 0.19209726650715803\n",
      "2100: 0.1831526925495554\n",
      "2200: 0.17998352519089736\n",
      "2300: 0.1803241450953437\n",
      "2400: 0.18803852772138774\n",
      "2500: 0.18671129541714093\n",
      "2600: 0.1832794481879101\n",
      "2700: 0.18862097940205166\n",
      "2800: 0.18564468276183232\n",
      "2900: 0.1843579002151262\n",
      "3000: 0.17941793347621438\n",
      "3100: 0.18044949289938197\n",
      "3200: 0.18512035381911485\n",
      "3300: 0.18556653122614272\n",
      "3400: 0.18679558211599545\n",
      "3500: 0.1822271135541732\n",
      "3600: 0.17949579060329357\n",
      "3700: 0.18654586078369115\n",
      "3800: 0.18204261424008053\n",
      "3900: 0.17860781986589996\n",
      "4000: 0.18333983857058103\n",
      "4100: 0.18569100007648312\n",
      "4200: 0.1860444199477435\n",
      "4300: 0.1820231278020352\n",
      "4400: 0.19048800145666112\n",
      "4500: 0.18272102544254304\n",
      "4600: 0.18167414614909416\n",
      "4700: 0.1888297561038908\n",
      "4800: 0.1823626103274597\n",
      "4900: 0.18572263756922763\n",
      "5000: 0.183397184096119\n",
      "5100: 0.18132604145012396\n",
      "5200: 0.18051670941670978\n",
      "5300: 0.18506417483788762\n",
      "5400: 0.1851126232477776\n",
      "5500: 0.18405523076623737\n"
     ]
    }
   ],
   "source": [
    "# Metropolis-Hastings with nIter iterations.\n",
    "accepted  = np.zeros([nSamp, 1], dtype=np.int)\n",
    "onesV = np.ones([nSamp], dtype=np.int).reshape((-1, 1))\n",
    "zerosV = np.zeros([nSamp], dtype=np.int).reshape((-1, 1))\n",
    "for n in range(nIter):\n",
    "    oldAlpha  = A[-1]  # old parameter value as array\n",
    "    oldLnLik = lnLik(testSamps.values, oldAlpha, wtSer)\n",
    "    newAlpha = mutate(oldAlpha, age7DF, stepsizes)\n",
    "    newLnLik = lnLik(testSamps.values, newAlpha, wtSer)\n",
    "    if (n % 100 == 0):\n",
    "        print '%s: %s' % (n, mutualInfo(testSamps.values, newAlpha))\n",
    "    choices = np.logical_or(newLnLik > oldLnLik,\n",
    "                            np.random.random(newLnLik.shape) < np.exp(newLnLik - oldLnLik))\n",
    "    rslt = np.choose(choices, [oldAlpha, newAlpha])\n",
    "    A.append(rslt)\n",
    "    accepted += np.choose(choices, [zerosV, onesV])\n",
    "\n",
    "plt.hist(accepted)\n",
    "acceptanceRate = accepted/float(nIter)\n",
    "plt.show()\n",
    "plt.hist(acceptanceRate)\n",
    "plt.show()"
   ]
  },
  {
   "cell_type": "code",
   "execution_count": null,
   "metadata": {
    "collapsed": false
   },
   "outputs": [],
   "source": [
    "nKeep = accepted.min()/10  # 10 mutations between samples to avoid correlation\n",
    "keepStep = nIter//nKeep\n",
    "burnIn = 10 * keepStep\n",
    "print nKeep, keepStep, burnIn\n",
    "assert burnIn < nIter, 'Not enough iterations for burn-in'\n",
    "clean = []\n",
    "for idx, sV in enumerate(A[burnIn:]):\n",
    "    if idx % keepStep == 0:\n",
    "        clean.append(sV)\n"
   ]
  },
  {
   "cell_type": "code",
   "execution_count": null,
   "metadata": {
    "collapsed": false
   },
   "outputs": [],
   "source": [
    "cleanV = np.concatenate(clean)\n",
    "expandedTestV = np.concatenate([testSamps.values] * len(clean))"
   ]
  },
  {
   "cell_type": "code",
   "execution_count": null,
   "metadata": {
    "collapsed": false
   },
   "outputs": [],
   "source": [
    "#print expandedTestV\n",
    "print mutualInfo(expandedTestV, cleanV)\n",
    "print mutualInfo(expandedTestV, mkSamps(age7DF, cleanV.shape[0]).values)\n",
    "print mutualInfo(expandedTestV, expandedTestV)\n",
    "print mutualInfo(cleanV, cleanV)"
   ]
  },
  {
   "cell_type": "code",
   "execution_count": null,
   "metadata": {
    "collapsed": false
   },
   "outputs": [],
   "source": [
    "testBins, nBins = whichBin(testSamps.values)\n",
    "rsltBins = whichBin(clean[10])[0]\n",
    "hM, xEdges, yEdges = np.histogram2d(testBins, rsltBins, bins=64)\n",
    "plt.imshow(np.log(hM + 1))\n",
    "plt.show()\n",
    "\n",
    "testBins, nBins = whichBin(expandedTestV)\n",
    "rsltBins = whichBin(cleanV)[0]\n",
    "hM, xEdges, yEdges = np.histogram2d(testBins, rsltBins, bins=64)\n",
    "plt.imshow(np.log(hM + 1))\n",
    "plt.show()\n"
   ]
  },
  {
   "cell_type": "markdown",
   "metadata": {},
   "source": [
    "## Ignore the rest of this ##\n",
    "These bits are just left-overs"
   ]
  },
  {
   "cell_type": "code",
   "execution_count": null,
   "metadata": {
    "collapsed": false
   },
   "outputs": [],
   "source": [
    "wtDF = pd.DataFrame({'FPL':[1.0, 1.0], 'SC_AGE_YEARS': [1.0, 1.0], 'K4Q01': [1.0, 1.0], 'K4Q32X01': [1.0, 1.0],\n",
    "       'K7Q30':[1.0, 1.0], 'K7Q31': [1.0, 1.0], 'AGEPOS4': [1.0, 1.0]}, index=['ACE7', 'ACE8'])\n",
    "print wtDF"
   ]
  },
  {
   "cell_type": "code",
   "execution_count": null,
   "metadata": {
    "collapsed": false
   },
   "outputs": [],
   "source": [
    "def funV(samps1, samps2, wtDF):\n",
    "    \"\"\"\n",
    "    Returns a numpy matrix the rows of which correspond to ACE7 and ACE8 and\n",
    "    the columns of which correspond to the input samples\n",
    "    \"\"\"\n",
    "    wtA = wtDF.values\n",
    "    offset = samps1.values.shape[1] - wtDF.values.shape[1]\n",
    "    samp1A = samps1.values[:, offset:]\n",
    "    samp2A = samps2.values[:, offset:]\n",
    "    delta = samp1A - samp2A\n",
    "    return np.asmatrix(wtA) * np.asmatrix(delta).transpose()\n",
    "    "
   ]
  },
  {
   "cell_type": "code",
   "execution_count": null,
   "metadata": {
    "collapsed": false
   },
   "outputs": [],
   "source": [
    "print funV(mkSamps(subDF, 3), mkSamps(subDF, 3), wtDF)"
   ]
  },
  {
   "cell_type": "markdown",
   "metadata": {
    "collapsed": true
   },
   "source": [
    "$\\mathcal L(\\{M_1,M_2,\\ldots,M_N\\};\\alpha) = \\prod_{n=1}^N p(M_n|\\alpha) = \\prod_{n=1}^N c\\left(\\frac{M_n}{M_\\odot}\\right)^{-\\alpha}$"
   ]
  },
  {
   "cell_type": "code",
   "execution_count": null,
   "metadata": {
    "collapsed": true
   },
   "outputs": [],
   "source": []
  }
 ],
 "metadata": {
  "kernelspec": {
   "display_name": "Python2 (myenv)",
   "language": "python",
   "name": "myenv"
  },
  "language_info": {
   "codemirror_mode": {
    "name": "ipython",
    "version": 2
   },
   "file_extension": ".py",
   "mimetype": "text/x-python",
   "name": "python",
   "nbconvert_exporter": "python",
   "pygments_lexer": "ipython2",
   "version": "2.7.12"
  }
 },
 "nbformat": 4,
 "nbformat_minor": 2
}
