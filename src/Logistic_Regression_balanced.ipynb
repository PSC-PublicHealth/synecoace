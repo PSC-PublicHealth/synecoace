{
 "cells": [
  {
   "cell_type": "markdown",
   "metadata": {},
   "source": [
    "## This notebook is almost completely derived from Susan Li's https://towardsdatascience.com/building-a-logistic-regression-in-python-step-by-step-becd4d56c9c8 ##"
   ]
  },
  {
   "cell_type": "code",
   "execution_count": null,
   "metadata": {
    "collapsed": false
   },
   "outputs": [],
   "source": [
    "import pandas as pd\n",
    "import numpy as np\n",
    "from sklearn import preprocessing\n",
    "import matplotlib.pyplot as plt \n",
    "plt.rc(\"font\", size=14)\n",
    "from sklearn.linear_model import LogisticRegression\n",
    "from sklearn.model_selection import train_test_split\n",
    "import seaborn as sns\n",
    "from IPython.display import display, HTML\n",
    "sns.set(style=\"white\")\n",
    "sns.set(style=\"whitegrid\", color_codes=True)"
   ]
  },
  {
   "cell_type": "markdown",
   "metadata": {},
   "source": [
    "## The Data\n",
    "\n",
    "~~The data is related with direct marketing campaigns (phone calls) of a Portuguese banking institution. The classification goal is to predict if the client will subscribe (1/0) a term deposit (variable y).~~\n",
    "\n",
    "~~This dataset provides the customer information. It includes 41188 records and 21 fields.~~\n",
    "\n",
    "We'll use the NSCH_2016_topical dataset instead"
   ]
  },
  {
   "cell_type": "code",
   "execution_count": null,
   "metadata": {
    "collapsed": false
   },
   "outputs": [],
   "source": [
    "fullDF = pd.read_csv('/home/welling/git/synecoace/data/nsch_2016_topical.csv')\n",
    "print fullDF.columns\n",
    "subDF=fullDF[fullDF.FIPSST == 45][['ACE3', 'ACE4', 'ACE5', 'ACE6', 'ACE7',\n",
    "                                   'ACE8', 'ACE9', 'ACE10',\n",
    "                                   'FWC', 'YEAR', 'FPL', 'SC_AGE_YEARS',\n",
    "                                   'K4Q30_R', 'K4Q32X01',\n",
    "                                   'K7Q30', 'K7Q31', 'AGEPOS4']]\n",
    "\n",
    "data = subDF\n",
    "\n",
    "print(data.shape)\n",
    "\n",
    "#data = pd.read_csv('banking.csv', header=0)\n",
    "data = data.dropna()\n",
    "print(data.shape)\n",
    "print(list(data.columns))"
   ]
  },
  {
   "cell_type": "code",
   "execution_count": null,
   "metadata": {
    "collapsed": false
   },
   "outputs": [],
   "source": [
    "data.head()"
   ]
  },
  {
   "cell_type": "markdown",
   "metadata": {},
   "source": [
    "## Input variables ##\n",
    "* SC_AGE_YEARS: selected child age (numeric) -> 'AGE'\n",
    "* K4Q30_R: Dental care 1=YES 2=YES,other(not dentist) 3=NO -> 'DENTALCARE'\n",
    "* K4Q32X01: vision tested by eye doctor (2.0 -> False) -> 'VISIONCARE'\n",
    "* K7Q30: sports teams 1=YES 2=NO -> 'SPORTSTEAMS'\n",
    "* K7Q31: clubs or organizations 1=YES 2=NO -> 'CLUBS'\n",
    "* FPL: percent of federal poverty level? (numeric, open-ended)\n",
    "* AGEPOS4: birth order (numeric) -> 'BIRTHORDER'\n",
    "* FWC: sample weight\n",
    "* ~~YEAR: survey year~~ drop this one since 2016 seems to be the only value for these samples\n",
    "\n",
    "## Predict Variable ##\n",
    "* ACE3: Parent Divorced -> PARENTDIVORCED\n",
    "* ACE4: Parent or guardian died -> PARENTDIED\n",
    "* ACE5: Parent or guardian spent time in jail -> PARENTJAIL\n",
    "* ACE6: Adult slap/kick/punch others -> SEEPUNCH\n",
    "* ACE7: experienced violence 1=YES 2=NO -> VIOLENCE\n",
    "* ACE8: family member mentally ill -> MENTALILL\n",
    "* ACE9: drugs and alcohol 1=YES 2=NO -> DRUGSALCOHOL\n",
    "* ACE10: treated unfairly because of race -> RACISM\n"
   ]
  },
  {
   "cell_type": "code",
   "execution_count": null,
   "metadata": {
    "collapsed": false
   },
   "outputs": [],
   "source": [
    "data['YEAR'].unique()"
   ]
  },
  {
   "cell_type": "code",
   "execution_count": null,
   "metadata": {
    "collapsed": false
   },
   "outputs": [],
   "source": [
    "data = data.drop(columns=['YEAR'])\n",
    "data.head()"
   ]
  },
  {
   "cell_type": "code",
   "execution_count": null,
   "metadata": {
    "collapsed": false
   },
   "outputs": [],
   "source": [
    "data = data.rename(columns={'AGEPOS4':'BIRTHORDER', 'SC_AGE_YEARS':'AGE', 'K4Q30_R':'DENTALCARE',\n",
    "                           'K4Q32X01':'VISIONCARE', 'K7Q30':'SPORTSTEAMS', 'K7Q31':'CLUBS',\n",
    "                            'ACE3':'PARENTDIVORCED',\n",
    "                            'ACE4':'PARENTDIED', 'ACE5':'PARENTJAIL', 'ACE6':'SEEPUNCH',\n",
    "                           'ACE7':'VIOLENCE', 'ACE8': 'MENTALILL', 'ACE9':'DRUGSALCOHOL',\n",
    "                           'ACE10':'RACISM'})\n",
    "acesL = ['PARENTDIVORCED', 'PARENTDIED', 'PARENTJAIL', 'SEEPUNCH', 'VIOLENCE', 'MENTALILL',\n",
    "         'DRUGSALCOHOL', 'RACISM']\n",
    "acesL.sort()\n",
    "boolColL = ['DENTALCARE', 'VISIONCARE', 'SPORTSTEAMS', 'CLUBS']\n",
    "boolColL.sort()\n",
    "scalarColL = ['FPL', 'BIRTHORDER', 'AGE']\n",
    "scalarColL.sort()\n",
    "\n",
    "data.head()\n"
   ]
  },
  {
   "cell_type": "code",
   "execution_count": null,
   "metadata": {
    "collapsed": false
   },
   "outputs": [],
   "source": [
    "data['AGE'].unique()"
   ]
  },
  {
   "cell_type": "code",
   "execution_count": null,
   "metadata": {
    "collapsed": false
   },
   "outputs": [],
   "source": [
    "data['BIRTHORDER'].unique()"
   ]
  },
  {
   "cell_type": "code",
   "execution_count": null,
   "metadata": {
    "collapsed": false
   },
   "outputs": [],
   "source": [
    "out = pd.cut(data['FPL'], 8, labels=False)\n",
    "data['FPL_quantized'] = out\n",
    "data['FPL_quantized'].unique()\n"
   ]
  },
  {
   "cell_type": "code",
   "execution_count": null,
   "metadata": {
    "collapsed": false
   },
   "outputs": [],
   "source": [
    "massaged_data = data[['FWC', 'AGE', 'FPL_quantized']].copy().rename(columns={'FPL_quantized':'FPL'})\n",
    "massaged_data['DENTALCARE'] = (data['DENTALCARE'] != 3.0)\n",
    "massaged_data['VISIONCARE'] = (data['VISIONCARE'] == 1.0)\n",
    "massaged_data['SPORTSTEAMS'] = (data['SPORTSTEAMS'] == 1.0)\n",
    "massaged_data['CLUBS'] = (data['CLUBS'] == 1.0)\n",
    "massaged_data['BIRTHORDER'] = data['BIRTHORDER']\n",
    "for ace in acesL:\n",
    "    massaged_data[ace] = (data[ace] == 1)\n",
    "massaged_data.head()"
   ]
  },
  {
   "cell_type": "markdown",
   "metadata": {},
   "source": [
    "### Data exploration"
   ]
  },
  {
   "cell_type": "code",
   "execution_count": null,
   "metadata": {
    "collapsed": false
   },
   "outputs": [],
   "source": [
    "print 'What weighted fraction of samples have each ACE?'\n",
    "for col in acesL:\n",
    "    display(massaged_data[[col,'FWC']].groupby([col]).sum()/massaged_data['FWC'].sum())\n",
    "#massaged_data['VIOLENCE'].value_counts()"
   ]
  },
  {
   "cell_type": "markdown",
   "metadata": {},
   "source": [
    "Our classes are imbalanced, with many more subjects without ACEs than with."
   ]
  },
  {
   "cell_type": "code",
   "execution_count": null,
   "metadata": {
    "collapsed": true
   },
   "outputs": [],
   "source": [
    "def wtThisRow(row, colNm):\n",
    "    newRow = (row * row['FWC']).drop(['FWC', colNm])\n",
    "    newRow[colNm] = row[colNm]\n",
    "    newRow['FWC'] = row['FWC']\n",
    "    return newRow\n",
    "\n",
    "def unwtThisRow(row):\n",
    "    newRow = row / row['FWC']\n",
    "    return newRow\n",
    "\n",
    "def weightedMean(df, col):\n",
    "    meanDF = df.apply(wtThisRow, axis=1, colNm=col).groupby(col).mean()\n",
    "    return meanDF.apply(unwtThisRow, axis=1).drop('FWC', axis=1)"
   ]
  },
  {
   "cell_type": "code",
   "execution_count": null,
   "metadata": {
    "collapsed": false
   },
   "outputs": [],
   "source": [
    "print 'Weighted means by ACE status'\n",
    "for col in acesL:\n",
    "    display(weightedMean(massaged_data, col))"
   ]
  },
  {
   "cell_type": "markdown",
   "metadata": {},
   "source": [
    "Observations:\n",
    "\n",
    "Higher age is associated with higher ACEs, as expected. Higher income is associated with fewer ACEs.\n",
    "\n",
    "We can calculate categorical means for other categorical variables such as education and marital status to get a more detailed sense of our data."
   ]
  },
  {
   "cell_type": "code",
   "execution_count": null,
   "metadata": {
    "collapsed": false
   },
   "outputs": [],
   "source": [
    "for col in scalarColL + boolColL:\n",
    "    display(weightedMean(massaged_data, col))"
   ]
  },
  {
   "cell_type": "markdown",
   "metadata": {},
   "source": [
    "Visualizations"
   ]
  },
  {
   "cell_type": "code",
   "execution_count": null,
   "metadata": {
    "collapsed": false,
    "scrolled": false
   },
   "outputs": [],
   "source": [
    "%matplotlib inline\n",
    "for col in scalarColL:\n",
    "    for ace in acesL:\n",
    "        pd.crosstab(massaged_data[col],massaged_data[ace], values=massaged_data.FWC, aggfunc='sum').plot(kind='bar')\n",
    "        plt.xlabel(col)\n",
    "        plt.ylabel(ace)\n",
    "        plt.title('%s by %s' % (ace, col))\n",
    "        plt.show()"
   ]
  },
  {
   "cell_type": "code",
   "execution_count": null,
   "metadata": {
    "collapsed": false,
    "scrolled": false
   },
   "outputs": [],
   "source": [
    "for col in boolColL:\n",
    "    for ace in acesL:\n",
    "        table=pd.crosstab(massaged_data[col],massaged_data[ace], values=massaged_data.FWC, aggfunc='sum')\n",
    "        table.div(table.sum(1).astype(float), axis=0).plot(kind='bar', stacked=True)\n",
    "        plt.xlabel(col)\n",
    "        plt.ylabel(ace)\n",
    "        plt.title('%s fractions by presence of %s' % (ace, col))\n",
    "        plt.show()"
   ]
  },
  {
   "cell_type": "code",
   "execution_count": null,
   "metadata": {
    "collapsed": false
   },
   "outputs": [],
   "source": [
    "for col in scalarColL:\n",
    "    massaged_data[col].hist(weights=data.FWC)\n",
    "    plt.title('Histogram of %s' % col)\n",
    "    plt.xlabel(col)\n",
    "    plt.ylabel('Frequency')\n",
    "    plt.show()"
   ]
  },
  {
   "cell_type": "code",
   "execution_count": null,
   "metadata": {
    "collapsed": true
   },
   "outputs": [],
   "source": [
    "def mkSamps(df, nSamp):\n",
    "    fracWt = df['FWC']/df['FWC'].sum()\n",
    "    choices = np.random.choice(len(df), nSamp, p=fracWt)\n",
    "    return df.iloc[choices].drop(columns=['FWC'])\n"
   ]
  },
  {
   "cell_type": "markdown",
   "metadata": {},
   "source": [
    "### Create dummy variables"
   ]
  },
  {
   "cell_type": "code",
   "execution_count": null,
   "metadata": {
    "collapsed": false
   },
   "outputs": [],
   "source": [
    "data = massaged_data.copy()\n",
    "cat_vars = scalarColL\n",
    "for var in cat_vars:\n",
    "    cat_list = pd.get_dummies(data[var], prefix=var)\n",
    "    data1=data.join(cat_list)\n",
    "    data=data1\n",
    "\n",
    "#display(data.head())\n",
    "    \n",
    "cat_vars = scalarColL\n",
    "#print 'cat_vars: ', cat_vars\n",
    "data_vars = data.columns.values.tolist()\n",
    "#print 'data_vars: ', data_vars\n",
    "to_keep=[i for i in data_vars if i not in cat_vars]\n",
    "#print 'to_keep: ', to_keep\n",
    "data_final=data[to_keep]\n",
    "data_final.columns.values"
   ]
  },
  {
   "cell_type": "markdown",
   "metadata": {},
   "source": [
    "### Deal with weights by creating a new dataset by weighted sampling ###"
   ]
  },
  {
   "cell_type": "code",
   "execution_count": null,
   "metadata": {
    "collapsed": false
   },
   "outputs": [],
   "source": [
    "data_resampled = mkSamps(data_final, 100000)\n",
    "data_resampled.head()"
   ]
  },
  {
   "cell_type": "markdown",
   "metadata": {},
   "source": [
    "### Over-sampling using SMOTE"
   ]
  },
  {
   "cell_type": "code",
   "execution_count": null,
   "metadata": {
    "collapsed": false
   },
   "outputs": [],
   "source": [
    "print [(col in acesL) for col in data_resampled.columns]"
   ]
  },
  {
   "cell_type": "code",
   "execution_count": null,
   "metadata": {
    "collapsed": false
   },
   "outputs": [],
   "source": [
    "X = data_resampled.loc[:, [(col not in acesL) for col in data_resampled.columns]]\n",
    "X.head()\n",
    "y = {}\n",
    "for ace in acesL:\n",
    "    y[ace] = data_resampled.loc[:, [(col == ace) for col in data_resampled.columns]]\n",
    "for ace, yy in y.items():\n",
    "    print 'y[%s]: ' % ace\n",
    "    display(y[ace].head())"
   ]
  },
  {
   "cell_type": "code",
   "execution_count": null,
   "metadata": {
    "collapsed": false
   },
   "outputs": [],
   "source": [
    "from imblearn.over_sampling import SMOTE\n",
    "\n",
    "os = SMOTE(random_state=0)\n",
    "X_train = {}\n",
    "X_test = {}\n",
    "y_train = {}\n",
    "y_test = {}\n",
    "os_data_X = {}\n",
    "os_data_y = {}\n",
    "for ace in acesL:\n",
    "    X_train[ace], X_test[ace], y_train[ace], y_test[ace] = train_test_split(X, y[ace], test_size=0.3, random_state=0)\n",
    "    columns = X_train[ace].columns\n",
    "\n",
    "    os_data_X[ace],os_data_y[ace]=os.fit_sample(X_train[ace], y_train[ace])\n",
    "    os_data_X[ace] = pd.DataFrame(data=os_data_X[ace],columns=columns )\n",
    "    os_data_y[ace]= pd.DataFrame(data=os_data_y[ace],columns=[ace])\n",
    "\n",
    "    # we can Check the numbers of our data\n",
    "    print(\"--------\")\n",
    "    print(\"Sampling for %s\" % ace)\n",
    "    print(\"length of oversampled data is \",len(os_data_X[ace]))\n",
    "    print(\"Number of no subscription in oversampled data\",len(os_data_y[ace][os_data_y[ace][ace]==0]))\n",
    "    print(\"Number of subscription\",len(os_data_y[ace][os_data_y[ace][ace]==1]))\n",
    "    print(\"Proportion of no subscription data in oversampled data is \",(float(len(os_data_y[ace][os_data_y[ace][ace]==0]))\n",
    "                                                                        /float(len(os_data_X[ace]))))\n",
    "    print(\"Proportion of subscription data in oversampled data is \",(float(len(os_data_y[ace][os_data_y[ace][ace]==1]))\n",
    "                                                                        /float(len(os_data_X[ace]))))"
   ]
  },
  {
   "cell_type": "markdown",
   "metadata": {},
   "source": [
    "### Recursive feature elimination"
   ]
  },
  {
   "cell_type": "code",
   "execution_count": null,
   "metadata": {
    "collapsed": false
   },
   "outputs": [],
   "source": [
    "data_resampled_vars=data_resampled.columns.values.tolist()\n",
    "X=[i for i in data_resampled_vars if i not in acesL]"
   ]
  },
  {
   "cell_type": "code",
   "execution_count": null,
   "metadata": {
    "collapsed": false,
    "scrolled": false
   },
   "outputs": [],
   "source": [
    "from sklearn import datasets\n",
    "from sklearn.feature_selection import RFE\n",
    "from sklearn.linear_model import LogisticRegression\n",
    "\n",
    "rfe = {}\n",
    "cols_after_rfe = {}\n",
    "for ace in acesL:\n",
    "    logreg = LogisticRegression()\n",
    "\n",
    "\n",
    "    rfe[ace] = RFE(logreg, 20)\n",
    "    rfe[ace] = rfe[ace].fit(os_data_X[ace], os_data_y[ace].values.ravel())\n",
    "    print '---------'\n",
    "    print 'Regressing for %s' % ace\n",
    "    print '---------'\n",
    "    print(rfe[ace].support_)\n",
    "    print(rfe[ace].ranking_)\n",
    "    cols_after_rfe[ace] = os_data_X[ace].columns[rfe[ace].support_]\n",
    "    print 'selected columns: ', cols_after_rfe[ace]\n",
    "    display(os_data_X[ace][cols_after_rfe[ace]].head())"
   ]
  },
  {
   "cell_type": "markdown",
   "metadata": {},
   "source": [
    "### Implementing the model"
   ]
  },
  {
   "cell_type": "markdown",
   "metadata": {},
   "source": [
    "#### find and remove columns that are poor regressors ####"
   ]
  },
  {
   "cell_type": "code",
   "execution_count": null,
   "metadata": {
    "collapsed": false
   },
   "outputs": [],
   "source": [
    "import statsmodels.api as sm\n",
    "\n",
    "cols_after_logit_fit = {}\n",
    "\n",
    "for ace in acesL:\n",
    "    X = os_data_X[ace][cols_after_rfe[ace]]\n",
    "    y = os_data_y[ace][ace]\n",
    "    logit_model=sm.Logit(y,X)\n",
    "    result=logit_model.fit(method='lbfgs')\n",
    "    print '------------'\n",
    "    print 'Fitting for %s' % ace\n",
    "    print '------------'\n",
    "    print(result.summary2())\n",
    "    cols_after_logit_fit[ace] = [k for k in cols_after_rfe[ace] if result.pvalues[k] < 0.1]\n",
    "    print 'retaining columns: ', cols_after_logit_fit[ace]\n",
    "    "
   ]
  },
  {
   "cell_type": "markdown",
   "metadata": {},
   "source": [
    "#### Repeat regression with the good columns ####"
   ]
  },
  {
   "cell_type": "code",
   "execution_count": null,
   "metadata": {
    "collapsed": false
   },
   "outputs": [],
   "source": [
    "for ace in acesL:\n",
    "\n",
    "    X = os_data_X[ace][cols_after_logit_fit[ace]]\n",
    "    y = os_data_y[ace][ace]\n",
    "    logit_model=sm.Logit(y,X)\n",
    "    result=logit_model.fit(method='lbfgs')\n",
    "    print '------------'\n",
    "    print 'Fitting for %s' % ace\n",
    "    print '------------'\n",
    "    print(result.summary2())\n",
    "    "
   ]
  },
  {
   "cell_type": "markdown",
   "metadata": {},
   "source": [
    "### Logistic Regression Model Fitting"
   ]
  },
  {
   "cell_type": "code",
   "execution_count": null,
   "metadata": {
    "collapsed": false
   },
   "outputs": [],
   "source": [
    "from sklearn.linear_model import LogisticRegression\n",
    "from sklearn import metrics\n",
    "from sklearn.metrics import confusion_matrix\n",
    "from sklearn.metrics import classification_report\n",
    "\n",
    "for ace in acesL:\n",
    "\n",
    "    X = os_data_X[ace][cols_after_logit_fit[ace]]\n",
    "    y = os_data_y[ace][ace]\n",
    "    X_train, X_test, y_train, y_test = train_test_split(X, y, test_size=0.3, random_state=0)\n",
    "    logreg = LogisticRegression()\n",
    "    print '---------'\n",
    "    print 'fitting %s' % ace\n",
    "    print '---------'\n",
    "    display(logreg.fit(X_train, y_train))\n",
    "    y_pred = logreg.predict(X_test)\n",
    "    print('Accuracy of logistic regression classifier on test set: {:.2f}'.format(logreg.score(X_test, y_test)))\n",
    "    c_mtx = confusion_matrix(y_test, y_pred)\n",
    "    print 'confusion matrix: '\n",
    "    print(c_mtx)\n",
    "    print 'classification report: '\n",
    "    print(classification_report(y_test, y_pred))"
   ]
  },
  {
   "cell_type": "code",
   "execution_count": null,
   "metadata": {
    "collapsed": false
   },
   "outputs": [],
   "source": [
    "#from sklearn.metrics import roc_auc_score\n",
    "#from sklearn.metrics import roc_curve\n",
    "#logit_roc_auc = roc_auc_score(y_test, logreg.predict(X_test))\n",
    "#fpr, tpr, thresholds = roc_curve(y_test, logreg.predict_proba(X_test)[:,1])\n",
    "#plt.figure()\n",
    "#plt.plot(fpr, tpr, label='Logistic Regression (area = %0.2f)' % logit_roc_auc)\n",
    "#plt.plot([0, 1], [0, 1],'r--')\n",
    "#plt.xlim([0.0, 1.0])\n",
    "#plt.ylim([0.0, 1.05])\n",
    "#plt.xlabel('False Positive Rate')\n",
    "#plt.ylabel('True Positive Rate')\n",
    "#plt.title('Receiver operating characteristic')\n",
    "#plt.legend(loc=\"lower right\")\n",
    "#plt.savefig('Log_ROC')\n",
    "#plt.show()"
   ]
  },
  {
   "cell_type": "code",
   "execution_count": null,
   "metadata": {
    "collapsed": true
   },
   "outputs": [],
   "source": []
  }
 ],
 "metadata": {
  "kernelspec": {
   "display_name": "Python2 (myenv)",
   "language": "python",
   "name": "myenv"
  },
  "language_info": {
   "codemirror_mode": {
    "name": "ipython",
    "version": 2
   },
   "file_extension": ".py",
   "mimetype": "text/x-python",
   "name": "python",
   "nbconvert_exporter": "python",
   "pygments_lexer": "ipython2",
   "version": "2.7.12"
  }
 },
 "nbformat": 4,
 "nbformat_minor": 2
}
