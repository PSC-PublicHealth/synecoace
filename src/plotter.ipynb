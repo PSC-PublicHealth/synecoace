{
 "cells": [
  {
   "cell_type": "code",
   "execution_count": null,
   "metadata": {
    "collapsed": true
   },
   "outputs": [],
   "source": [
    "import sys\n",
    "import numpy as np\n",
    "import pandas as pd\n",
    "import scipy.stats\n",
    "import matplotlib.pyplot as plt\n",
    "from matplotlib.legend_handler import HandlerTuple\n",
    "import cPickle as pickle\n",
    "import glob"
   ]
  },
  {
   "cell_type": "code",
   "execution_count": null,
   "metadata": {
    "collapsed": false
   },
   "outputs": [],
   "source": [
    "fullDF = pd.read_csv('/home/welling/git/synecoace/data/nsch_2016_topical.csv')\n",
    "fullDF = fullDF.reset_index()\n",
    "print fullDF.columns"
   ]
  },
  {
   "cell_type": "code",
   "execution_count": null,
   "metadata": {
    "collapsed": false
   },
   "outputs": [],
   "source": [
    "subDF=fullDF[['ACE1', 'ACE3', 'ACE4', 'ACE5', 'ACE6', 'ACE7', 'ACE8', 'ACE9', 'ACE10', 'FWC', 'index', 'YEAR', 'FPL', 'SC_AGE_YEARS','K4Q32X01', 'K7Q30', 'K7Q31', 'AGEPOS4']]\n",
    "subDF = subDF.dropna()\n",
    "print len(subDF)\n"
   ]
  },
  {
   "cell_type": "code",
   "execution_count": null,
   "metadata": {
    "collapsed": false
   },
   "outputs": [],
   "source": [
    "subDF['ACETOT'] = subDF['ACE1'] + 15 - (subDF['ACE3'] + subDF['ACE4'] + subDF['ACE5'] + subDF['ACE6']\n",
    "                        + subDF['ACE7'] + subDF['ACE8'] + subDF['ACE9'] + subDF['ACE10'])"
   ]
  },
  {
   "cell_type": "code",
   "execution_count": null,
   "metadata": {
    "collapsed": false
   },
   "outputs": [],
   "source": [
    "def mkSamps(df, nSamp):\n",
    "    fracWt = df['FWC']/df['FWC'].sum()\n",
    "    choices = np.random.choice(len(df), nSamp, p=fracWt)\n",
    "    return df.iloc[choices].drop(columns=['FWC'])\n",
    "nSamp = 10\n",
    "print mkSamps(subDF, nSamp)\n"
   ]
  },
  {
   "cell_type": "code",
   "execution_count": null,
   "metadata": {
    "collapsed": false
   },
   "outputs": [],
   "source": [
    "COLUMN_DICT = {key : idx for idx, key in enumerate(mkSamps(subDF, 1).columns)}\n",
    "print COLUMN_DICT\n",
    "INV_COLUMN_DICT = {val:key for key, val in COLUMN_DICT.items()}\n",
    "print INV_COLUMN_DICT"
   ]
  },
  {
   "cell_type": "code",
   "execution_count": null,
   "metadata": {
    "collapsed": false
   },
   "outputs": [],
   "source": [
    "ageDFD = {}\n",
    "for age in range(6,18):\n",
    "    ageDFD[age] = subDF[subDF.SC_AGE_YEARS==age]\n",
    "    print '%s: %s' % (age, len(ageDFD[age]))"
   ]
  },
  {
   "cell_type": "code",
   "execution_count": null,
   "metadata": {
    "collapsed": false
   },
   "outputs": [],
   "source": [
    "plt.hist(subDF['FPL'])\n",
    "plt.show()"
   ]
  },
  {
   "cell_type": "code",
   "execution_count": null,
   "metadata": {
    "collapsed": false
   },
   "outputs": [],
   "source": [
    "lowFPLageDFD = {}\n",
    "highFPLageDFD = {}\n",
    "\n",
    "for age in range(6, 18):\n",
    "    df = ageDFD[age]\n",
    "    print age, df.columns\n",
    "    lowFPLageDFD[age] = df[df.FPL <= 100]\n",
    "    highFPLageDFD[age] = df[df.FPL >= 300]"
   ]
  },
  {
   "cell_type": "code",
   "execution_count": null,
   "metadata": {
    "collapsed": false
   },
   "outputs": [],
   "source": [
    "lowFPLageDFD[6]"
   ]
  },
  {
   "cell_type": "code",
   "execution_count": null,
   "metadata": {
    "collapsed": false
   },
   "outputs": [],
   "source": [
    "ageL = range(6, 18)\n",
    "lowL = []\n",
    "highL = []\n",
    "for age in ageL:\n",
    "    samps = mkSamps(lowFPLageDFD[age], 1000)\n",
    "    lowL.append(samps['ACETOT'].mean())\n",
    "    samps = mkSamps(highFPLageDFD[age], 1000)\n",
    "    highL.append(samps['ACETOT'].mean())\n",
    "plt.plot(ageL, lowL, label='FPL <= 100')\n",
    "plt.plot(ageL, highL, label='FPL >= 300')\n",
    "plt.legend()\n",
    "plt.show()\n"
   ]
  },
  {
   "cell_type": "code",
   "execution_count": null,
   "metadata": {
    "collapsed": false
   },
   "outputs": [],
   "source": [
    "%config InlineBackend.print_figure_kwargs = {'bbox_inches':None}\n",
    "plt.rcParams[\"figure.figsize\"] = [16, 10]\n",
    "\n",
    "def calcRange(samps):\n",
    "    v = samps['ACETOT'].mean()\n",
    "    sigma = samps['ACETOT'].std()\n",
    "    return v - sigma, v, v + sigma\n",
    "\n",
    "ageL = range(6, 18)\n",
    "lowL = []\n",
    "lowLBL = []\n",
    "lowHBL = []\n",
    "highL = []\n",
    "highLBL = []\n",
    "highHBL = []\n",
    "artistPairL = []\n",
    "labelL = []\n",
    "for age in ageL:\n",
    "    vL, v, vH = calcRange(mkSamps(lowFPLageDFD[age], 10000))\n",
    "    lowL.append(v)\n",
    "    lowLBL.append(vL)\n",
    "    lowHBL.append(vH)\n",
    "    vL, v, vH = calcRange(mkSamps(highFPLageDFD[age], 10000))\n",
    "    highL.append(v)\n",
    "    highLBL.append(vL)\n",
    "    highHBL.append(vH)\n",
    "fig, axes = plt.subplots(1,1)\n",
    "lineArtist, = axes.plot(ageL, lowL, '-')\n",
    "fillArtist = axes.fill_between(ageL, lowLBL, lowHBL, alpha=0.4)\n",
    "artistPairL.append((lineArtist, fillArtist))\n",
    "labelL.append('FPL <= 100 mean +- stdv')\n",
    "lineArtist, = axes.plot(ageL, highL, '-')\n",
    "fillArtist = axes.fill_between(ageL, highLBL, highHBL, alpha=0.4)\n",
    "artistPairL.append((lineArtist, fillArtist))\n",
    "labelL.append('FPL >= 300 mean += stdv')\n",
    "axes.legend(artistPairL, labelL, handler_map={tuple: HandlerTuple()})\n",
    "axes.set_title('Total ACEs Rise Over Time')\n",
    "axes.set_xlabel('Age')\n",
    "axes.set_ylabel('Total ACEs')\n",
    "plt.show()\n"
   ]
  },
  {
   "cell_type": "code",
   "execution_count": null,
   "metadata": {
    "collapsed": false
   },
   "outputs": [],
   "source": [
    "with open('sav.pkl', 'rU') as f:\n",
    "    sampsByYearD = pickle.load(f)\n",
    "print sampsByYearD.keys()"
   ]
  },
  {
   "cell_type": "code",
   "execution_count": null,
   "metadata": {
    "collapsed": false
   },
   "outputs": [],
   "source": [
    "print sampsByYearD[6].columns"
   ]
  },
  {
   "cell_type": "code",
   "execution_count": null,
   "metadata": {
    "collapsed": false
   },
   "outputs": [],
   "source": [
    "for year in range(6, 18):\n",
    "    samps = sampsByYearD[year]\n",
    "    if isinstance(samps, pd.DataFrame):\n",
    "        samps = samps.values\n",
    "    print 'year ', year\n",
    "    #print samps[:, COLUMN_DICT['index']]\n",
    "    print samps[:, COLUMN_DICT['ACETOT']].mean()\n",
    "    print samps[:, COLUMN_DICT['FPL']].mean()"
   ]
  },
  {
   "cell_type": "code",
   "execution_count": null,
   "metadata": {
    "collapsed": false
   },
   "outputs": [],
   "source": [
    "sampDL = []\n",
    "for fname in glob.glob('sav_tweaked.pkl'):\n",
    "    print fname\n",
    "    with open(fname, 'rU') as f:\n",
    "        sampDL.append(pickle.load(f))"
   ]
  },
  {
   "cell_type": "code",
   "execution_count": null,
   "metadata": {
    "collapsed": false
   },
   "outputs": [],
   "source": [
    "sampsByYearD = {}\n",
    "for dct in sampDL:\n",
    "    for year in range(6, 18):\n",
    "        if year not in sampsByYearD:\n",
    "            sampsByYearD[year] = []\n",
    "        samps = dct[year]\n",
    "        if isinstance(samps, pd.DataFrame):\n",
    "            samps = samps.values\n",
    "        sampsByYearD[year].append(samps[:, COLUMN_DICT['ACETOT']].mean())\n",
    "print sampsByYearD"
   ]
  },
  {
   "cell_type": "code",
   "execution_count": null,
   "metadata": {
    "collapsed": false
   },
   "outputs": [],
   "source": [
    "d = sampDL[3]\n",
    "samps = d[10]\n",
    "samps"
   ]
  },
  {
   "cell_type": "code",
   "execution_count": null,
   "metadata": {
    "collapsed": false
   },
   "outputs": [],
   "source": [
    "d = sampDL[3]\n",
    "samps = d[11]\n",
    "samps[:, COLUMN_DICT['ACETOT']]"
   ]
  },
  {
   "cell_type": "code",
   "execution_count": null,
   "metadata": {
    "collapsed": false
   },
   "outputs": [],
   "source": [
    "%config InlineBackend.print_figure_kwargs = {'bbox_inches':None}\n",
    "plt.rcParams[\"figure.figsize\"] = [16, 10]\n",
    "\n",
    "def calcRange(samps):\n",
    "    v = samps['ACETOT'].mean()\n",
    "    sigma = samps['ACETOT'].std()\n",
    "    return v - sigma, v, v + sigma\n",
    "\n",
    "ageL = range(6, 18)\n",
    "lowL = []\n",
    "lowLBL = []\n",
    "lowHBL = []\n",
    "highL = []\n",
    "highLBL = []\n",
    "highHBL = []\n",
    "artistPairL = []\n",
    "labelL = []\n",
    "for age in ageL:\n",
    "    vL, v, vH = calcRange(mkSamps(lowFPLageDFD[age], 10000))\n",
    "    lowL.append(v)\n",
    "    lowLBL.append(vL)\n",
    "    lowHBL.append(vH)\n",
    "    vL, v, vH = calcRange(mkSamps(highFPLageDFD[age], 10000))\n",
    "    highL.append(v)\n",
    "    highLBL.append(vL)\n",
    "    highHBL.append(vH)\n",
    "fig, axes = plt.subplots(1,1)\n",
    "lineArtist, = axes.plot(ageL, lowL, '-')\n",
    "fillArtist = axes.fill_between(ageL, lowLBL, lowHBL, alpha=0.4)\n",
    "artistPairL.append((lineArtist, fillArtist))\n",
    "labelL.append('FPL <= 100 mean +- stdv')\n",
    "lineArtist, = axes.plot(ageL, highL, '-')\n",
    "fillArtist = axes.fill_between(ageL, highLBL, highHBL, alpha=0.4)\n",
    "artistPairL.append((lineArtist, fillArtist))\n",
    "axes.plot(ageL, [np.mean(sampsByYearD[age]) for age in ageL], 'x-')\n",
    "#axes.boxplot([sampsByYearD[age] for age in ageL], positions=ageL)\n",
    "labelL.append('FPL >= 300 mean += stdv')\n",
    "axes.legend(artistPairL, labelL, handler_map={tuple: HandlerTuple()})\n",
    "axes.set_title('Total ACEs Rise Over Time')\n",
    "axes.set_xlabel('Age')\n",
    "axes.set_ylabel('Total ACEs')\n",
    "plt.show()\n"
   ]
  },
  {
   "cell_type": "code",
   "execution_count": null,
   "metadata": {
    "collapsed": true
   },
   "outputs": [],
   "source": [
    "    for gpVal, label in zip(gpValL, labelL):\n",
    "        dayV = allSelMedian[allSelMedian[gpKey]==gpVal][dayKey]\n",
    "        prevV = allSelMedian[allSelMedian[gpKey]==gpVal][valKey]\n",
    "        q1V = allSelQ1[allSelQ1[gpKey]==gpVal][valKey]\n",
    "        q3V = allSelQ3[allSelQ3[gpKey]==gpVal][valKey]\n",
    "        lineArtist, = axes.plot(dayV, prevV, '-')\n",
    "        fillArtist = axes.fill_between(dayV, q1V, q3V, alpha=0.4)\n",
    "        artistPairs.append((lineArtist, fillArtist))\n",
    "    return artistPairs, [(lbl + ' median and IQR') for lbl in labelL]\n"
   ]
  }
 ],
 "metadata": {
  "kernelspec": {
   "display_name": "Python2 (myenv)",
   "language": "python",
   "name": "myenv"
  },
  "language_info": {
   "codemirror_mode": {
    "name": "ipython",
    "version": 2
   },
   "file_extension": ".py",
   "mimetype": "text/x-python",
   "name": "python",
   "nbconvert_exporter": "python",
   "pygments_lexer": "ipython2",
   "version": "2.7.12"
  }
 },
 "nbformat": 4,
 "nbformat_minor": 2
}
