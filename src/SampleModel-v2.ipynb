{
 "cells": [
  {
   "cell_type": "code",
   "execution_count": 1,
   "metadata": {
    "scrolled": true
   },
   "outputs": [],
   "source": [
    "import numpy as np\n",
    "import pandas as pd\n",
    "import scipy.stats\n",
    "import matplotlib.pyplot as plt"
   ]
  },
  {
   "cell_type": "code",
   "execution_count": 2,
   "metadata": {},
   "outputs": [
    {
     "name": "stdout",
     "output_type": "stream",
     "text": [
      "Index(['FIPSST', 'HHID', 'FORMTYPE', 'TOTKIDS_R', 'HHLANGUAGE', 'SC_AGE_YEARS',\n",
      "       'SC_SEX', 'K2Q35A_1_YEARS', 'MOMAGE', 'K6Q41R_STILL',\n",
      "       ...\n",
      "       'BIRTHWT', 'CBSAFP_YN', 'FWC', 'CURRINS', 'INSTYPE', 'HOUSE_GEN',\n",
      "       'HHSIZE_I', 'HHSIZE_IF', 'FPL_IF', 'INSGAP'],\n",
      "      dtype='object', length=422)\n"
     ]
    }
   ],
   "source": [
    "fullDF = pd.read_csv('nsch_2016_topical.csv')\n",
    "print(fullDF.columns)"
   ]
  },
  {
   "cell_type": "markdown",
   "metadata": {},
   "source": [
    "## The Model ##\n",
    "\n",
    "Consider two sequential ages, say 6 and 7 years.  Given an child at one age, the goal is to produce a *guide function* which can be used to select a collection of children at the other age which as a group describe the most likely match to the original child.  Specifically, given a sample of individuals at one age, the guide function should generate samples at the other age having the highest possible *mutual information* with the first group.\n",
    "\n",
    "The guided samples will be selected by applying *Metropolis sampling* using the guide function.  This requires only that the guide function be positive definite and integrable.  In essense the guide function is proportional to the likelihood that a sampled child at one age matches a specific child at the other age.\n",
    "\n",
    "We will develop an appropriate guide function by defining a function of an appropriate form in terms of a set of weights.  Samples will be drawn based on the given weights, the mutual information will be calculated, and the weights will be updated so as to increase the mutual information.  This process will be repeated until the mutual information is maximized.  The set of weights which produces the maximum mutual information is the optimal choice of weights given the initial choice of form for the guide function."
   ]
  },
  {
   "cell_type": "markdown",
   "metadata": {},
   "source": [
    "## The Model ##\n",
    "\n",
    "Consider a child of some given age, say 6 years old, and some definite current state in terms of the other factors that we are considering.  The goal is, based on this current state, to select a plausible future state for this child at age seven.\n",
    "\n",
    "This is accomplished through the use of a *guide function* which can be used to select a collection of children at the other age which as a group describe the most likely match to the original child.  Specifically, given a sample of individuals at one age, the guide function should generate samples for the next simulated age having the highest possible *mutual information* with the first group.\n",
    "\n",
    "The guided samples will be selected by applying *Metropolis sampling* using the guide function.  This requires only that the guide function be positive definite and integrable.  In essense the guide function is proportional to the likelihood that a sampled child at one age matches a specific child at some other age.\n",
    "\n",
    "We will develop an appropriate guide function by defining a function of an appropriate form in terms of a set of weights.  Samples will be drawn based on the given weights, the mutual information will be calculated, and the weights will be updated so as to increase the mutual information.  This process will be repeated until the mutual information is maximized.  The set of weights which produces the maximum mutual information is the optimal choice of weights given the initial choice of form for the guide function.\n",
    "\n",
    "This process will be repeated for each definte state that is encountered during the course of simulation.  Since many of the *possible* states will be very *improbable*, we will not generate and optimized guide function for every possible state; rather, the necessary guide functions will be generated on-the-fly, as needed.  The guide function corresponding to each unique state that the simulation encounters will be memoized, allowing for repeated retrieval without additional computation.  Since we will repeatedly encounter, throughout the simulation, states that are *similar but identical* to states that have already been encountered, we will use the guide function of the most similar state found thusfar as the starting point for the selection of the required guide function by maximizing the mutual information as described previously. \n",
    "\n"
   ]
  },
  {
   "cell_type": "markdown",
   "metadata": {},
   "source": [
    "## Factors we are using ##\n",
    "* ACE7: experienced violence\n",
    "* ACE8: drugs and alcohol\n",
    "* SC_AGE_YEARS: selected child age\n",
    "* K4Q32X01: vision tested by eye doctor (2.0 -> False)\n",
    "* K7Q30: sports teams\n",
    "* K7Q31: clubs or organizations\n",
    "* FPL: percent of federal poverty level?\n",
    "* AGEPOS4: birth order\n",
    "* FWC: sample weight\n",
    "* YEAR: survey year"
   ]
  },
  {
   "cell_type": "code",
   "execution_count": 3,
   "metadata": {},
   "outputs": [
    {
     "name": "stdout",
     "output_type": "stream",
     "text": [
      "28084\n"
     ]
    }
   ],
   "source": [
    "subDF=fullDF[['ACE7', 'ACE8', 'FWC', 'YEAR', 'FPL', 'SC_AGE_YEARS','K4Q32X01', 'K7Q30', 'K7Q31', 'AGEPOS4']]\n",
    "subDF = subDF.dropna()\n",
    "print(len(subDF))\n",
    "#print subDF"
   ]
  },
  {
   "cell_type": "code",
   "execution_count": 4,
   "metadata": {},
   "outputs": [
    {
     "name": "stdout",
     "output_type": "stream",
     "text": [
      "1768\n",
      "1872\n"
     ]
    }
   ],
   "source": [
    "age6DF = subDF[subDF.SC_AGE_YEARS==6]\n",
    "print(len(age6DF))\n",
    "age7DF = subDF[subDF.SC_AGE_YEARS==7]\n",
    "print(len(age7DF))"
   ]
  },
  {
   "cell_type": "markdown",
   "metadata": {},
   "source": [
    "Select samples from the table in a weighted fashion"
   ]
  },
  {
   "cell_type": "code",
   "execution_count": 5,
   "metadata": {},
   "outputs": [
    {
     "name": "stdout",
     "output_type": "stream",
     "text": [
      "       ACE7  ACE8    YEAR    FPL  SC_AGE_YEARS  K4Q32X01  K7Q30  K7Q31  \\\n",
      "24797   2.0   2.0  2016.0  400.0           6.0       1.0    1.0    1.0   \n",
      "47181   2.0   2.0  2016.0  123.0           6.0       1.0    2.0    2.0   \n",
      "17045   2.0   2.0  2016.0  151.0           6.0       2.0    2.0    2.0   \n",
      "3431    2.0   2.0  2016.0   50.0           6.0       1.0    2.0    2.0   \n",
      "22804   2.0   2.0  2016.0  216.0           6.0       2.0    2.0    2.0   \n",
      "16983   1.0   1.0  2016.0  226.0           6.0       2.0    2.0    2.0   \n",
      "32499   2.0   2.0  2016.0  102.0           6.0       2.0    2.0    2.0   \n",
      "17540   2.0   2.0  2016.0  262.0           6.0       2.0    2.0    2.0   \n",
      "18324   2.0   2.0  2016.0  400.0           6.0       2.0    1.0    1.0   \n",
      "34850   2.0   1.0  2016.0  400.0           6.0       2.0    1.0    1.0   \n",
      "\n",
      "       AGEPOS4  \n",
      "24797      3.0  \n",
      "47181      5.0  \n",
      "17045      4.0  \n",
      "3431       3.0  \n",
      "22804      3.0  \n",
      "16983      5.0  \n",
      "32499      2.0  \n",
      "17540      1.0  \n",
      "18324      4.0  \n",
      "34850      1.0  \n"
     ]
    }
   ],
   "source": [
    "def mkSamps(df, nSamp):\n",
    "    fracWt = df['FWC']/df['FWC'].sum()\n",
    "    choices = np.random.choice(len(df), nSamp, p=fracWt)\n",
    "    return df.iloc[choices].drop(columns=['FWC'])\n",
    "nSamp = 10\n",
    "print(mkSamps(age6DF, nSamp))\n"
   ]
  },
  {
   "cell_type": "code",
   "execution_count": 6,
   "metadata": {},
   "outputs": [
    {
     "name": "stdout",
     "output_type": "stream",
     "text": [
      "{'ACE7': 0, 'ACE8': 1, 'YEAR': 2, 'FPL': 3, 'SC_AGE_YEARS': 4, 'K4Q32X01': 5, 'K7Q30': 6, 'K7Q31': 7, 'AGEPOS4': 8}\n"
     ]
    }
   ],
   "source": [
    "COLUMN_DICT = {key : idx for idx, key in enumerate(mkSamps(subDF, 1).columns)}\n",
    "print(COLUMN_DICT)"
   ]
  },
  {
   "cell_type": "markdown",
   "metadata": {},
   "source": [
    "FPL needs to be binned to form a histogram to get the quantization we need for this.  Bins of 50 seems OK."
   ]
  },
  {
   "cell_type": "code",
   "execution_count": 7,
   "metadata": {},
   "outputs": [
    {
     "data": {
      "image/png": "[encoded data removed]",
      "text/plain": [
       "<Figure size 432x288 with 1 Axes>"
      ]
     },
     "metadata": {
      "needs_background": "light"
     },
     "output_type": "display_data"
    }
   ],
   "source": [
    "fplSamps = mkSamps(subDF, 100000)['FPL']\n",
    "plt.hist(fplSamps, bins=100)\n",
    "plt.title('Histogram of FPL values')\n",
    "plt.show()"
   ]
  },
  {
   "cell_type": "markdown",
   "metadata": {},
   "source": [
    "We need to enumerate the possible states for our variables.  Assume fixed age and ignore the ACE components for the moment.  "
   ]
  },
  {
   "cell_type": "code",
   "execution_count": 8,
   "metadata": {},
   "outputs": [],
   "source": [
    "def whichBin(sampV):\n",
    "    \"\"\"\n",
    "    Input is an ndarray of sample values\n",
    "    \"\"\"\n",
    "    fplBinWidth = 50\n",
    "    fplMin = 50\n",
    "    bin = np.abs((sampV[:, COLUMN_DICT['FPL']] - fplMin) // 50).astype('int')\n",
    "    assert (bin >= 0).all() and (bin < 8).all(), 'FPL out of range?'\n",
    "    nBins = 8\n",
    "    # Each of the following is either 1.0 or 2.0\n",
    "    bin = 2 * bin + (sampV[:, COLUMN_DICT['K4Q32X01']] == 1.0)\n",
    "    nBins *= 2\n",
    "    bin = 2 * bin + (sampV[:, COLUMN_DICT['K7Q30']] == 1.0)\n",
    "    nBins *= 2\n",
    "    bin = 2 * bin + (sampV[:, COLUMN_DICT['K7Q31']] == 1.0)\n",
    "    nBins *= 2\n",
    "    return bin, nBins\n",
    "\n",
    "def scatter(idx, vals, target):\n",
    "    \"\"\"target[idx] += vals, but allowing for repeats in idx\"\"\"\n",
    "    np.add.at(target, idx.ravel(), vals.ravel())\n"
   ]
  },
  {
   "cell_type": "code",
   "execution_count": 9,
   "metadata": {},
   "outputs": [],
   "source": [
    "def toHisto(sampV):\n",
    "    \"\"\"Generate a histogram of sample bins\"\"\"\n",
    "    binV, nBins = whichBin(sampV)\n",
    "    targ = np.zeros([nBins], dtype=np.int32)\n",
    "    vals = np.ones([len(sampV)], dtype=np.int32)\n",
    "    scatter(binV, vals, targ)\n",
    "    return targ"
   ]
  },
  {
   "cell_type": "code",
   "execution_count": 10,
   "metadata": {},
   "outputs": [],
   "source": [
    "def toProbV(sampV):\n",
    "    sampH = toHisto(sampV)\n",
    "    probV = sampH.astype(np.float64)\n",
    "    probV /= np.sum(probV)\n",
    "    return probV"
   ]
  },
  {
   "cell_type": "code",
   "execution_count": 11,
   "metadata": {},
   "outputs": [
    {
     "name": "stdout",
     "output_type": "stream",
     "text": [
      "Index(['ACE7', 'ACE8', 'YEAR', 'FPL', 'SC_AGE_YEARS', 'K4Q32X01', 'K7Q30',\n",
      "       'K7Q31', 'AGEPOS4'],\n",
      "      dtype='object')\n",
      "3\n",
      "[42  7 14 19 53 14 19 38 15  7  1  8 33 13 11 16  8  8 12  8 18  8 10 27\n",
      " 11  8  6 12 11 15 11 12  5  4  4 11 14  4  9 27  6  3  5 13 10  4  7 21\n",
      "  6  2  6  9  4  5  7 21 13  8 31 80 23 18 30 95]\n",
      "[0.042 0.007 0.014 0.019 0.053 0.014 0.019 0.038 0.015 0.007 0.001 0.008\n",
      " 0.033 0.013 0.011 0.016 0.008 0.008 0.012 0.008 0.018 0.008 0.01  0.027\n",
      " 0.011 0.008 0.006 0.012 0.011 0.015 0.011 0.012 0.005 0.004 0.004 0.011\n",
      " 0.014 0.004 0.009 0.027 0.006 0.003 0.005 0.013 0.01  0.004 0.007 0.021\n",
      " 0.006 0.002 0.006 0.009 0.004 0.005 0.007 0.021 0.013 0.008 0.031 0.08\n",
      " 0.023 0.018 0.03  0.095]\n"
     ]
    }
   ],
   "source": [
    "sampV = mkSamps(subDF, 1000)\n",
    "print(sampV.columns)\n",
    "print(COLUMN_DICT['FPL'])\n",
    "sampH = toHisto(sampV.values)\n",
    "print(sampH)\n",
    "probV = toProbV(sampV.values)\n",
    "print(probV)"
   ]
  },
  {
   "cell_type": "markdown",
   "metadata": {},
   "source": [
    "Given the probV we can calculate mutual information:\n",
    "$$\n",
    "I(X;Y) = \\sum_{y \\in Y} \\sum_{x \\in X} p(x, y) log \\left (\\frac{p(x,y)}{p(x)p(y)} \\right )\n",
    "$$"
   ]
  },
  {
   "cell_type": "code",
   "execution_count": 12,
   "metadata": {},
   "outputs": [
    {
     "name": "stdout",
     "output_type": "stream",
     "text": [
      "0.5582311801423269\n",
      "3.7734557133672215\n",
      "3.8092558065553765\n"
     ]
    }
   ],
   "source": [
    "def mutualInfo(sampVX, sampVY):\n",
    "    assert len(sampVX) == len(sampVY), 'Sample vector lengths do not match'\n",
    "    binVX, nBinsX = whichBin(sampVX)\n",
    "    binVY, nBinsY = whichBin(sampVY)\n",
    "    assert nBinsX == nBinsY, 'Unexpectedly got different bin counts?'\n",
    "    cA = np.zeros([nBinsX, nBinsX], dtype=np.int32)\n",
    "    idxV = np.ravel_multi_index(np.array([binVX, binVY]), (nBinsX, nBinsX))\n",
    "    np.add.at(cA.ravel(), idxV, np.ones(len(idxV), dtype=np.int32).ravel())\n",
    "    pA = cA.astype(np.float32)\n",
    "    pA /= sum(pA.ravel())\n",
    "    xPV = toProbV(sampVX)\n",
    "    yPV = toProbV(sampVY)\n",
    "    xyPA = np.einsum('i,j->ij', xPV, yPV)  # einsum is my new favorite function\n",
    "    oldErr = np.seterr(invalid='ignore', divide='ignore')\n",
    "    prodA = pA * np.nan_to_num(np.log(pA / xyPA))  # element-wise calculation\n",
    "    np.seterr(**oldErr)\n",
    "    return np.sum(prodA.ravel())\n",
    "\n",
    "sampX = mkSamps(subDF, 3000)\n",
    "sampY = mkSamps(subDF, 3000)\n",
    "print(mutualInfo(sampX.values, sampY.values))\n",
    "print(mutualInfo(sampX.values, sampX.values))\n",
    "print(mutualInfo(sampY.values, sampY.values))"
   ]
  },
  {
   "cell_type": "code",
   "execution_count": 13,
   "metadata": {},
   "outputs": [],
   "source": [
    "########\n",
    "# This implementation (from stackoverflow) produces the same MI values as the one above\n",
    "# stackoverflow.com/questions/20491028/optimal-way-to-compute-pairwise-mutual-information-using-numpy\n",
    "########\n",
    "#from scipy.stats import chi2_contingency\n",
    "#\n",
    "#def calc_MI(x, y, bins):\n",
    "#    c_xy = np.histogram2d(x, y, bins)[0]\n",
    "#    g, p, dof, expected = chi2_contingency(c_xy, lambda_=\"log-likelihood\")\n",
    "#    mi = 0.5 * g / c_xy.sum()\n",
    "#    return mi\n",
    "#\n",
    "#def mutualInfo(sampVX, sampVY):\n",
    "#    assert len(sampVX) == len(sampVY), 'Sample vector lengths do not match'\n",
    "#    binVX, nBinsX = whichBin(sampVX)\n",
    "#    binVY, nBinsY = whichBin(sampVY)\n",
    "#    assert nBinsX == nBinsY, 'Unexpectedly got different bin counts?'\n",
    "#    return calc_MI(binVX, binVY, nBinsX)\n",
    "#\n",
    "#print mutualInfo(sampX.values, sampY.values)\n",
    "#print mutualInfo(sampX.values, sampX.values)\n",
    "#print mutualInfo(sampY.values, sampY.values)"
   ]
  },
  {
   "cell_type": "markdown",
   "metadata": {},
   "source": [
    "Define a scalar function on a pair of samples and a weight vector"
   ]
  },
  {
   "cell_type": "code",
   "execution_count": 14,
   "metadata": {},
   "outputs": [
    {
     "name": "stdout",
     "output_type": "stream",
     "text": [
      "YEAR            1.0000\n",
      "FPL             0.0001\n",
      "SC_AGE_YEARS    1.0000\n",
      "K4Q32X01        1.0000\n",
      "K7Q30           1.0000\n",
      "K7Q31           1.0000\n",
      "AGEPOS4         1.0000\n",
      "dtype: float64\n",
      "[1.e+00 1.e-04 1.e+00 1.e+00 1.e+00 1.e+00 1.e+00]\n",
      "Index(['YEAR', 'FPL', 'SC_AGE_YEARS', 'K4Q32X01', 'K7Q30', 'K7Q31', 'AGEPOS4'], dtype='object')\n"
     ]
    }
   ],
   "source": [
    "wtSer = pd.Series({'YEAR': 1.0,\n",
    "                   'FPL':1.0e-4,  # because it's percent\n",
    "                   'SC_AGE_YEARS': 1.0, \n",
    "                   'K4Q01': 1.0, \n",
    "                   'K4Q32X01': 1.0,\n",
    "                   'K7Q30':1.0,\n",
    "                   'K7Q31': 1.0,\n",
    "                   'AGEPOS4': 1.0}, index=subDF.columns)\n",
    "wtSer = wtSer.drop(labels=['ACE7', 'ACE8', 'FWC'])  # get the right index order but no extra entries\n",
    "print(wtSer)\n",
    "print(wtSer.values)\n",
    "print(wtSer.index)"
   ]
  },
  {
   "cell_type": "code",
   "execution_count": 15,
   "metadata": {},
   "outputs": [],
   "source": [
    "def funV(samps1V, samps2V, wtSerV):\n",
    "    \"\"\"\n",
    "    Returns a numpy vector the columns of which correspond to the input samples\n",
    "    \"\"\"\n",
    "    wtA = wtSerV\n",
    "    #print wtA.shape\n",
    "    #print samps1V.shape\n",
    "    offset = samps1V.shape[1] - wtSerV.shape[0]\n",
    "    #print offset\n",
    "    samp1A = samps1V[:, offset:]\n",
    "    samp2A = samps2V[:, offset:]\n",
    "    delta = samp1A - samp2A\n",
    "    print('delta', delta)\n",
    "    delta *= delta\n",
    "    print('delta^2', delta)\n",
    "    return np.exp(-np.asmatrix(wtA) * np.asmatrix(delta).transpose())\n",
    "    "
   ]
  },
  {
   "cell_type": "code",
   "execution_count": 16,
   "metadata": {},
   "outputs": [],
   "source": [
    "def lnLik(samps1V, samps2V, wtSerV):\n",
    "    \"\"\"\n",
    "    funV has the right shape to fill the role of likelihood in the Metropolis algorithm.  We'll\n",
    "    take the log, and use it as a log likelihood.\n",
    "    \"\"\"\n",
    "    wtA = wtSerV\n",
    "    offset = samps1V.shape[1] - wtSer.shape[0]\n",
    "    samp1A = samps1V[:, offset:]\n",
    "    samp2A = samps2V[:, offset:]\n",
    "    delta = samp1A - samp2A\n",
    "    delta *= delta\n",
    "    return np.asarray((-np.asmatrix(wtA) * np.asmatrix(delta).transpose())).reshape((-1, 1))\n",
    "    "
   ]
  },
  {
   "cell_type": "code",
   "execution_count": 17,
   "metadata": {},
   "outputs": [
    {
     "name": "stdout",
     "output_type": "stream",
     "text": [
      "delta [[   0. -177.   -8.    1.    1.    0.    0.]\n",
      " [   0.  -50.   -5.    1.    0.    0.    1.]\n",
      " [   0.  -76.    1.    0.    0.    0.   -1.]]\n",
      "delta^2 [[0.0000e+00 3.1329e+04 6.4000e+01 1.0000e+00 1.0000e+00 0.0000e+00\n",
      "  0.0000e+00]\n",
      " [0.0000e+00 2.5000e+03 2.5000e+01 1.0000e+00 0.0000e+00 0.0000e+00\n",
      "  1.0000e+00]\n",
      " [0.0000e+00 5.7760e+03 1.0000e+00 0.0000e+00 0.0000e+00 0.0000e+00\n",
      "  1.0000e+00]]\n",
      "[[9.46156576e-31 1.46377851e-12 7.59560800e-02]]\n",
      "[[-44.9696]\n",
      " [-39.8241]\n",
      " [ -3.0164]]\n"
     ]
    }
   ],
   "source": [
    "print(funV(mkSamps(subDF, 3).values, mkSamps(subDF, 3).values, wtSer))\n",
    "llk = lnLik(mkSamps(subDF, 3).values, mkSamps(subDF, 3).values, wtSer)\n",
    "print(llk)"
   ]
  },
  {
   "cell_type": "code",
   "execution_count": 18,
   "metadata": {},
   "outputs": [],
   "source": [
    "# Now we need a mutator\n",
    "def mutate(sampV, df, stepSzV):\n",
    "    \"\"\"\n",
    "    Return a 'mutated' version of sampV, based on the given step sizes.  Unfortunately our samples\n",
    "    are discrete and come from a table, so I'm not sure how to do this unless we first generate\n",
    "    a proximity network of some sort, so for the moment let's just generate a new set of samples-\n",
    "    this corresponds to an infinitely wide mutator.\n",
    "    \"\"\"\n",
    "    return mkSamps(df, len(sampV)).values"
   ]
  },
  {
   "cell_type": "code",
   "execution_count": 19,
   "metadata": {},
   "outputs": [],
   "source": [
    "# And now we can write the Metropolis code.\n",
    "# Thanks to https://python4mpia.github.io/fitting_data/Metropolis-Hastings.html\n",
    "# initial guess for alpha as array.\n",
    "\n",
    "nSamp = 10000\n",
    "testSamps = mkSamps(age6DF, nSamp)\n",
    "guess = mkSamps(age7DF, nSamp)\n",
    "# Prepare storing MCMC chain as array of arrays.\n",
    "A = [guess.values]\n",
    "# define stepsize of MCMC.\n",
    "stepsizes = np.empty([nSamp])\n",
    "stepsizes.fill(0.005)\n",
    "nIter = 10000"
   ]
  },
  {
   "cell_type": "code",
   "execution_count": 20,
   "metadata": {
    "collapsed": true
   },
   "outputs": [
    {
     "name": "stdout",
     "output_type": "stream",
     "text": [
      "0: 0.19375751811601857\n",
      "100: 0.18404834639407963\n",
      "200: 0.19142998761571073\n",
      "300: 0.18803394949779498\n",
      "400: 0.18731330861812368\n",
      "500: 0.1883033029176287\n",
      "600: 0.1905741089850333\n",
      "700: 0.18112849455094215\n",
      "800: 0.18629016113084618\n",
      "900: 0.18748810494597545\n",
      "1000: 0.18648543086816494\n",
      "1100: 0.18426773518245187\n",
      "1200: 0.18802909706986093\n",
      "1300: 0.18657734342923704\n",
      "1400: 0.18837375852142552\n",
      "1500: 0.18135614683573908\n",
      "1600: 0.19110381083973005\n",
      "1700: 0.18849245278306562\n",
      "1800: 0.18652604701512937\n",
      "1900: 0.1804435403968858\n",
      "2000: 0.18815835020216978\n",
      "2100: 0.18486453581484516\n",
      "2200: 0.1864798408267758\n",
      "2300: 0.18848890825438513\n",
      "2400: 0.18921799037081877\n",
      "2500: 0.1820595190401686\n",
      "2600: 0.18501229723780138\n",
      "2700: 0.18357669366481416\n",
      "2800: 0.18956030541590152\n",
      "2900: 0.1883906064603797\n",
      "3000: 0.19073620905673624\n",
      "3100: 0.1896881622949056\n",
      "3200: 0.18800417183905527\n",
      "3300: 0.18760720074767326\n",
      "3400: 0.1899107798022276\n",
      "3500: 0.18819268354493038\n",
      "3600: 0.18420331737013693\n",
      "3700: 0.18505937782719845\n",
      "3800: 0.19133086611595757\n",
      "3900: 0.1885194100385988\n",
      "4000: 0.1852830920593831\n",
      "4100: 0.18710027271593602\n",
      "4200: 0.18443601933104187\n",
      "4300: 0.18312696007126897\n",
      "4400: 0.19119479368894876\n",
      "4500: 0.19103590206932683\n",
      "4600: 0.19054116459168152\n",
      "4700: 0.1841190775673462\n",
      "4800: 0.19436476086029428\n",
      "4900: 0.18940173342354805\n",
      "5000: 0.18378693765027052\n",
      "5100: 0.18338339736495488\n",
      "5200: 0.18156611227110722\n",
      "5300: 0.1828803024063254\n",
      "5400: 0.19007948676958916\n",
      "5500: 0.19351759545967978\n",
      "5600: 0.18195515839660834\n",
      "5700: 0.19220364868885884\n",
      "5800: 0.19227913843034927\n",
      "5900: 0.18479772573513814\n",
      "6000: 0.19052055337245083\n",
      "6100: 0.18661733580501033\n",
      "6200: 0.1825841685283592\n",
      "6300: 0.18853807738838174\n",
      "6400: 0.18449285170922022\n",
      "6500: 0.18746594355495433\n",
      "6600: 0.18240573472798632\n",
      "6700: 0.18558483838176476\n",
      "6800: 0.1906573989239987\n",
      "6900: 0.18369212439648208\n",
      "7000: 0.18031587706828478\n",
      "7100: 0.18252634677723545\n",
      "7200: 0.19135726175359594\n",
      "7300: 0.1948369272576625\n",
      "7400: 0.18664396937023497\n",
      "7500: 0.19175604436703458\n",
      "7600: 0.186276452916747\n",
      "7700: 0.18810015202435112\n",
      "7800: 0.18104480806621442\n",
      "7900: 0.19175602603060116\n",
      "8000: 0.18890764731458837\n",
      "8100: 0.18472209265862394\n",
      "8200: 0.18797242591136354\n",
      "8300: 0.18729121654599268\n",
      "8400: 0.19027868208368384\n",
      "8500: 0.18297740723965658\n",
      "8600: 0.188893817626046\n",
      "8700: 0.1900428964170747\n",
      "8800: 0.18016729684331806\n",
      "8900: 0.18549669895707083\n",
      "9000: 0.19132609593419786\n",
      "9100: 0.1881607794517784\n",
      "9200: 0.18479110017401315\n",
      "9300: 0.18954782972167417\n",
      "9400: 0.19134047427618642\n",
      "9500: 0.18686721246431853\n",
      "9600: 0.1917976646837851\n",
      "9700: 0.1920235761673318\n",
      "9800: 0.18313581663087797\n",
      "9900: 0.18868448255974263\n"
     ]
    },
    {
     "data": {
      "image/png": "[encoded data removed]",
      "text/plain": [
       "<Figure size 432x288 with 1 Axes>"
      ]
     },
     "metadata": {
      "needs_background": "light"
     },
     "output_type": "display_data"
    },
    {
     "data": {
      "image/png": "[encoded data removed]",
      "text/plain": [
       "<Figure size 432x288 with 1 Axes>"
      ]
     },
     "metadata": {
      "needs_background": "light"
     },
     "output_type": "display_data"
    }
   ],
   "source": [
    "# Metropolis-Hastings with nIter iterations.\n",
    "accepted  = np.zeros([nSamp, 1], dtype=np.int)\n",
    "onesV = np.ones([nSamp], dtype=np.int).reshape((-1, 1))\n",
    "zerosV = np.zeros([nSamp], dtype=np.int).reshape((-1, 1))\n",
    "for n in range(nIter):\n",
    "    oldAlpha  = A[-1]  # old parameter value as array\n",
    "    oldLnLik = lnLik(testSamps.values, oldAlpha, wtSer)\n",
    "    newAlpha = mutate(oldAlpha, age7DF, stepsizes)\n",
    "    newLnLik = lnLik(testSamps.values, newAlpha, wtSer)\n",
    "    if (n % 100 == 0):\n",
    "        print('%s: %s' % (n, mutualInfo(testSamps.values, newAlpha)))\n",
    "    choices = np.logical_or(newLnLik > oldLnLik,\n",
    "                            np.random.random(newLnLik.shape) < np.exp(newLnLik - oldLnLik))\n",
    "    rslt = np.choose(choices, [oldAlpha, newAlpha])\n",
    "    A.append(rslt)\n",
    "    accepted += np.choose(choices, [zerosV, onesV])\n",
    "\n",
    "plt.hist(accepted)\n",
    "acceptanceRate = accepted/float(nIter)\n",
    "plt.show()\n",
    "plt.hist(acceptanceRate)\n",
    "plt.show()"
   ]
  },
  {
   "cell_type": "code",
   "execution_count": 22,
   "metadata": {},
   "outputs": [
    {
     "name": "stdout",
     "output_type": "stream",
     "text": [
      "45.9 217.0 2170\n"
     ]
    }
   ],
   "source": [
    "nKeep = accepted.min()/10  # 10 mutations between samples to avoid correlation\n",
    "keepStep = nIter//nKeep\n",
    "burnIn = int(10 * keepStep)\n",
    "print(nKeep, keepStep, burnIn)\n",
    "assert burnIn < nIter, 'Not enough iterations for burn-in'\n",
    "clean = []\n",
    "for idx, sV in enumerate(A[burnIn:]):\n",
    "    if idx % keepStep == 0:\n",
    "        clean.append(sV)\n"
   ]
  },
  {
   "cell_type": "code",
   "execution_count": 23,
   "metadata": {},
   "outputs": [],
   "source": [
    "cleanV = np.concatenate(clean)\n",
    "expandedTestV = np.concatenate([testSamps.values] * len(clean))"
   ]
  },
  {
   "cell_type": "code",
   "execution_count": 26,
   "metadata": {},
   "outputs": [
    {
     "name": "stdout",
     "output_type": "stream",
     "text": [
      "0.9470640137874424\n",
      "0.00543064274186824\n",
      "3.676647479258108\n",
      "3.650408534849724\n"
     ]
    }
   ],
   "source": [
    "#print expandedTestV\n",
    "print(mutualInfo(expandedTestV, cleanV))\n",
    "print(mutualInfo(expandedTestV, mkSamps(age7DF, cleanV.shape[0]).values))\n",
    "print(mutualInfo(expandedTestV, expandedTestV))\n",
    "print(mutualInfo(cleanV, cleanV))"
   ]
  },
  {
   "cell_type": "code",
   "execution_count": 27,
   "metadata": {},
   "outputs": [
    {
     "data": {
      "image/png": "[encoded data removed]",
      "text/plain": [
       "<Figure size 432x288 with 1 Axes>"
      ]
     },
     "metadata": {
      "needs_background": "light"
     },
     "output_type": "display_data"
    },
    {
     "data": {
      "image/png": "[encoded data removed]",
      "text/plain": [
       "<Figure size 432x288 with 1 Axes>"
      ]
     },
     "metadata": {
      "needs_background": "light"
     },
     "output_type": "display_data"
    }
   ],
   "source": [
    "testBins, nBins = whichBin(testSamps.values)\n",
    "rsltBins = whichBin(clean[10])[0]\n",
    "hM, xEdges, yEdges = np.histogram2d(testBins, rsltBins, bins=64)\n",
    "plt.imshow(np.log(hM + 1))\n",
    "plt.show()\n",
    "\n",
    "testBins, nBins = whichBin(expandedTestV)\n",
    "rsltBins = whichBin(cleanV)[0]\n",
    "hM, xEdges, yEdges = np.histogram2d(testBins, rsltBins, bins=64)\n",
    "plt.imshow(np.log(hM + 1))\n",
    "plt.show()\n"
   ]
  },
  {
   "cell_type": "markdown",
   "metadata": {},
   "source": [
    "## Ignore the rest of this ##\n",
    "These bits are just left-overs"
   ]
  },
  {
   "cell_type": "code",
   "execution_count": null,
   "metadata": {},
   "outputs": [],
   "source": [
    "wtDF = pd.DataFrame({'FPL':[1.0, 1.0], 'SC_AGE_YEARS': [1.0, 1.0], 'K4Q01': [1.0, 1.0], 'K4Q32X01': [1.0, 1.0],\n",
    "       'K7Q30':[1.0, 1.0], 'K7Q31': [1.0, 1.0], 'AGEPOS4': [1.0, 1.0]}, index=['ACE7', 'ACE8'])\n",
    "print(wtDF)"
   ]
  },
  {
   "cell_type": "code",
   "execution_count": null,
   "metadata": {},
   "outputs": [],
   "source": [
    "def funV(samps1, samps2, wtDF):\n",
    "    \"\"\"\n",
    "    Returns a numpy matrix the rows of which correspond to ACE7 and ACE8 and\n",
    "    the columns of which correspond to the input samples\n",
    "    \"\"\"\n",
    "    wtA = wtDF.values\n",
    "    offset = samps1.values.shape[1] - wtDF.values.shape[1]\n",
    "    samp1A = samps1.values[:, offset:]\n",
    "    samp2A = samps2.values[:, offset:]\n",
    "    delta = samp1A - samp2A\n",
    "    return np.asmatrix(wtA) * np.asmatrix(delta).transpose()\n",
    "    "
   ]
  },
  {
   "cell_type": "code",
   "execution_count": null,
   "metadata": {},
   "outputs": [],
   "source": [
    "print(funV(mkSamps(subDF, 3), mkSamps(subDF, 3), wtDF))"
   ]
  },
  {
   "cell_type": "markdown",
   "metadata": {
    "collapsed": true
   },
   "source": [
    "$\\mathcal L(\\{M_1,M_2,\\ldots,M_N\\};\\alpha) = \\prod_{n=1}^N p(M_n|\\alpha) = \\prod_{n=1}^N c\\left(\\frac{M_n}{M_\\odot}\\right)^{-\\alpha}$"
   ]
  },
  {
   "cell_type": "code",
   "execution_count": null,
   "metadata": {
    "collapsed": true
   },
   "outputs": [],
   "source": []
  }
 ],
 "metadata": {
  "kernelspec": {
   "display_name": "Python 3 (py3Env)",
   "language": "python",
   "name": "py3env"
  },
  "language_info": {
   "codemirror_mode": {
    "name": "ipython",
    "version": 3
   },
   "file_extension": ".py",
   "mimetype": "text/x-python",
   "name": "python",
   "nbconvert_exporter": "python",
   "pygments_lexer": "ipython3",
   "version": "3.7.3"
  }
 },
 "nbformat": 4,
 "nbformat_minor": 2
}
